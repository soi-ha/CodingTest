{
 "cells": [
  {
   "cell_type": "markdown",
   "metadata": {},
   "source": [
    "### 프로그래머스 - 코딩테스트 문제 풀이"
   ]
  },
  {
   "cell_type": "markdown",
   "metadata": {},
   "source": [
    "### 코딩테스트 입문"
   ]
  },
  {
   "cell_type": "markdown",
   "metadata": {},
   "source": [
    "### Day13"
   ]
  },
  {
   "cell_type": "markdown",
   "metadata": {},
   "source": [
    "#### 컨트롤 Z"
   ]
  },
  {
   "cell_type": "code",
   "execution_count": null,
   "metadata": {},
   "outputs": [],
   "source": [
    "# 처음 작성한 코드, del이나 pop을 사용하면 삭제되면서 리스트의 순서(i)도 변경되어 index Error 발생\n",
    "def solution(s):\n",
    "    s_list = s.split(' ')\n",
    "    for i in range(len(s_list)):\n",
    "        if s_list[i] == 'Z':\n",
    "            # return s_list[i-1]\n",
    "            del s_list[i]\n",
    "            del s_list[i-1]\n",
    "            if i == len(s_list):\n",
    "                break\n",
    "    return s_list"
   ]
  },
  {
   "cell_type": "code",
   "execution_count": null,
   "metadata": {},
   "outputs": [],
   "source": [
    "def solution(s):\n",
    "    # s는 문자열이므로 공백을 기준으로 나눔 \n",
    "    # s_list = ['1','2','Z','4']\n",
    "    s_list = s.split(' ')\n",
    "    for i in range(len(s_list)):\n",
    "        # s_list의 길이 만큼 반복하여 Z찾기\n",
    "        if s_list[i] == 'Z':\n",
    "            # Z를 찾으면 해당 인덱스와 이전 인덱스의 값을 0(int)으로 변경\n",
    "            s_list[i] = 0\n",
    "            s_list[i-1] = 0\n",
    "    # 반복문이 종료되면 다음과 같은 형태\n",
    "    # s_list = ['1',0,0,'4']\n",
    "    # 문자열과 숫자가 섞여있으므로 해당 리스트의 값을 모두 int로 변경시킴\n",
    "    s_list = list(map(int,s_list))\n",
    "    # sum 함수를 통해 리스트의 값을 모두 더함\n",
    "    return sum(s_list)"
   ]
  },
  {
   "cell_type": "markdown",
   "metadata": {},
   "source": [
    "#### 배열의 원소길이"
   ]
  },
  {
   "cell_type": "code",
   "execution_count": null,
   "metadata": {},
   "outputs": [],
   "source": [
    "def solution(strlist):\n",
    "    answer = [len(i) for i in strlist]\n",
    "    return answer"
   ]
  },
  {
   "cell_type": "markdown",
   "metadata": {},
   "source": [
    "#### 중복된 문자 제거"
   ]
  },
  {
   "cell_type": "code",
   "execution_count": null,
   "metadata": {},
   "outputs": [],
   "source": [
    "def solution(my_string):\n",
    "    answer = ''\n",
    "    for i in my_string:\n",
    "        if i not in answer:\n",
    "            answer += i\n",
    "    return answer"
   ]
  },
  {
   "cell_type": "markdown",
   "metadata": {},
   "source": [
    "#### 삼각형의 완성조건(1)"
   ]
  },
  {
   "cell_type": "code",
   "execution_count": null,
   "metadata": {},
   "outputs": [],
   "source": [
    "def solution(sides):\n",
    "    if sum(sides) - max(sides) > max(sides):\n",
    "        return 1\n",
    "    else:\n",
    "        return 2"
   ]
  },
  {
   "cell_type": "code",
   "execution_count": null,
   "metadata": {},
   "outputs": [],
   "source": [
    "# 조금더 간단하게 한줄코드 (다른사람 풀이)\n",
    "return 1 if max(sides) < (sum(sides) - max(sides)) else 2"
   ]
  },
  {
   "cell_type": "markdown",
   "metadata": {},
   "source": [
    "### Day14"
   ]
  },
  {
   "cell_type": "markdown",
   "metadata": {},
   "source": [
    "#### 가까운 수\n",
    "\n",
    "반례 1)  \n",
    "입력값 〉 [2, 3, 4], 1  \n",
    "기댓값 〉 2\n",
    "\n",
    "반례 2)  \n",
    "입력값 〉 [2, 4, 1, 1], 3  \n",
    "기댓값 〉 2"
   ]
  },
  {
   "cell_type": "code",
   "execution_count": null,
   "metadata": {},
   "outputs": [],
   "source": [
    "# answer를 0으로 지정하니까 테스트케이스 17,18에서 계속 오류\n",
    "def solution(array, n):\n",
    "    answer = 100\n",
    "    for i in array:\n",
    "        if abs(n-i) < abs(n-answer):\n",
    "            answer = i\n",
    "        elif abs(n-i) == abs(n-answer):\n",
    "            if answer == 0:\n",
    "                answer = i\n",
    "            else:\n",
    "                answer = min(i,answer)\n",
    "    return answer\n",
    "\n",
    "def solution(array, n):\n",
    "    answer = 100\n",
    "    for i in array:\n",
    "        if abs(n-i) < abs(n-answer):\n",
    "            answer = i\n",
    "        elif abs(n-i) == abs(n-answer):\n",
    "                answer = min(i,answer)\n",
    "    return answer"
   ]
  },
  {
   "cell_type": "markdown",
   "metadata": {},
   "source": [
    "#### 369게임"
   ]
  },
  {
   "cell_type": "code",
   "execution_count": null,
   "metadata": {},
   "outputs": [],
   "source": [
    "def solution(order):\n",
    "    li = ['3','6','9']\n",
    "    result = 0\n",
    "    for i in str(order):\n",
    "        if i in li:\n",
    "            result += 1\n",
    "    return result"
   ]
  },
  {
   "cell_type": "code",
   "execution_count": null,
   "metadata": {},
   "outputs": [],
   "source": [
    "\n",
    "# count()를 사용하면 조금 더 편할 듯 (다른사람 풀이)\n",
    "def solution(order):\n",
    "    answer = 0\n",
    "    order = str(order)\n",
    "    return order.count('3') + order.count('6') + order.count('9')"
   ]
  },
  {
   "cell_type": "markdown",
   "metadata": {},
   "source": [
    "#### 암호해독"
   ]
  },
  {
   "cell_type": "code",
   "execution_count": null,
   "metadata": {},
   "outputs": [],
   "source": [
    "def solution(cipher, code):\n",
    "    answer = ''\n",
    "    for i in range(code-1,len(cipher),code):\n",
    "        answer += cipher[i]\n",
    "    return answer"
   ]
  },
  {
   "cell_type": "code",
   "execution_count": null,
   "metadata": {},
   "outputs": [],
   "source": [
    "# 다른사람 풀이\n",
    "def solution(cipher, code):\n",
    "    answer = cipher[code-1::code]\n",
    "    return answer"
   ]
  },
  {
   "cell_type": "markdown",
   "metadata": {},
   "source": [
    "#### 대문자와 소문자\n",
    "\n",
    "swapcase()를 사용하면 한줄로 가능하다..\n",
    "```python\n",
    "def solution(my_string):\n",
    "    return my_string.swapcase()\n",
    "```"
   ]
  },
  {
   "cell_type": "code",
   "execution_count": null,
   "metadata": {},
   "outputs": [],
   "source": [
    "def solution(my_string):\n",
    "    answer = ''\n",
    "    for i in my_string:\n",
    "        if i.isupper():\n",
    "            answer += i.lower()\n",
    "        else:\n",
    "            answer += i.upper()\n",
    "    return answer"
   ]
  },
  {
   "cell_type": "markdown",
   "metadata": {},
   "source": [
    "### Day15"
   ]
  },
  {
   "cell_type": "markdown",
   "metadata": {},
   "source": [
    "#### 영어가 싫어요"
   ]
  },
  {
   "cell_type": "code",
   "execution_count": null,
   "metadata": {},
   "outputs": [],
   "source": [
    "def solution(numbers):\n",
    "    num = {'zero': '0', 'one': '1', 'two': '2', 'three': '3', 'four': '4', 'five': '5', 'six': '6', 'seven': '7', 'eight': '8', 'nine': '9'}\n",
    "    \n",
    "    for i in list(num.keys()):\n",
    "        if i in numbers:\n",
    "            numbers = numbers.replace(i,num[i])\n",
    "    return int(numbers)"
   ]
  },
  {
   "cell_type": "code",
   "execution_count": null,
   "metadata": {},
   "outputs": [],
   "source": [
    "# enumerate를 사용하여 풀이 (다른 사람 풀이)\n",
    "def solution(numbers):\n",
    "    for num, eng in enumerate([\"zero\", \"one\", \"two\", \"three\", \"four\", \"five\", \"six\", \"seven\", \"eight\", \"nine\"]):\n",
    "        numbers = numbers.replace(eng, str(num))\n",
    "    return int(numbers)"
   ]
  },
  {
   "cell_type": "markdown",
   "metadata": {},
   "source": [
    "#### 인덱스 바꾸기\n",
    "\n",
    "문자열은 해당 방법으로 불가능 (숫자만 가능)\n",
    "`my_string[num1], my_string[num2] = my_string[num2], my_string[num1]`  \n",
    "\n",
    "하지만 my_string을 list로 변경해서 사용하면 된다..\n",
    "```python \n",
    "def solution(my_string, num1, num2):\n",
    "    s = list(my_string)\n",
    "    s[num1],s[num2] = s[num2],s[num1]\n",
    "    return ''.join(s)\n",
    "```"
   ]
  },
  {
   "cell_type": "code",
   "execution_count": null,
   "metadata": {},
   "outputs": [],
   "source": [
    "def solution(my_string, num1, num2):\n",
    "    return my_string[:num1] + my_string[num2] + my_string[num1+1:num2] + my_string[num1] + my_string[num2+1:]"
   ]
  },
  {
   "cell_type": "markdown",
   "metadata": {},
   "source": [
    "#### 한 번만 등장한 문자"
   ]
  },
  {
   "cell_type": "code",
   "execution_count": null,
   "metadata": {},
   "outputs": [],
   "source": [
    "def solution(s):\n",
    "    for i in s:\n",
    "        # i를 카운트했을 때 1이 아니라면 (여러개라면), i 값을 공백으로 변경\n",
    "        if s.count(i) != 1:\n",
    "            s = s.replace(i,'')\n",
    "    return ''.join(sorted(s))"
   ]
  },
  {
   "cell_type": "markdown",
   "metadata": {},
   "source": [
    "#### 약수 구하기"
   ]
  },
  {
   "cell_type": "code",
   "execution_count": null,
   "metadata": {},
   "outputs": [],
   "source": [
    "def solution(n):\n",
    "    result = []\n",
    "    for i in range(1,n+1):\n",
    "        if n % i == 0:\n",
    "            result.append(i)\n",
    "    return result"
   ]
  },
  {
   "cell_type": "markdown",
   "metadata": {},
   "source": [
    "### Day16"
   ]
  },
  {
   "cell_type": "markdown",
   "metadata": {},
   "source": [
    "#### 편지"
   ]
  },
  {
   "cell_type": "code",
   "execution_count": null,
   "metadata": {},
   "outputs": [],
   "source": [
    "def solution(message):\n",
    "    return len(message)*2"
   ]
  },
  {
   "cell_type": "markdown",
   "metadata": {},
   "source": [
    "#### 가장 큰 수 찾기\n",
    "\n",
    "list.index(값) : 원하는 값의 위치를 찾아준다."
   ]
  },
  {
   "cell_type": "code",
   "execution_count": null,
   "metadata": {},
   "outputs": [],
   "source": [
    "def solution(array):\n",
    "    return [max(array), array.index(max(array))]"
   ]
  },
  {
   "cell_type": "markdown",
   "metadata": {},
   "source": [
    "#### 문자열 계산하기\n",
    "\n",
    "eval(): 문자열로 된 표현식을 계산한다."
   ]
  },
  {
   "cell_type": "code",
   "execution_count": null,
   "metadata": {},
   "outputs": [],
   "source": [
    "def solution(my_string):\n",
    "    return eval(my_string)"
   ]
  },
  {
   "cell_type": "code",
   "execution_count": null,
   "metadata": {},
   "outputs": [],
   "source": [
    "# 반례는 my_string이 \"3 + 4 + 3\" 일 수도 있다는 것. (처음에 이걸 고려 안해서 실패함)\n",
    "def solution(my_string):\n",
    "    li = my_string.split(\" \")\n",
    "    # return li\n",
    "    for i in range(len(li)):\n",
    "        if li[i] == \"+\":\n",
    "            li[i+1] = str(int(li[i-1]) + int(li[i+1]))\n",
    "        elif li[i] == \"-\":\n",
    "            li[i+1] = str(int(li[i-1]) - int(li[i+1]))\n",
    "    return int(li[-1])"
   ]
  },
  {
   "cell_type": "markdown",
   "metadata": {},
   "source": [
    "#### 배열의 유사도\n",
    "\n",
    "set의 집합을 사용해서 풀자..!"
   ]
  },
  {
   "cell_type": "code",
   "execution_count": null,
   "metadata": {},
   "outputs": [],
   "source": [
    "def solution(s1, s2):\n",
    "    result = 0\n",
    "    for i in s1:\n",
    "        for j in s2:\n",
    "            if i == j:\n",
    "                result += 1\n",
    "    return result"
   ]
  },
  {
   "cell_type": "code",
   "execution_count": null,
   "metadata": {},
   "outputs": [],
   "source": [
    "# set을 사용해서 집합으로 풀면 완전 간단함...\n",
    "def solution(s1, s2):\n",
    "    return len(set(s1)&set(s2));"
   ]
  },
  {
   "cell_type": "markdown",
   "metadata": {},
   "source": [
    "### 코딩테스트 기초"
   ]
  },
  {
   "cell_type": "markdown",
   "metadata": {},
   "source": [
    "### Day7"
   ]
  },
  {
   "cell_type": "markdown",
   "metadata": {},
   "source": [
    "#### 수열과 구간쿼리 \n",
    "\n",
    "정수 m이 정수 d의 정수배가 될 때, m을 d의 '배수'라고 한다.  \n",
    "여기서 말하는 정수가 음의 정수, 0, 양의 정수를 말하는 거는 알겁니다. 그러면 0은 모든 수의 배수라고 볼 수 있겠죠.\n",
    "\n",
    "다른 사람 코드\n",
    "```python \n",
    "def solution(arr, queries):\n",
    "    for s, e, k in queries:\n",
    "        for i in range(s, e+1):\n",
    "            if i%k == 0:\n",
    "                arr[i] += 1\n",
    "    return arr\n",
    "```"
   ]
  },
  {
   "cell_type": "code",
   "execution_count": null,
   "metadata": {},
   "outputs": [],
   "source": [
    "def solution(arr, queries):\n",
    "    for s,e,k in queries:\n",
    "        for i in range(len(arr[s:e+1])):\n",
    "            if i+s == 0:\n",
    "                arr[i] += 1\n",
    "            elif k == 1:\n",
    "                arr[i] += 1\n",
    "            elif i+s == 1:\n",
    "                continue\n",
    "            elif (i+s) % k == 0:\n",
    "                arr[s+i] += 1\n",
    "    return arr\n"
   ]
  },
  {
   "cell_type": "markdown",
   "metadata": {},
   "source": [
    "#### 배열 만들기2\n",
    "\n",
    "set을 이용해서 풀이하기(다른사람 풀이)\n",
    "```python\n",
    "def solution(l, r):\n",
    "    answer = []\n",
    "    for num in range(l, r + 1):\n",
    "        if not set(str(num)) - set(['0', '5']):\n",
    "            answer.append(num)\n",
    "    return answer if answer else [-1]\n",
    "```"
   ]
  },
  {
   "cell_type": "code",
   "execution_count": null,
   "metadata": {},
   "outputs": [],
   "source": [
    "def solution(l, r):\n",
    "    result = []\n",
    "    trashes = ['1','2','3','4','6','7','8','9']\n",
    "    # 범위 안에 있는 5의 배수들 모두 찾기\n",
    "    for i in range(l,r+1):\n",
    "        if i % 5 == 0:\n",
    "            # '0'과 '5'로만 이루어진 정수 찾기\n",
    "            k = 0\n",
    "            while True:\n",
    "                if str(i)[k] in trashes:\n",
    "                    break\n",
    "                elif k == len(str(i))-1:\n",
    "                    result.append(i)\n",
    "                    break\n",
    "                k += 1\n",
    "    # 만약 빈 배열이면 -1값 result에 추가\n",
    "    if len(result) == 0:\n",
    "        result.append(-1)\n",
    "    return result"
   ]
  },
  {
   "cell_type": "markdown",
   "metadata": {},
   "source": [
    "#### 카운트 업"
   ]
  },
  {
   "cell_type": "code",
   "execution_count": null,
   "metadata": {},
   "outputs": [],
   "source": [
    "def solution(start, end):\n",
    "    return [i for i in range(start,end+1)]"
   ]
  },
  {
   "cell_type": "markdown",
   "metadata": {},
   "source": [
    "#### 콜라츠 수열 만들기"
   ]
  },
  {
   "cell_type": "code",
   "execution_count": null,
   "metadata": {},
   "outputs": [],
   "source": [
    "def solution(n):\n",
    "    result = [n]\n",
    "    while n != 1:\n",
    "        if n % 2 == 0:\n",
    "            n = n // 2\n",
    "            result.append(n)\n",
    "        else:\n",
    "            n = 3 * n + 1\n",
    "            result.append(n)\n",
    "    return result"
   ]
  },
  {
   "cell_type": "markdown",
   "metadata": {},
   "source": [
    "#### 배열 만들기4"
   ]
  },
  {
   "cell_type": "code",
   "execution_count": null,
   "metadata": {},
   "outputs": [],
   "source": [
    "def solution(arr):\n",
    "    i = 0\n",
    "    stk = []\n",
    "    while i < len(arr):\n",
    "        if len(stk) == 0:\n",
    "            stk.append(arr[i])\n",
    "            i += 1\n",
    "        else:\n",
    "            if stk[-1] < arr[i]:\n",
    "                stk.append(arr[i])\n",
    "                i += 1\n",
    "            else:\n",
    "                stk.pop()\n",
    "    return stk"
   ]
  },
  {
   "cell_type": "markdown",
   "metadata": {},
   "source": [
    "### Day8"
   ]
  },
  {
   "cell_type": "markdown",
   "metadata": {},
   "source": [
    "#### 간단한 논리 연산"
   ]
  },
  {
   "cell_type": "code",
   "execution_count": null,
   "metadata": {},
   "outputs": [],
   "source": [
    "def solution(x1, x2, x3, x4):\n",
    "    return (x1 or x2) and (x3 or x4)"
   ]
  },
  {
   "cell_type": "markdown",
   "metadata": {},
   "source": [
    "#### 주사위 게임 3"
   ]
  },
  {
   "cell_type": "code",
   "execution_count": null,
   "metadata": {},
   "outputs": [],
   "source": [
    "from collections import Counter\n",
    "def solution(a, b, c, d):\n",
    "    # 각 값을 리스트로 저장\n",
    "    li = [a,b,c,d]\n",
    "    # li를 Counter 메소드를 사용하여 가장 많이 존재하는 값(most_common)순으로 저장\n",
    "    co = Counter(li).most_common()\n",
    "\n",
    "    # 만약 set 함수를 통해 중복을 제거했을 때, 길이가 1이라면 (즉, a,b,c,d의 값이 모두 같다는 것)\n",
    "    if len(set(li)) == 1:\n",
    "        return 1111*a\n",
    "    # 길이가 2가 나왔을 때,\n",
    "    elif len(set(li)) == 2:\n",
    "        # 가장 많이 나온 값의 횟수가 3이라면 (주사위는 3:1의 값 / 즉 3개는 값이 같고 1개는 값이 다름)\n",
    "        if co[0][1] == 3:\n",
    "            return (10 * co[0][0] + co[1][0]) ** 2\n",
    "        # 가장 많이 나온 값의 횟수가 2라면 (주사위는 2:2의 값)\n",
    "        elif co[0][1] == 2:\n",
    "            return (co[0][0] + co[1][0]) * abs(co[0][0] - co[1][0])\n",
    "    # 길이가 3이라면 (1:1:2 / 2개는 주사위 값이 같음)\n",
    "    elif len(set(li)) == 3:\n",
    "        return co[1][0] * co[2][0]\n",
    "    # 길이가 4로, 주사위의 값이 모두 다르다면\n",
    "    else:\n",
    "        return min(li)"
   ]
  },
  {
   "cell_type": "markdown",
   "metadata": {},
   "source": [
    "#### 글자 이어 붙여 문자열 만들기"
   ]
  },
  {
   "cell_type": "code",
   "execution_count": null,
   "metadata": {},
   "outputs": [],
   "source": [
    "def solution(my_string, index_list):\n",
    "    result = ''\n",
    "    for i in index_list:\n",
    "        result += my_string[i]\n",
    "    return result"
   ]
  },
  {
   "cell_type": "code",
   "execution_count": null,
   "metadata": {},
   "outputs": [],
   "source": [
    "# 한줄 코드 (다른 사람)\n",
    "def solution(my_string, index_list):\n",
    "    return ''.join([my_string[idx] for idx in index_list])"
   ]
  },
  {
   "cell_type": "markdown",
   "metadata": {},
   "source": [
    "#### 9로 나눈 나머지"
   ]
  },
  {
   "cell_type": "code",
   "execution_count": null,
   "metadata": {},
   "outputs": [],
   "source": [
    "def solution(number):\n",
    "    return sum(int(i) for i in number) % 9"
   ]
  },
  {
   "cell_type": "markdown",
   "metadata": {},
   "source": [
    "#### 문자열 여러번 뒤집기"
   ]
  },
  {
   "cell_type": "code",
   "execution_count": null,
   "metadata": {},
   "outputs": [],
   "source": [
    "# 몇개의 테스트케이스에서 에러가 발생 \n",
    "def solution(my_string, queries):\n",
    "    for s,e in queries:\n",
    "        my_string = my_string.replace(my_string[s:e+1],my_string[s:e+1][::-1])\n",
    "    return my_string\n",
    "\n",
    "# 반례\n",
    "# 입력값 〉 \"abab\", [[2, 3]]\n",
    "# 기댓값 〉 \"abba\""
   ]
  },
  {
   "cell_type": "code",
   "execution_count": null,
   "metadata": {},
   "outputs": [],
   "source": [
    "# 새로 작성한 코드\n",
    "# my_string을 리스트로 만들어서 풀이\n",
    "def solution(my_string, queries):\n",
    "    my_string = list(my_string)\n",
    "    for s,e in queries:\n",
    "        my_string[s:e+1] = my_string[s:e+1][::-1]\n",
    "    return ''.join(my_string)"
   ]
  },
  {
   "cell_type": "markdown",
   "metadata": {},
   "source": [
    "### Day9"
   ]
  },
  {
   "cell_type": "markdown",
   "metadata": {},
   "source": [
    "#### 배열 만들기5"
   ]
  },
  {
   "cell_type": "code",
   "execution_count": null,
   "metadata": {},
   "outputs": [],
   "source": [
    "def solution(intStrs, k, s, l):\n",
    "    result = []\n",
    "    for i in intStrs:\n",
    "        if int(i[s:s+l]) > k:\n",
    "            result.append(int(i[s:s+l]))\n",
    "    return result"
   ]
  },
  {
   "cell_type": "markdown",
   "metadata": {},
   "source": [
    "### Day10"
   ]
  },
  {
   "cell_type": "markdown",
   "metadata": {},
   "source": [
    "### Lev1"
   ]
  },
  {
   "cell_type": "markdown",
   "metadata": {},
   "source": [
    "#### 이상한 문자 만들기"
   ]
  },
  {
   "cell_type": "markdown",
   "metadata": {},
   "source": [
    "#### 예산"
   ]
  },
  {
   "cell_type": "markdown",
   "metadata": {},
   "source": [
    "#### 숫자 문자열과 영단어"
   ]
  },
  {
   "cell_type": "markdown",
   "metadata": {},
   "source": [
    "#### [1차]비밀지도"
   ]
  }
 ],
 "metadata": {
  "kernelspec": {
   "display_name": "Python 3",
   "language": "python",
   "name": "python3"
  },
  "language_info": {
   "name": "python",
   "version": "3.11.4"
  },
  "orig_nbformat": 4
 },
 "nbformat": 4,
 "nbformat_minor": 2
}
