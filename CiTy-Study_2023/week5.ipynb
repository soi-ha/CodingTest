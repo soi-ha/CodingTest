{
 "cells": [
  {
   "cell_type": "markdown",
   "metadata": {},
   "source": [
    "### 프로그래머스 - 코딩테스트 문제 풀이"
   ]
  },
  {
   "cell_type": "markdown",
   "metadata": {},
   "source": [
    "### 코딩테스트 입문"
   ]
  },
  {
   "cell_type": "markdown",
   "metadata": {},
   "source": [
    "### Day13"
   ]
  },
  {
   "cell_type": "markdown",
   "metadata": {},
   "source": [
    "### 코딩테스트 기초"
   ]
  },
  {
   "cell_type": "markdown",
   "metadata": {},
   "source": [
    "### Day7"
   ]
  },
  {
   "cell_type": "markdown",
   "metadata": {},
   "source": [
    "#### 수열과 구간쿼리 \n",
    "\n",
    "정수 m이 정수 d의 정수배가 될 때, m을 d의 '배수'라고 한다.  \n",
    "여기서 말하는 정수가 음의 정수, 0, 양의 정수를 말하는 거는 알겁니다. 그러면 0은 모든 수의 배수라고 볼 수 있겠죠.\n",
    "\n",
    "다른 사람 코드\n",
    "```python \n",
    "def solution(arr, queries):\n",
    "    for s, e, k in queries:\n",
    "        for i in range(s, e+1):\n",
    "            if i%k == 0:\n",
    "                arr[i] += 1\n",
    "    return arr\n",
    "```"
   ]
  },
  {
   "cell_type": "code",
   "execution_count": null,
   "metadata": {},
   "outputs": [],
   "source": [
    "def solution(arr, queries):\n",
    "    for s,e,k in queries:\n",
    "        for i in range(len(arr[s:e+1])):\n",
    "            if i+s == 0:\n",
    "                arr[i] += 1\n",
    "            elif k == 1:\n",
    "                arr[i] += 1\n",
    "            elif i+s == 1:\n",
    "                continue\n",
    "            elif (i+s) % k == 0:\n",
    "                arr[s+i] += 1\n",
    "    return arr\n"
   ]
  },
  {
   "cell_type": "markdown",
   "metadata": {},
   "source": [
    "#### 배열 만들기2\n",
    "\n",
    "set을 이용해서 풀이하기(다른사람 풀이)\n",
    "```python\n",
    "def solution(l, r):\n",
    "    answer = []\n",
    "    for num in range(l, r + 1):\n",
    "        if not set(str(num)) - set(['0', '5']):\n",
    "            answer.append(num)\n",
    "    return answer if answer else [-1]\n",
    "```"
   ]
  },
  {
   "cell_type": "code",
   "execution_count": null,
   "metadata": {},
   "outputs": [],
   "source": [
    "def solution(l, r):\n",
    "    result = []\n",
    "    trashes = ['1','2','3','4','6','7','8','9']\n",
    "    # 범위 안에 있는 5의 배수들 모두 찾기\n",
    "    for i in range(l,r+1):\n",
    "        if i % 5 == 0:\n",
    "            # '0'과 '5'로만 이루어진 정수 찾기\n",
    "            k = 0\n",
    "            while True:\n",
    "                if str(i)[k] in trashes:\n",
    "                    break\n",
    "                elif k == len(str(i))-1:\n",
    "                    result.append(i)\n",
    "                    break\n",
    "                k += 1\n",
    "    # 만약 빈 배열이면 -1값 result에 추가\n",
    "    if len(result) == 0:\n",
    "        result.append(-1)\n",
    "    return result"
   ]
  },
  {
   "cell_type": "markdown",
   "metadata": {},
   "source": [
    "#### 카운트 업"
   ]
  },
  {
   "cell_type": "code",
   "execution_count": null,
   "metadata": {},
   "outputs": [],
   "source": [
    "def solution(start, end):\n",
    "    return [i for i in range(start,end+1)]"
   ]
  },
  {
   "cell_type": "markdown",
   "metadata": {},
   "source": [
    "#### 콜라츠 수열 만들기"
   ]
  },
  {
   "cell_type": "code",
   "execution_count": null,
   "metadata": {},
   "outputs": [],
   "source": [
    "def solution(n):\n",
    "    result = [n]\n",
    "    while n != 1:\n",
    "        if n % 2 == 0:\n",
    "            n = n // 2\n",
    "            result.append(n)\n",
    "        else:\n",
    "            n = 3 * n + 1\n",
    "            result.append(n)\n",
    "    return result"
   ]
  },
  {
   "cell_type": "markdown",
   "metadata": {},
   "source": [
    "#### 배열 만들기4"
   ]
  },
  {
   "cell_type": "code",
   "execution_count": null,
   "metadata": {},
   "outputs": [],
   "source": [
    "def solution(arr):\n",
    "    i = 0\n",
    "    stk = []\n",
    "    while i < len(arr):\n",
    "        if len(stk) == 0:\n",
    "            stk.append(arr[i])\n",
    "            i += 1\n",
    "        else:\n",
    "            if stk[-1] < arr[i]:\n",
    "                stk.append(arr[i])\n",
    "                i += 1\n",
    "            else:\n",
    "                stk.pop()\n",
    "    return stk"
   ]
  },
  {
   "cell_type": "markdown",
   "metadata": {},
   "source": [
    "### Day8"
   ]
  },
  {
   "cell_type": "markdown",
   "metadata": {},
   "source": [
    "#### 간단한 논리 연산"
   ]
  },
  {
   "cell_type": "code",
   "execution_count": null,
   "metadata": {},
   "outputs": [],
   "source": [
    "def solution(x1, x2, x3, x4):\n",
    "    return (x1 or x2) and (x3 or x4)"
   ]
  },
  {
   "cell_type": "markdown",
   "metadata": {},
   "source": [
    "#### 주사위 게임 3"
   ]
  },
  {
   "cell_type": "code",
   "execution_count": null,
   "metadata": {},
   "outputs": [],
   "source": [
    "from collections import Counter\n",
    "def solution(a, b, c, d):\n",
    "    # 각 값을 리스트로 저장\n",
    "    li = [a,b,c,d]\n",
    "    # li를 Counter 메소드를 사용하여 가장 많이 존재하는 값(most_common)순으로 저장\n",
    "    co = Counter(li).most_common()\n",
    "\n",
    "    # 만약 set 함수를 통해 중복을 제거했을 때, 길이가 1이라면 (즉, a,b,c,d의 값이 모두 같다는 것)\n",
    "    if len(set(li)) == 1:\n",
    "        return 1111*a\n",
    "    # 길이가 2가 나왔을 때,\n",
    "    elif len(set(li)) == 2:\n",
    "        # 가장 많이 나온 값의 횟수가 3이라면 (주사위는 3:1의 값 / 즉 3개는 값이 같고 1개는 값이 다름)\n",
    "        if co[0][1] == 3:\n",
    "            return (10 * co[0][0] + co[1][0]) ** 2\n",
    "        # 가장 많이 나온 값의 횟수가 2라면 (주사위는 2:2의 값)\n",
    "        elif co[0][1] == 2:\n",
    "            return (co[0][0] + co[1][0]) * abs(co[0][0] - co[1][0])\n",
    "    # 길이가 3이라면 (1:1:2 / 2개는 주사위 값이 같음)\n",
    "    elif len(set(li)) == 3:\n",
    "        return co[1][0] * co[2][0]\n",
    "    # 길이가 4로, 주사위의 값이 모두 다르다면\n",
    "    else:\n",
    "        return min(li)"
   ]
  },
  {
   "cell_type": "markdown",
   "metadata": {},
   "source": [
    "#### 글자 이어 붙여 문자열 만들기"
   ]
  },
  {
   "cell_type": "code",
   "execution_count": null,
   "metadata": {},
   "outputs": [],
   "source": [
    "def solution(my_string, index_list):\n",
    "    result = ''\n",
    "    for i in index_list:\n",
    "        result += my_string[i]\n",
    "    return result"
   ]
  },
  {
   "cell_type": "code",
   "execution_count": null,
   "metadata": {},
   "outputs": [],
   "source": [
    "# 한줄 코드 (다른 사람)\n",
    "def solution(my_string, index_list):\n",
    "    return ''.join([my_string[idx] for idx in index_list])"
   ]
  },
  {
   "cell_type": "markdown",
   "metadata": {},
   "source": [
    "#### 9로 나눈 나머지"
   ]
  },
  {
   "cell_type": "code",
   "execution_count": null,
   "metadata": {},
   "outputs": [],
   "source": [
    "def solution(number):\n",
    "    return sum(int(i) for i in number) % 9"
   ]
  },
  {
   "cell_type": "markdown",
   "metadata": {},
   "source": [
    "#### 문자열 여러번 뒤집기"
   ]
  },
  {
   "cell_type": "code",
   "execution_count": null,
   "metadata": {},
   "outputs": [],
   "source": [
    "# 몇개의 테스트케이스에서 에러가 발생 \n",
    "def solution(my_string, queries):\n",
    "    for s,e in queries:\n",
    "        my_string = my_string.replace(my_string[s:e+1],my_string[s:e+1][::-1])\n",
    "    return my_string\n",
    "\n",
    "# 반례\n",
    "# 입력값 〉 \"abab\", [[2, 3]]\n",
    "# 기댓값 〉 \"abba\""
   ]
  },
  {
   "cell_type": "code",
   "execution_count": null,
   "metadata": {},
   "outputs": [],
   "source": [
    "# 새로 작성한 코드\n",
    "# my_string을 리스트로 만들어서 풀이\n",
    "def solution(my_string, queries):\n",
    "    my_string = list(my_string)\n",
    "    for s,e in queries:\n",
    "        my_string[s:e+1] = my_string[s:e+1][::-1]\n",
    "    return ''.join(my_string)"
   ]
  },
  {
   "cell_type": "markdown",
   "metadata": {},
   "source": [
    "### Lev1"
   ]
  },
  {
   "cell_type": "markdown",
   "metadata": {},
   "source": [
    "#### 이상한 문자 만들기"
   ]
  },
  {
   "cell_type": "markdown",
   "metadata": {},
   "source": [
    "#### 예산"
   ]
  },
  {
   "cell_type": "markdown",
   "metadata": {},
   "source": [
    "#### 숫자 문자열과 영단어"
   ]
  },
  {
   "cell_type": "markdown",
   "metadata": {},
   "source": [
    "#### [1차]비밀지도"
   ]
  }
 ],
 "metadata": {
  "language_info": {
   "name": "python"
  },
  "orig_nbformat": 4
 },
 "nbformat": 4,
 "nbformat_minor": 2
}
