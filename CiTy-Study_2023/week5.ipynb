{
 "cells": [
  {
   "cell_type": "markdown",
   "metadata": {},
   "source": [
    "### 프로그래머스 - 코딩테스트 문제 풀이"
   ]
  },
  {
   "cell_type": "markdown",
   "metadata": {},
   "source": [
    "### 코딩테스트 입문"
   ]
  },
  {
   "cell_type": "markdown",
   "metadata": {},
   "source": [
    "### Day13"
   ]
  },
  {
   "cell_type": "markdown",
   "metadata": {},
   "source": [
    "### 코딩테스트 기초"
   ]
  },
  {
   "cell_type": "markdown",
   "metadata": {},
   "source": [
    "### Day7"
   ]
  },
  {
   "cell_type": "markdown",
   "metadata": {},
   "source": [
    "#### 수열과 구간쿼리 \n",
    "\n",
    "정수 m이 정수 d의 정수배가 될 때, m을 d의 '배수'라고 한다.  \n",
    "여기서 말하는 정수가 음의 정수, 0, 양의 정수를 말하는 거는 알겁니다. 그러면 0은 모든 수의 배수라고 볼 수 있겠죠.\n",
    "\n",
    "다른 사람 코드\n",
    "```python \n",
    "def solution(arr, queries):\n",
    "    for s, e, k in queries:\n",
    "        for i in range(s, e+1):\n",
    "            if i%k == 0:\n",
    "                arr[i] += 1\n",
    "    return arr\n",
    "```"
   ]
  },
  {
   "cell_type": "code",
   "execution_count": null,
   "metadata": {},
   "outputs": [],
   "source": [
    "def solution(arr, queries):\n",
    "    for s,e,k in queries:\n",
    "        for i in range(len(arr[s:e+1])):\n",
    "            if i+s == 0:\n",
    "                arr[i] += 1\n",
    "            elif k == 1:\n",
    "                arr[i] += 1\n",
    "            elif i+s == 1:\n",
    "                continue\n",
    "            elif (i+s) % k == 0:\n",
    "                arr[s+i] += 1\n",
    "    return arr\n"
   ]
  },
  {
   "cell_type": "markdown",
   "metadata": {},
   "source": [
    "#### 배열 만들기2\n",
    "\n",
    "set을 이용해서 풀이하기(다른사람 풀이)\n",
    "```python\n",
    "def solution(l, r):\n",
    "    answer = []\n",
    "    for num in range(l, r + 1):\n",
    "        if not set(str(num)) - set(['0', '5']):\n",
    "            answer.append(num)\n",
    "    return answer if answer else [-1]\n",
    "```"
   ]
  },
  {
   "cell_type": "code",
   "execution_count": null,
   "metadata": {},
   "outputs": [],
   "source": [
    "def solution(l, r):\n",
    "    result = []\n",
    "    trashes = ['1','2','3','4','6','7','8','9']\n",
    "    # 범위 안에 있는 5의 배수들 모두 찾기\n",
    "    for i in range(l,r+1):\n",
    "        if i % 5 == 0:\n",
    "            # '0'과 '5'로만 이루어진 정수 찾기\n",
    "            k = 0\n",
    "            while True:\n",
    "                if str(i)[k] in trashes:\n",
    "                    break\n",
    "                elif k == len(str(i))-1:\n",
    "                    result.append(i)\n",
    "                    break\n",
    "                k += 1\n",
    "    # 만약 빈 배열이면 -1값 result에 추가\n",
    "    if len(result) == 0:\n",
    "        result.append(-1)\n",
    "    return result"
   ]
  },
  {
   "cell_type": "markdown",
   "metadata": {},
   "source": [
    "#### 카운트 업"
   ]
  },
  {
   "cell_type": "code",
   "execution_count": null,
   "metadata": {},
   "outputs": [],
   "source": [
    "def solution(start, end):\n",
    "    return [i for i in range(start,end+1)]"
   ]
  },
  {
   "cell_type": "markdown",
   "metadata": {},
   "source": [
    "#### 콜라츠 수열 만들기"
   ]
  },
  {
   "cell_type": "code",
   "execution_count": null,
   "metadata": {},
   "outputs": [],
   "source": [
    "def solution(n):\n",
    "    result = [n]\n",
    "    while n != 1:\n",
    "        if n % 2 == 0:\n",
    "            n = n // 2\n",
    "            result.append(n)\n",
    "        else:\n",
    "            n = 3 * n + 1\n",
    "            result.append(n)\n",
    "    return result"
   ]
  },
  {
   "cell_type": "markdown",
   "metadata": {},
   "source": [
    "### Lev1"
   ]
  },
  {
   "cell_type": "markdown",
   "metadata": {},
   "source": [
    "#### 이상한 문자 만들기"
   ]
  },
  {
   "cell_type": "markdown",
   "metadata": {},
   "source": [
    "#### 예산"
   ]
  },
  {
   "cell_type": "markdown",
   "metadata": {},
   "source": [
    "#### 숫자 문자열과 영단어"
   ]
  },
  {
   "cell_type": "markdown",
   "metadata": {},
   "source": [
    "#### [1차]비밀지도"
   ]
  }
 ],
 "metadata": {
  "language_info": {
   "name": "python"
  },
  "orig_nbformat": 4
 },
 "nbformat": 4,
 "nbformat_minor": 2
}
