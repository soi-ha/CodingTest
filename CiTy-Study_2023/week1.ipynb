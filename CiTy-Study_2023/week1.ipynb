{
 "cells": [
  {
   "cell_type": "markdown",
   "metadata": {},
   "source": [
    "# Week 1\n",
    "---\n",
    "## 6장, 문자열 조작"
   ]
  },
  {
   "cell_type": "markdown",
   "metadata": {},
   "source": [
    "### 1. 유요한 팰린드롬\n",
    "주어진 문자열이 필린드롬인지 확인하라. 대소문자를 구분하지 않으며, 영문자와 숫자만을 대상으로 한다.\n",
    "\n",
    "_팰린드롬? 앞뒤가 똑같은 단어나 문장. 뒤집어도 같은 말이 되는 것_\n",
    "\n",
    "#### test code\n",
    "- A man, a plan, a canal: Panama  \n",
    "  => true\n",
    "- race a car  \n",
    "  => false"
   ]
  },
  {
   "cell_type": "code",
   "execution_count": 6,
   "metadata": {},
   "outputs": [
    {
     "name": "stdout",
     "output_type": "stream",
     "text": [
      "false\n"
     ]
    }
   ],
   "source": [
    "a = input()\n",
    "text = ''.join(filter(str.isalnum, a)).lower()\n",
    "reverse_text = ''.join(reversed(text))\n",
    "\n",
    "\n",
    "if (text == reverse_text):\n",
    "    print('true')\n",
    "else:\n",
    "    print('false')"
   ]
  },
  {
   "cell_type": "markdown",
   "metadata": {},
   "source": [
    "### 2. 문자열 뒤집기\n",
    "문자열을 뒤집는 함수를 작성하라. 입력값은 문자 배열이며, 리턴 없이 리스트 내부를 직접 조작하라.\n",
    "\n",
    "_타입 힌팅(type hinting)? [관련 글1]('https://www.daleseo.com/python-type-annotations/'), [관련 글2]('https://www.daleseo.com/python-typing/')_\n",
    "\n",
    "#### test code\n",
    "-[\"h\",\"e\",\"l\",\"l\",\"o\"]   \n",
    "  => [\"o\",\"l\",\"l\",\"e\",\"h\"]\n",
    "- [\"H\",\"a\",\"n\",\"n\",\"a\",\"h\"]  \n",
    "  => [\"h\",\"a\",\"n\",\"n\",\"a\",\"H\"]"
   ]
  },
  {
   "cell_type": "code",
   "execution_count": 17,
   "metadata": {},
   "outputs": [
    {
     "name": "stdout",
     "output_type": "stream",
     "text": [
      "None\n"
     ]
    }
   ],
   "source": [
    "from typing import List\n",
    "\n",
    "# a = list((input()).split('\",\"'))\n",
    "a = [\"h\",\"e\",\"l\",\"l\",\"o\"] \n",
    "\n",
    "def reverseString(s: List[str]) -> None:\n",
    "    # print(s)\n",
    "    # print(type(s))\n",
    "    s.reverse()\n",
    "\n",
    "print(reverseString(a))\n",
    "\n",
    "# 풀이2에 있는 방식으로 했는데 음... 뭐가 문제인지 잘...?"
   ]
  },
  {
   "cell_type": "markdown",
   "metadata": {},
   "source": [
    "### 3. 로그 파일 재정렬\n",
    "로그를 재정렬하라. 기준은 다음과 같다.\n",
    "1. 로그의 가장 앞 부분은 식별자다.\n",
    "2. 문자로 구성된 로그가 숫자 로그보다 앞에 온다.\n",
    "3. 식별자는 순서에 영향을 끼치지 않지만, 문자가 동일할 경우 식별자 순으로 한다.\n",
    "4. 숫자 로그는 입력 순서대로 한다.\n",
    "\n",
    "##### test code\n",
    "- logs = [\"dig1 8 1 5 1\", \"let1 art can\", \"dig2 3 6\",\"let2 own kit dig\",\"let3 art zero\"]  \n",
    "  => [\"let1 art can\",\"let3 art zero\",\"let2 own kit dig\",\"dig2 3 6\",\"dig1 8 1 5 1\"]"
   ]
  },
  {
   "cell_type": "code",
   "execution_count": 18,
   "metadata": {},
   "outputs": [
    {
     "name": "stdout",
     "output_type": "stream",
     "text": [
      "['let1 art can', 'let3 art zero', 'let2 own kit dig', 'dig1 8 1 5 1', 'dig2 3 6']\n"
     ]
    }
   ],
   "source": [
    "logs = [\"dig1 8 1 5 1\", \"let1 art can\", \"dig2 3 6\",\"let2 own kit dig\",\"let3 art zero\"]\n",
    "\n",
    "letters, digits = [],[]\n",
    "for log in logs:\n",
    "    if log.split()[1].isdigit():\n",
    "        digits.append(log)\n",
    "    else:\n",
    "        letters.append(log)\n",
    "\n",
    "letters.sort(key=lambda x: (x.split()[1:], x.split()[0]))\n",
    "\n",
    "print(letters + digits)"
   ]
  },
  {
   "cell_type": "markdown",
   "metadata": {},
   "source": [
    "### 4. 가장 흔한 단어\n",
    "금지된 단어를 제외한 가장 흔하게 등장하는 단어를 출력하라. 대소문자 구분을 하지 않으며, 구두점(마침표,쉼표 등) 또한 무시한다.\n",
    "\n",
    "#### test code\n",
    "- paragraph = \"Bob hit a ball, the hit BALL flew far after it was hit.\"   \n",
    "  banned = [\"hit\"]  \n",
    "  => \"ball\""
   ]
  },
  {
   "cell_type": "code",
   "execution_count": 81,
   "metadata": {},
   "outputs": [
    {
     "name": "stdout",
     "output_type": "stream",
     "text": [
      "ball\n"
     ]
    }
   ],
   "source": [
    "import string\n",
    "from collections import Counter\n",
    "\n",
    "paragraph = \"Bob hit a ball, the hit BALL flew far after it was hit.\" \n",
    "banned = [\"hit\"] \n",
    "pa = []\n",
    "\n",
    "paragraph = paragraph.translate(str.maketrans(' ',' ', string.punctuation)).lower()\n",
    "\n",
    "for i in range(len(paragraph.split())):\n",
    "  if paragraph.split()[i] !='hit':\n",
    "    pa.append(paragraph.split()[i])\n",
    "\n",
    "counter = Counter(pa)\n",
    "\n",
    "for i in counter:\n",
    "  if counter[i] == max(counter.values()):\n",
    "    print(i)"
   ]
  },
  {
   "cell_type": "markdown",
   "metadata": {},
   "source": [
    "### 5. 그룹 애너그램\n",
    "문자열 배열을 받아 애너그램 단위로 그룹핑하라.\n",
    "\n",
    "#### test code\n",
    "- [\"eat\",\"tea\",\"tan\",\"ate\",\"nat\",\"bat\"]  \n",
    "  => [\n",
    "    [\"ate\",\"eat\",\"tea\"],\n",
    "    [\"nat\",\"tan\"],\n",
    "    [\"bat\"]\n",
    "  ]"
   ]
  },
  {
   "cell_type": "code",
   "execution_count": 96,
   "metadata": {},
   "outputs": [
    {
     "name": "stdout",
     "output_type": "stream",
     "text": [
      "[['eat', 'tea', 'ate'], ['tan', 'nat'], ['bat']]\n"
     ]
    }
   ],
   "source": [
    "import collections\n",
    "test = [\"eat\",\"tea\",\"tan\",\"ate\",\"nat\",\"bat\"] \n",
    "arg = collections.defaultdict(list)\n",
    "\n",
    "for i in test:\n",
    "    arg[''.join(sorted(i))].append(i)\n",
    "\n",
    "print(list(arg.values()))\n",
    "\n",
    "# 책의 도움을 받아 좀 수정함.."
   ]
  },
  {
   "cell_type": "markdown",
   "metadata": {},
   "source": [
    "### 6. 가장 긴 팰린드롬 부분 문자열\n",
    "가장 긴 팰린드롬 부분 문자열을 출력하라.\n",
    "\n",
    "#### test code\n",
    "- \"babad\"  \n",
    "  => \"bab\" or \"aba\"  \n",
    "- \"cbbd\"  \n",
    "  => \"bb\""
   ]
  },
  {
   "cell_type": "code",
   "execution_count": 101,
   "metadata": {},
   "outputs": [
    {
     "name": "stdout",
     "output_type": "stream",
     "text": [
      "bb\n"
     ]
    }
   ],
   "source": [
    "a = \"cbbd\"\n",
    "text = ''.join(filter(str.isalnum, a)).lower()\n",
    "reverse_text = ''.join(reversed(text))\n",
    "result = []\n",
    "\n",
    "for i in range(len(text)):\n",
    "    if text[i] == reverse_text[i]:\n",
    "        result.append(text[i])\n",
    "\n",
    "print(''.join(result))"
   ]
  },
  {
   "cell_type": "markdown",
   "metadata": {},
   "source": [
    "## 7장 배열\n",
    "---\n",
    "\n",
    "### 7. 두 수의 합\n",
    "덧셈하여 타겟을 만들 수 있는 배열의 두 숫자 인덱스를 리턴하라.\n",
    "\n",
    "#### test code\n",
    "- nums = [2, 7, 11, 15], target = 9  \n",
    "  => [0,1]  \n",
    "  nums[0] + nums[1] = 2 + 7 = 9  따라서, 0,1을 리턴한다."
   ]
  },
  {
   "cell_type": "code",
   "execution_count": 12,
   "metadata": {},
   "outputs": [
    {
     "name": "stdout",
     "output_type": "stream",
     "text": [
      "[0, 1]\n"
     ]
    }
   ],
   "source": [
    "nums = [2, 7, 11, 15]\n",
    "target = 9\n",
    "result = []\n",
    "\n",
    "for i in range(len(nums)):\n",
    "    for j in range(i + 1, len(nums)):\n",
    "        if nums[i] + nums[j] == target:\n",
    "            result.extend([i,j])\n",
    "\n",
    "# list에 여러개를 한번에 추가하고 싶을 때는, append가 아닌 extend!\n",
    "\n",
    "print(result)"
   ]
  },
  {
   "cell_type": "markdown",
   "metadata": {},
   "source": [
    "### 8. 빗물 트래핑\n",
    "높이를 입력받아 비 온 후 얼마나 물이 쌓일 수 있는지 계산하라.\n",
    "\n",
    "#### test code\n",
    "- [0,1,0,2,1,0,1,3,2,1,2,1]  \n",
    "  => 6"
   ]
  },
  {
   "cell_type": "code",
   "execution_count": 44,
   "metadata": {},
   "outputs": [
    {
     "name": "stdout",
     "output_type": "stream",
     "text": [
      "6\n"
     ]
    }
   ],
   "source": [
    "height = [0,1,0,2,1,0,1,3,2,1,2,1] \n",
    "sum = 0\n",
    "for i in range(len(height)):\n",
    "    if i+1 >= len(height):\n",
    "        break\n",
    "    else:\n",
    "        hap = height[i] - height[i+1]\n",
    "        if hap > 0:\n",
    "          sum += hap\n",
    "      \n",
    "\n",
    "# for i in range(len(height)):\n",
    "#     if height[i] != 0:\n",
    "#       for j in range(i+1,len(height)):\n",
    "#           if height[i] <= height[j]:\n",
    "#               mi = 0\n",
    "#               for k in range(i+1, j):  \n",
    "#                   mi += height[k]                 \n",
    "#               sum = (height[i] * (j-i-1)) - mi \n",
    "#           break\n",
    "# 생각하기로는 emurate를 사용해서 위치와 값을 튜플형식으로 빼서 해야 수월할 것 같다.\n",
    "print(sum)\n",
    "\n",
    "# 미완성..."
   ]
  },
  {
   "cell_type": "markdown",
   "metadata": {},
   "source": [
    "### 9. 세 수의 합\n",
    "배열을 입력받아 합으로 0을 만들 수 있는 3개의 엘리먼트를 출력하라.\n",
    "\n",
    "### test code\n",
    "- nums = [-1, 0, 1, 2, -1, -4]  \n",
    "  => [\n",
    "    [-1, 0, 1],\n",
    "    [-1, -1, 2]\n",
    "  ]"
   ]
  },
  {
   "cell_type": "code",
   "execution_count": 46,
   "metadata": {},
   "outputs": [
    {
     "name": "stdout",
     "output_type": "stream",
     "text": [
      "[[-1, -1, 2], [-1, 0, 1]]\n"
     ]
    }
   ],
   "source": [
    "nums = [-1, 0, 1, 2, -1, -4] \n",
    "results = []\n",
    "nums.sort()\n",
    "\n",
    "for i in range(len(nums)-2):\n",
    "    # 중복 값 건너뛰기\n",
    "    if i > 0 and nums[i] == nums[i-1]:\n",
    "        continue\n",
    "    \n",
    "    # 간격 좁히며 sum 계산\n",
    "    left, right = i + 1, len(nums) - 1\n",
    "    while left < right:\n",
    "        sum = nums[i] + nums[left] + nums[right]\n",
    "        if sum < 0:\n",
    "            left += 1\n",
    "        elif sum > 0:\n",
    "            right -= 1\n",
    "        else:\n",
    "            # sum = 0인 경우, 정답 밎 스킵\n",
    "            results.append([nums[i], nums[left], nums[right]])\n",
    "\n",
    "            while left < right and nums[left] == nums[left + 1]:\n",
    "                left += 1\n",
    "            while left < right and nums[right] == nums[right - 1]:\n",
    "                right -= 1\n",
    "            left += 1\n",
    "            right -= 1\n",
    "\n",
    "print(results)"
   ]
  },
  {
   "cell_type": "markdown",
   "metadata": {},
   "source": [
    "### 10. 배열 파티션1\n",
    "n개의 페어를 이용한 min(a,b)의 합으로 만들 수 있는 가장 큰 수를 출력하라.\n",
    "\n",
    "#### test code\n",
    "- [1,4,3,2]  \n",
    "  => 4  \n",
    "  n은 2가 되며, 최대 합은 4이다.  \n",
    "  min(1,2) + min(3,4) = 4"
   ]
  },
  {
   "cell_type": "code",
   "execution_count": 63,
   "metadata": {},
   "outputs": [
    {
     "name": "stdout",
     "output_type": "stream",
     "text": [
      "4\n"
     ]
    }
   ],
   "source": [
    "nums = [1,4,3,2]\n",
    "nums.sort()\n",
    "sum = 0\n",
    "\n",
    "for i in range(len(nums)):\n",
    "    if i % 2 == 0:\n",
    "        sum += nums[i]\n",
    "\n",
    "print(sum)\n"
   ]
  },
  {
   "cell_type": "markdown",
   "metadata": {},
   "source": [
    "### 11. 자신을 제외한 배열의 곱\n",
    "배열을 입력받아 output[i]가 자신을 제외한 나머지 모든 요소의 곱셈 결과가 되도록 출력하라.\n",
    "\n",
    "#### test code\n",
    "- [1,2,3,4]  \n",
    "  => [24,12,8,6]  \n",
    "  주의, 나눗셈을 하지 않고 O(n)에 풀이할 것"
   ]
  },
  {
   "cell_type": "code",
   "execution_count": 105,
   "metadata": {},
   "outputs": [
    {
     "name": "stdout",
     "output_type": "stream",
     "text": [
      "[24, 12, 8, 6]\n"
     ]
    }
   ],
   "source": [
    "nums = [1,2,3,4]\n",
    "result = []\n",
    "\n",
    "for i in range(len(nums)):\n",
    "    mul = 1\n",
    "    for n in nums[i+1::]:\n",
    "        mul *= n\n",
    "    for k in nums[0:i]:\n",
    "        mul *= k\n",
    "    result.append(mul)\n",
    "\n",
    "print(result)\n",
    "## 시간 제한 걸림..\n"
   ]
  },
  {
   "cell_type": "markdown",
   "metadata": {},
   "source": [
    "### 12. 주식을 사고팔기 가장 좋은 시점\n",
    "한 번의 거래로 낼 수 있는 최대 이익을 산출하라\n",
    "\n",
    "#### test code \n",
    "- [7,1,5,3,6,4]  \n",
    "  => 5  \n",
    "  1일 때 사서, 6일때 팔면 5의 이익을 얻는다."
   ]
  },
  {
   "cell_type": "code",
   "execution_count": 110,
   "metadata": {},
   "outputs": [
    {
     "name": "stdout",
     "output_type": "stream",
     "text": [
      "5\n"
     ]
    }
   ],
   "source": [
    "import sys\n",
    "\n",
    "nums = [7,1,5,3,6,4] \n",
    "profit = 0\n",
    "min_price = sys.maxsize\n",
    "\n",
    "for i in nums:\n",
    "    min_price = min(min_price, i)\n",
    "    profit = max(profit, i - min_price)\n",
    "\n",
    "print(profit)\n"
   ]
  },
  {
   "cell_type": "markdown",
   "metadata": {},
   "source": [
    "## 8장 연결리스트\n",
    "---\n",
    "\n",
    "### 13. 팰린드롬 연결 리스트\n",
    "연결 리스트가 팰린드롬 구조인지 판별하라.\n",
    "\n",
    "#### test code \n",
    "- 1->2  \n",
    "  => false\n",
    "- 1->2->2->1  \n",
    "  -> true"
   ]
  },
  {
   "cell_type": "code",
   "execution_count": 14,
   "metadata": {},
   "outputs": [
    {
     "name": "stdout",
     "output_type": "stream",
     "text": [
      "True\n"
     ]
    }
   ],
   "source": [
    "class ListNode(object):\n",
    "    def __init__(self, val=0, next=None):\n",
    "        self.val = val\n",
    "        self.next = next\n",
    "\n",
    "def isPalindrome(self, head: ListNode) -> bool:\n",
    "  rev = None\n",
    "  slow = fast = head\n",
    "\n",
    "\n",
    "  while fast and fast.next:\n",
    "      fast = fast.next.next\n",
    "      rev, rev.next, slow = slow, rev, slow.nex\n",
    "  if fast:\n",
    "      slow = slow.next\n",
    "\n",
    "  while rev and rev.val == slow.val:\n",
    "      slow, rev = slow.next, rev.next\n",
    "      \n",
    "  return not rev"
   ]
  },
  {
   "cell_type": "markdown",
   "metadata": {},
   "source": [
    "### 14. 두 정렬 리스트의 병합\n",
    "정렬되어 있는 두 연결 리스트를 합쳐라.\n",
    "\n",
    "#### test code \n",
    "- 1->2->4, 1->3->4  \n",
    "  => 1->1->2->3->4->4"
   ]
  },
  {
   "cell_type": "code",
   "execution_count": null,
   "metadata": {},
   "outputs": [],
   "source": [
    "class ListNode(object):\n",
    "    def __init__(self, val=0, next=None):\n",
    "        self.val = val\n",
    "        self.next = next\n",
    "\n",
    "def mergeTwoLists(self, l1:ListNode, l2:ListNode) -> ListNode:\n",
    "    if (not l1) or (l2 and l1.val > l2.val):\n",
    "        l1, l2 = l2, l1\n",
    "    if l1:\n",
    "        l1.next = self.mergeTwoLists(l1.next, l2)\n",
    "    return l1"
   ]
  },
  {
   "cell_type": "markdown",
   "metadata": {},
   "source": [
    "### 15. 역순 연결 리스트\n",
    "연결 리스트를 뒤집어라\n",
    "\n",
    "#### test code\n",
    "- 1->2->3->4->5->NULL  \n",
    "  => 5->4->3->2->NULL"
   ]
  },
  {
   "cell_type": "code",
   "execution_count": null,
   "metadata": {},
   "outputs": [],
   "source": [
    "class ListNode(object):\n",
    "    def __init__(self, val=0, next=None):\n",
    "        self.val = val\n",
    "        self.next = next\n",
    "\n",
    "def reverseList1(self, head:ListNode) -> ListNode:\n",
    "    def reverse(node: ListNode, prev: ListNode = None):\n",
    "        if not node:\n",
    "            return prev\n",
    "        next, node.next = node.next, prev\n",
    "        return reverse(next, node)\n",
    "    return reverse(head)\n",
    "\n",
    "def reverseList2(self, head:ListNode) -> ListNode:\n",
    "    node, prev = head, None\n",
    "    \n",
    "    while node:\n",
    "        next, node.next = node.next, prev\n",
    "        prev, node = node, next\n",
    "\n",
    "    return prev"
   ]
  },
  {
   "cell_type": "markdown",
   "metadata": {},
   "source": [
    "### 16. 두 수의 덧셈\n",
    "역순으로 저장된 연결 리스트의 숫자를 더하라.\n",
    "\n",
    "#### test code\n",
    "- (2 -> 4 -> 3) + (5 -> 6 -> 4)  \n",
    "  => 7 -> 0 -> 8"
   ]
  },
  {
   "cell_type": "code",
   "execution_count": null,
   "metadata": {},
   "outputs": [],
   "source": [
    "def addTwoNumbers(self, l1: ListNode, l2: ListNode) -> ListNode:\n",
    "  root = head = ListNode(0)\n",
    "\n",
    "  carry = 0\n",
    "  while l1 or l2 or carry:\n",
    "    sum = 0\n",
    "    # 두 입력값의 합 계산\n",
    "    if l1:\n",
    "      sum += l1.val\n",
    "      l1 = l1.next\n",
    "    if l2:\n",
    "      sum += l2.val\n",
    "      l2 = l2.next\n",
    "\n",
    "    # 몫과 나머지 계산\n",
    "    carry, val = divmod(sum + carry, 10)\n",
    "    head.next = ListNode(val)\n",
    "    head = head.next\n",
    "\n",
    "  return root.next"
   ]
  },
  {
   "cell_type": "markdown",
   "metadata": {},
   "source": [
    "### 17. 페어의 노드 스왑\n",
    "연결 리스트를 입력받아 페어 단위로 스왑하라.\n",
    "\n",
    "#### test code\n",
    "- 1->2->3->4  \n",
    "  => 2->1->4->3"
   ]
  },
  {
   "cell_type": "code",
   "execution_count": null,
   "metadata": {},
   "outputs": [],
   "source": [
    "def swapPairs(self, head: ListNode) -> ListNode:\n",
    "    if head and head.next:\n",
    "        p = head.next\n",
    "\n",
    "        #스왑된 값 리턴 받음\n",
    "        head.next = self.swapPairs(p.next)\n",
    "        p.next = head\n",
    "        return p \n",
    "    return head"
   ]
  },
  {
   "cell_type": "markdown",
   "metadata": {},
   "source": [
    "### 18. 홀짝 연결 리스트\n",
    "연결 리스트를 홀수 번째 노드 다음에 짝수 번째 노드가 오도록 재구성하라. 공간 복잡도 O(1), 시간 복잡도 O(n)에 풀이하라.\n",
    "\n",
    "#### test code \n",
    "- 1->2->3->4->5->NULL  \n",
    "  => 1->3->5->2->4->NULL\n",
    "\n",
    "- 2->1->3->5->6->4->7->NULL  \n",
    "  => 2->3->6->7->1->5->4->NULL"
   ]
  },
  {
   "cell_type": "code",
   "execution_count": null,
   "metadata": {},
   "outputs": [],
   "source": [
    "def oddEvenList(self, head: ListNode) -> ListNode:\n",
    "    # 예외처리\n",
    "    if head is None:\n",
    "        return None\n",
    "    \n",
    "    odd = head\n",
    "    even = head.next\n",
    "    even_head = head.next\n",
    "\n",
    "    # 반복하면서 홀짝 노드 처리\n",
    "    while even and even.next:\n",
    "        odd.next, even.next = odd.next.next, even.next.next\n",
    "        odd, even = odd.next, even.next\n",
    "\n",
    "    # 홀짝 노드의 마지막 짝수 헤드로 연결\n",
    "    odd.next = even_head\n",
    "    return head"
   ]
  },
  {
   "cell_type": "markdown",
   "metadata": {},
   "source": [
    "### 19. 역순 연결 리스트2\n",
    "인덱스 m에서 n까지 역순으로 만들어라. 인덱스 m은 1부터 시작한다.\n",
    "\n",
    "#### test code\n",
    "- 1->2->3->4->5->NULL, m = 2, n = 4  \n",
    "  => 1->4->3->2->5->NULL"
   ]
  },
  {
   "cell_type": "code",
   "execution_count": null,
   "metadata": {},
   "outputs": [],
   "source": [
    "def reverseBetween(self, head: ListNode, m: int, n: int) -> ListNode:\n",
    "    # 예외처리\n",
    "    if not head or m == n:\n",
    "        return head\n",
    "    \n",
    "    root = start = ListNode(None)\n",
    "    root.next = head\n",
    "    for _ in range(m-1):\n",
    "        start = start.next\n",
    "    end = start.next\n",
    "\n",
    "    # 반복하면서 노드 차례대로 뒤집기\n",
    "    for _ in range(n - m):\n",
    "        tmp, start.next, end.next = start.next, end.next, end.next.next\n",
    "        start.next.next = tmp\n",
    "    return root.next"
   ]
  },
  {
   "cell_type": "markdown",
   "metadata": {},
   "source": [
    "## 9장 스택, 큐\n",
    "---\n",
    "\n",
    "### 20. 유효한 괄호\n",
    "괄호로 된 입력값이 올바른지 판별하라\n",
    "\n",
    "#### test code\n",
    "- ()[]{}  \n",
    "  => true"
   ]
  },
  {
   "cell_type": "code",
   "execution_count": null,
   "metadata": {},
   "outputs": [],
   "source": [
    "def isValid(self, s: str) -> bool:\n",
    "    stack = []\n",
    "    table = {\n",
    "        ')': '(',\n",
    "        '}': '{',\n",
    "        ']': '[',\n",
    "    }\n",
    "\n",
    "    # 스택 이용 예외 처리 및 일치 여부 판별\n",
    "    for char in s:\n",
    "        if char not in table:\n",
    "            stack.append(char)\n",
    "        elif not stack or table[char] != stack.pop():\n",
    "            return False\n",
    "    return len(stack) == 0"
   ]
  },
  {
   "cell_type": "markdown",
   "metadata": {},
   "source": [
    "### 21. 중복 문자 제거\n",
    "중복된 문자를 제외하고 사전식 순서로 나열하라.\n",
    "\n",
    "#### test code\n",
    "- \"bcabc\"  \n",
    "  => \"abc\"\n",
    "\n",
    "- \"cbacdcbc\"  \n",
    "  => \"acdb\""
   ]
  },
  {
   "cell_type": "code",
   "execution_count": null,
   "metadata": {},
   "outputs": [],
   "source": [
    "def removeDuplicateLetters(self, s: str) -> str:\n",
    "    for char in sorted(set(s)):\n",
    "      suffix = s[s.index(char):]\n",
    "      # 전체 집합과 접미사 집합이 일치할 때 분리 진행\n",
    "      if set(s) == set(suffix):\n",
    "        return char + self.removeDuplicateLetters(suffix.replace(char, ''))\n",
    "    return ''"
   ]
  },
  {
   "cell_type": "markdown",
   "metadata": {},
   "source": [
    "### 22. 일일 온도\n",
    "매일의 화씨 온도 리스트 T를 입력받아서, 더 따뜻한 날씨를 위해서는 며칠을 더 기다려야 하는지를 출력하라.\n",
    "\n",
    "#### test code\n",
    "- T = [73, 74, 75, 71, 69, 72, 76, 73]  \n",
    "  => [1,1,4,2,1,1,0,0]"
   ]
  },
  {
   "cell_type": "code",
   "execution_count": null,
   "metadata": {},
   "outputs": [],
   "source": [
    "def dailyTemperatures(self, T: List[int]) -> List[int]:\n",
    "    answer = [0] * len(T)\n",
    "    stack = []\n",
    "    for i, cur in enumerate(T):\n",
    "        # 현재 온도가 스택 값보다 높다면 정답 처리\n",
    "        while stack and cur > T[stack[-1]]:\n",
    "            last = stack.pop()\n",
    "            answer[last] = i - last\n",
    "        stack.append(i)\n",
    "    return answer"
   ]
  },
  {
   "cell_type": "markdown",
   "metadata": {},
   "source": [
    "### 23. 큐를 이용한 스택 구현\n",
    "큐를 이용해 다음 연산 지원하는 스택을 구현하라."
   ]
  },
  {
   "cell_type": "code",
   "execution_count": null,
   "metadata": {},
   "outputs": [],
   "source": [
    "class MyStack:\n",
    "    def __init__(self):\n",
    "        self.q = collections.deque()\n",
    "    \n",
    "    def push(self, x):\n",
    "        self.q.append(x)\n",
    "        # 요소 삽입 후 맨 앞에 두는 상태로 재정렬\n",
    "        for _ in range(len(self.q) - 1):\n",
    "            self.q.append(self.q.popleft())\n",
    "\n",
    "    def pop(self):\n",
    "        return self.q.popleft()\n",
    "    \n",
    "    def top(self):\n",
    "        return self.q[0]\n",
    "    \n",
    "    def empty(self):\n",
    "        return len(self.q) == 0"
   ]
  },
  {
   "cell_type": "markdown",
   "metadata": {},
   "source": [
    "### 24. 스택을 이용한 큐 구현\n",
    "스택을 이용해 다음 연산을 지원하는 큐를 구현하라."
   ]
  },
  {
   "cell_type": "code",
   "execution_count": null,
   "metadata": {},
   "outputs": [],
   "source": [
    "class MyQueue:\n",
    "    def __init__(self):\n",
    "        self.input = []\n",
    "        self.output = []\n",
    "    \n",
    "    def push(self, x):\n",
    "        self.input.append(x)\n",
    "\n",
    "    def pop(self):\n",
    "        self.peek()\n",
    "        return self.output.pop()\n",
    "    \n",
    "    def peek(self):\n",
    "        if not self.output:\n",
    "            while self.input:\n",
    "                self.output.append(self.input.pop())\n",
    "        return self.output[-1]\n",
    "    \n",
    "    def empty(self):\n",
    "        return self.input == [] and self.output == []"
   ]
  },
  {
   "cell_type": "markdown",
   "metadata": {},
   "source": [
    "### 25. 원형 큐 디자인\n",
    "원형 큐를 디자인하라."
   ]
  },
  {
   "cell_type": "code",
   "execution_count": null,
   "metadata": {},
   "outputs": [],
   "source": [
    "class MyCircularQueue:\n",
    "    def __init__(self, k: int):\n",
    "        self.front = 0\n",
    "        self.rear = 0\n",
    "        self.q = [None] * k  # None으로 해야됨\n",
    "        self.len = k\n",
    "\n",
    "    def enQueue(self, value: int) -> bool:\n",
    "        # 값을 넣고 rear 포인터가 한 칸 이동함\n",
    "        if self.q[self.rear] is None:\n",
    "            self.q[self.rear] = value\n",
    "            self.rear = (self.rear + 1) % self.len\n",
    "            return True\n",
    "        else:\n",
    "            return False\n",
    "\n",
    "    def deQueue(self) -> bool:\n",
    "        if self.q[self.front] is None:\n",
    "            return False\n",
    "        else:\n",
    "            self.q[self.front] = None\n",
    "            self.front = (self.front + 1) % self.len\n",
    "            return True\n",
    "\n",
    "    def Front(self) -> int:\n",
    "        if self.q[self.front] is None:\n",
    "            return -1\n",
    "        else:\n",
    "            return self.q[self.front]\n",
    "\n",
    "    def Rear(self) -> int:\n",
    "        if self.q[self.rear] is None:\n",
    "            return -1\n",
    "        else:\n",
    "            # 값을 넣고 포인터가 이동하므로, 실제로 출력할 때는 `self.rear - 1`\n",
    "            return self.q[self.rear - 1]\n",
    "\n",
    "    def isEmpty(self) -> bool:\n",
    "        return self.front == self.rear and self.q[self.front] is None\n",
    "\n",
    "    def isFull(self) -> bool:\n",
    "        return self.front == self.rear and self.q[self.front] is not None"
   ]
  }
 ],
 "metadata": {
  "kernelspec": {
   "display_name": "Python 3",
   "language": "python",
   "name": "python3"
  },
  "language_info": {
   "codemirror_mode": {
    "name": "ipython",
    "version": 3
   },
   "file_extension": ".py",
   "mimetype": "text/x-python",
   "name": "python",
   "nbconvert_exporter": "python",
   "pygments_lexer": "ipython3",
   "version": "3.11.4"
  },
  "orig_nbformat": 4
 },
 "nbformat": 4,
 "nbformat_minor": 2
}
