{
 "cells": [
  {
   "cell_type": "markdown",
   "metadata": {},
   "source": [
    "# Week 1\n",
    "---\n",
    "## 6장, 문자열 조작"
   ]
  },
  {
   "cell_type": "markdown",
   "metadata": {},
   "source": [
    "### 유요한 팰린드롬\n",
    "주어진 문자열이 필린드롬인지 확인하라. 대소문자를 구분하지 않으며, 영문자와 숫자만을 대상으로 한다.\n",
    "\n",
    "_팰린드롬? 앞뒤가 똑같은 단어나 문장. 뒤집어도 같은 말이 되는 것_\n",
    "\n",
    "#### test code\n",
    "- A man, a plan, a canal: Panama  \n",
    "  => true\n",
    "- race a car  \n",
    "  => false"
   ]
  },
  {
   "cell_type": "code",
   "execution_count": 6,
   "metadata": {},
   "outputs": [
    {
     "name": "stdout",
     "output_type": "stream",
     "text": [
      "false\n"
     ]
    }
   ],
   "source": [
    "a = input()\n",
    "text = ''.join(filter(str.isalnum, a)).lower()\n",
    "reverse_text = ''.join(reversed(text))\n",
    "\n",
    "\n",
    "if (text == reverse_text):\n",
    "    print('true')\n",
    "else:\n",
    "    print('false')"
   ]
  },
  {
   "cell_type": "markdown",
   "metadata": {},
   "source": [
    "### 문자열 뒤집기\n",
    "문자열을 뒤집는 함수를 작성하라. 입력값은 문자 배열이며, 리턴 없이 리스트 내부를 직접 조작하라.\n",
    "\n",
    "#### test code\n",
    "- [\"h\",\"e\",\"l\",\"l\",\"o\"]  \n",
    "  => [\"o\",\"l\",\"l\",\"e\",\"h\"]\n",
    "- [\"H\",\"a\",\"n\",\"n\",\"a\",\"h\"]\n",
    "  => [\"h\",\"a\",\"n\",\"n\",\"a\",\"H\"]"
   ]
  },
  {
   "cell_type": "code",
   "execution_count": null,
   "metadata": {},
   "outputs": [],
   "source": []
  }
 ],
 "metadata": {
  "kernelspec": {
   "display_name": "Python 3",
   "language": "python",
   "name": "python3"
  },
  "language_info": {
   "codemirror_mode": {
    "name": "ipython",
    "version": 3
   },
   "file_extension": ".py",
   "mimetype": "text/x-python",
   "name": "python",
   "nbconvert_exporter": "python",
   "pygments_lexer": "ipython3",
   "version": "3.11.4"
  },
  "orig_nbformat": 4
 },
 "nbformat": 4,
 "nbformat_minor": 2
}
