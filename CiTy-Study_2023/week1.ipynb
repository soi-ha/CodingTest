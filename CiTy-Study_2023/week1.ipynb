{
 "cells": [
  {
   "cell_type": "markdown",
   "metadata": {},
   "source": [
    "# Week 1\n",
    "---\n",
    "## 6장, 문자열 조작"
   ]
  },
  {
   "cell_type": "markdown",
   "metadata": {},
   "source": [
    "### 1. 유요한 팰린드롬\n",
    "주어진 문자열이 필린드롬인지 확인하라. 대소문자를 구분하지 않으며, 영문자와 숫자만을 대상으로 한다.\n",
    "\n",
    "_팰린드롬? 앞뒤가 똑같은 단어나 문장. 뒤집어도 같은 말이 되는 것_\n",
    "\n",
    "#### test code\n",
    "- A man, a plan, a canal: Panama  \n",
    "  => true\n",
    "- race a car  \n",
    "  => false"
   ]
  },
  {
   "cell_type": "code",
   "execution_count": 6,
   "metadata": {},
   "outputs": [
    {
     "name": "stdout",
     "output_type": "stream",
     "text": [
      "false\n"
     ]
    }
   ],
   "source": [
    "a = input()\n",
    "text = ''.join(filter(str.isalnum, a)).lower()\n",
    "reverse_text = ''.join(reversed(text))\n",
    "\n",
    "\n",
    "if (text == reverse_text):\n",
    "    print('true')\n",
    "else:\n",
    "    print('false')"
   ]
  },
  {
   "cell_type": "markdown",
   "metadata": {},
   "source": [
    "### 2. 문자열 뒤집기\n",
    "문자열을 뒤집는 함수를 작성하라. 입력값은 문자 배열이며, 리턴 없이 리스트 내부를 직접 조작하라.\n",
    "\n",
    "_타입 힌팅(type hinting)? [관련 글1]('https://www.daleseo.com/python-type-annotations/'), [관련 글2]('https://www.daleseo.com/python-typing/')_\n",
    "\n",
    "#### test code\n",
    "-[\"h\",\"e\",\"l\",\"l\",\"o\"]   \n",
    "  => [\"o\",\"l\",\"l\",\"e\",\"h\"]\n",
    "- [\"H\",\"a\",\"n\",\"n\",\"a\",\"h\"]  \n",
    "  => [\"h\",\"a\",\"n\",\"n\",\"a\",\"H\"]"
   ]
  },
  {
   "cell_type": "code",
   "execution_count": 17,
   "metadata": {},
   "outputs": [
    {
     "name": "stdout",
     "output_type": "stream",
     "text": [
      "None\n"
     ]
    }
   ],
   "source": [
    "from typing import List\n",
    "\n",
    "# a = list((input()).split('\",\"'))\n",
    "a = [\"h\",\"e\",\"l\",\"l\",\"o\"] \n",
    "\n",
    "def reverseString(s: List[str]) -> None:\n",
    "    # print(s)\n",
    "    # print(type(s))\n",
    "    s.reverse()\n",
    "\n",
    "print(reverseString(a))\n",
    "\n",
    "# 풀이2에 있는 방식으로 했는데 음... 뭐가 문제인지 잘...?"
   ]
  },
  {
   "cell_type": "markdown",
   "metadata": {},
   "source": [
    "### 3. 로그 파일 재정렬\n",
    "로그를 재정렬하라. 기준은 다음과 같다.\n",
    "1. 로그의 가장 앞 부분은 식별자다.\n",
    "2. 문자로 구성된 로그가 숫자 로그보다 앞에 온다.\n",
    "3. 식별자는 순서에 영향을 끼치지 않지만, 문자가 동일할 경우 식별자 순으로 한다.\n",
    "4. 숫자 로그는 입력 순서대로 한다.\n",
    "\n",
    "##### test code\n",
    "- logs = [\"dig1 8 1 5 1\", \"let1 art can\", \"dig2 3 6\",\"let2 own kit dig\",\"let3 art zero\"]  \n",
    "  => [\"let1 art can\",\"let3 art zero\",\"let2 own kit dig\",\"dig2 3 6\",\"dig1 8 1 5 1\"]"
   ]
  },
  {
   "cell_type": "code",
   "execution_count": 18,
   "metadata": {},
   "outputs": [
    {
     "name": "stdout",
     "output_type": "stream",
     "text": [
      "['let1 art can', 'let3 art zero', 'let2 own kit dig', 'dig1 8 1 5 1', 'dig2 3 6']\n"
     ]
    }
   ],
   "source": [
    "logs = [\"dig1 8 1 5 1\", \"let1 art can\", \"dig2 3 6\",\"let2 own kit dig\",\"let3 art zero\"]\n",
    "\n",
    "letters, digits = [],[]\n",
    "for log in logs:\n",
    "    if log.split()[1].isdigit():\n",
    "        digits.append(log)\n",
    "    else:\n",
    "        letters.append(log)\n",
    "\n",
    "letters.sort(key=lambda x: (x.split()[1:], x.split()[0]))\n",
    "\n",
    "print(letters + digits)"
   ]
  }
 ],
 "metadata": {
  "kernelspec": {
   "display_name": "Python 3",
   "language": "python",
   "name": "python3"
  },
  "language_info": {
   "codemirror_mode": {
    "name": "ipython",
    "version": 3
   },
   "file_extension": ".py",
   "mimetype": "text/x-python",
   "name": "python",
   "nbconvert_exporter": "python",
   "pygments_lexer": "ipython3",
   "version": "3.11.4"
  },
  "orig_nbformat": 4
 },
 "nbformat": 4,
 "nbformat_minor": 2
}
