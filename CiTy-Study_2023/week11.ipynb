{
 "cells": [
  {
   "cell_type": "markdown",
   "metadata": {},
   "source": [
    "### 프로그래머스 - 코딩테스트 문제 풀이\n",
    "\n",
    "### 스택/큐"
   ]
  },
  {
   "cell_type": "markdown",
   "metadata": {},
   "source": [
    "#### 다리를 지나는 트럭"
   ]
  },
  {
   "cell_type": "markdown",
   "metadata": {},
   "source": [
    "#### 주식가격"
   ]
  },
  {
   "cell_type": "markdown",
   "metadata": {},
   "source": [
    "### 해시"
   ]
  },
  {
   "cell_type": "markdown",
   "metadata": {},
   "source": [
    "#### 폰켓몬"
   ]
  },
  {
   "cell_type": "code",
   "execution_count": null,
   "metadata": {},
   "outputs": [],
   "source": [
    "# 이전 풀이 코드\n",
    "def solution(nums):\n",
    "    give = len(nums)//2\n",
    "    new = len(set(nums))\n",
    "    return give if new > give else new\n",
    "\n",
    "# 해시를 사용한 풀이 코드\n",
    "def solution(nums):\n",
    "    give = len(nums)//2\n",
    "    d = {}\n",
    "    for v in nums:\n",
    "        if v in d:\n",
    "            d[v] += 1\n",
    "        else:\n",
    "            d[v] = 1\n",
    "    return give if len(d) > give else len(d)"
   ]
  },
  {
   "cell_type": "markdown",
   "metadata": {},
   "source": [
    "### 완주하지 못한 선수"
   ]
  },
  {
   "cell_type": "code",
   "execution_count": null,
   "metadata": {},
   "outputs": [],
   "source": [
    "# 이전 풀이 코드(해시 사용)\n",
    "def solution(participant, completion):\n",
    "    dic = {}\n",
    "    for i in participant:\n",
    "        dic[i] = 0\n",
    "\n",
    "    for i in participant:\n",
    "        dic[i] += 1\n",
    "    \n",
    "    for c in completion:\n",
    "        dic[c] -= 1\n",
    "        \n",
    "    for k,v in dic.items():\n",
    "        if v > 0: return k"
   ]
  },
  {
   "cell_type": "markdown",
   "metadata": {},
   "source": [
    "#### 전화번호 목록"
   ]
  },
  {
   "cell_type": "code",
   "execution_count": null,
   "metadata": {},
   "outputs": [],
   "source": [
    "def solution(pb):\n",
    "    pb.sort()\n",
    "    \n",
    "    for i in range(len(pb)-1):\n",
    "        if pb[i] == pb[i+1][:len(pb[i])]:\n",
    "            return False\n",
    "    return True"
   ]
  },
  {
   "cell_type": "code",
   "execution_count": null,
   "metadata": {},
   "outputs": [],
   "source": [
    "# 다른분 풀이 (해시)\n",
    "def solution(phone_book):\n",
    "    # 정렬\n",
    "    phone_book.sort(key=len)\n",
    "    hash_table = {}\n",
    "\n",
    "    # 맨 처음 가장 짧은 길이를 저장. min.\n",
    "    min_len = len(phone_book[0])\n",
    "\n",
    "    for target in phone_book:\n",
    "        # loop마다 본인 정보를 hash table에 저장.\n",
    "        hash_table[hash(target)] = target\n",
    "        # min길이부터 +1씩 해서 본인 길이까지 hash table에서 검색.\n",
    "        # 있으면 false, 없으면 true-계속 진행.\n",
    "        for i in range(min_len,len(target)):\n",
    "            try:\n",
    "                if hash_table[hash(target[0:i])]:\n",
    "                    return False\n",
    "            except KeyError:\n",
    "                print('key error')\n",
    "                # 아무 동작 안 해도 됨.\n",
    "\n",
    "    return True"
   ]
  },
  {
   "cell_type": "markdown",
   "metadata": {},
   "source": [
    "#### 의상"
   ]
  },
  {
   "cell_type": "code",
   "execution_count": null,
   "metadata": {},
   "outputs": [],
   "source": [
    "def solution(clothes):\n",
    "    d = {}\n",
    "    # 의상의 종류별로 구분\n",
    "    for i in clothes:\n",
    "        if i[1] in d:\n",
    "            d[i[1]] += 1\n",
    "        else:\n",
    "            d[i[1]] = 1\n",
    "            \n",
    "    num = 1 \n",
    "    # 순열을 이용하여 계산\n",
    "    for v in d.values():\n",
    "        num = (v+1)*num\n",
    "    # 마지막에 1을 빼는 이유\n",
    "    # 모두 안 입는 경우도 포함되기 때문에 해당 경우는 빼준다\n",
    "    return num-1"
   ]
  },
  {
   "cell_type": "markdown",
   "metadata": {},
   "source": [
    "얼굴 : 안입음, 동그란 안경, 검정 선글라스  \n",
    "상의 : 안입음, 파란색 티셔츠  \n",
    "하의 : 안입음, 청바지  \n",
    "\n",
    "입지 않을때 1을 더해서 조합을 구하면 구해진 조합 내에서 (안입음, 안입음, 청바지), (안입음, 파란색 티셔츠, 청바지) 이런식으로도 조합이 되기 때문에 하나만 입을때, 두개 입을때, ... 을 다 구해줍니다  \n",
    "대신 (안입음, 안입음, 안입음) 이런 조합도 나올 수 있기 때문에 1을 빼주는거예요"
   ]
  },
  {
   "cell_type": "markdown",
   "metadata": {},
   "source": [
    "#### 베스트 앨범"
   ]
  }
 ],
 "metadata": {
  "kernelspec": {
   "display_name": "Python 3",
   "language": "python",
   "name": "python3"
  },
  "language_info": {
   "name": "python",
   "version": "3.11.4"
  },
  "orig_nbformat": 4
 },
 "nbformat": 4,
 "nbformat_minor": 2
}
