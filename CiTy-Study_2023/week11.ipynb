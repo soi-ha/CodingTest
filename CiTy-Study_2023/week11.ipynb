{
 "cells": [
  {
   "cell_type": "markdown",
   "metadata": {},
   "source": [
    "### 프로그래머스 - 코딩테스트 문제 풀이\n",
    "\n",
    "### 스택/큐"
   ]
  },
  {
   "cell_type": "markdown",
   "metadata": {},
   "source": [
    "#### 다리를 지나는 트럭"
   ]
  },
  {
   "cell_type": "markdown",
   "metadata": {},
   "source": [
    "#### 주식가격"
   ]
  },
  {
   "cell_type": "markdown",
   "metadata": {},
   "source": [
    "### 해시"
   ]
  },
  {
   "cell_type": "markdown",
   "metadata": {},
   "source": [
    "#### 폰켓몬"
   ]
  },
  {
   "cell_type": "code",
   "execution_count": null,
   "metadata": {},
   "outputs": [],
   "source": [
    "# 이전 풀이 코드\n",
    "def solution(nums):\n",
    "    give = len(nums)//2\n",
    "    new = len(set(nums))\n",
    "    return give if new > give else new\n",
    "\n",
    "# 해시를 사용한 풀이 코드\n",
    "def solution(nums):\n",
    "    give = len(nums)//2\n",
    "    d = {}\n",
    "    for v in nums:\n",
    "        if v in d:\n",
    "            d[v] += 1\n",
    "        else:\n",
    "            d[v] = 1\n",
    "    return give if len(d) > give else len(d)"
   ]
  },
  {
   "cell_type": "markdown",
   "metadata": {},
   "source": [
    "### 완주하지 못한 선수"
   ]
  },
  {
   "cell_type": "code",
   "execution_count": null,
   "metadata": {},
   "outputs": [],
   "source": [
    "# 이전 풀이 코드(해시 사용)\n",
    "def solution(participant, completion):\n",
    "    dic = {}\n",
    "    for i in participant:\n",
    "        dic[i] = 0\n",
    "\n",
    "    for i in participant:\n",
    "        dic[i] += 1\n",
    "    \n",
    "    for c in completion:\n",
    "        dic[c] -= 1\n",
    "        \n",
    "    for k,v in dic.items():\n",
    "        if v > 0: return k"
   ]
  },
  {
   "cell_type": "markdown",
   "metadata": {},
   "source": [
    "#### 전화번호 목록"
   ]
  },
  {
   "cell_type": "markdown",
   "metadata": {},
   "source": [
    "#### 베스트 앨범"
   ]
  },
  {
   "cell_type": "markdown",
   "metadata": {},
   "source": [
    "#### 의상"
   ]
  }
 ],
 "metadata": {
  "kernelspec": {
   "display_name": "Python 3",
   "language": "python",
   "name": "python3"
  },
  "language_info": {
   "name": "python",
   "version": "3.11.4"
  },
  "orig_nbformat": 4
 },
 "nbformat": 4,
 "nbformat_minor": 2
}
