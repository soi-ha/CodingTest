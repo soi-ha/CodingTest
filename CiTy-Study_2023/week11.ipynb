{
 "cells": [
  {
   "cell_type": "markdown",
   "metadata": {},
   "source": [
    "### 프로그래머스 - 코딩테스트 문제 풀이\n",
    "\n",
    "### 스택/큐"
   ]
  },
  {
   "cell_type": "markdown",
   "metadata": {},
   "source": [
    "#### 다리를 지나는 트럭"
   ]
  },
  {
   "cell_type": "code",
   "execution_count": null,
   "metadata": {},
   "outputs": [],
   "source": [
    "# 다른 분 풀이\n",
    "from collections import deque\n",
    "\n",
    "def solution(bridge_length, weight, truck_weights):\n",
    "    # 다리에 있는 트럭\n",
    "    queue = deque([0]*bridge_length)\n",
    "    # 트럭\n",
    "    orders = deque(truck_weights)\n",
    "    time=0\n",
    "    total=0\n",
    "    # 트럭들 있을 때 까지만 반복 (즉, 모두 다리를 건너면 반복 종료)\n",
    "    while orders:\n",
    "        # 다리를 한칸 건너갔기에 total에서 queue의 가장 첫번째를 빼주고, 삭제한다\n",
    "        time+=1\n",
    "        # 다리 위에 올라가있는 트럭의 총 무게\n",
    "        total -= queue[0]\n",
    "        queue.popleft()\n",
    "        # 만약 다리의 하중이 여유가 되지 않는다면 \n",
    "        if total + orders[0] > weight:\n",
    "            # 무게가 0짜리인 트럭을 넣어준다\n",
    "            queue.append(0)\n",
    "        # 만약 다리의 하중이 여유가 된다면\n",
    "        else:\n",
    "            # total에 w를 더해주고\n",
    "            w = orders.popleft()\n",
    "            total+=w\n",
    "            #queue(다리)에 w를 넣어준다\n",
    "            queue.append(w)\n",
    "\n",
    "    return time+bridge_length"
   ]
  },
  {
   "cell_type": "markdown",
   "metadata": {},
   "source": [
    "#### 주식가격\n",
    "[Programmers: 주식가격 (Python)](https://www.pymoon.com/entry/Programmers-%EC%A3%BC%EC%8B%9D%EA%B0%80%EA%B2%A9-Python)"
   ]
  },
  {
   "cell_type": "code",
   "execution_count": null,
   "metadata": {},
   "outputs": [],
   "source": [
    "# 다른 분 풀이\n",
    "def solution(prices):\n",
    "    # 정답의 전체 길이는 prices 와 동일하다. 그래서 prices 길이만큼 0 으로 초기화 시켜주었다.\n",
    "    answer = [0 for _ in range(len(prices))]\n",
    "    stack = list()\n",
    "    # 0 번쨰 값은 미리 스택에 넣어두었다.\n",
    "    stack.append(0)\n",
    "    \n",
    "    # prices 를 인덱스 접근으로 순회\n",
    "    for index in range(1, len(prices)):\n",
    "        # 스택에 값이 있고, 스택의 가장 마지막 (last) 값이 현재 price 보다 크다면 주식 값이 떨어진 것이다.\n",
    "        # 스택의 가장 마지막 값은 인덱스 값이므로 prices[stack[-1]] 로 비교하였다.\n",
    "        while stack and prices[stack[-1]] > prices[index]:\n",
    "            # 현재 price 보다 큰 주식 을 찾는다.\n",
    "            # 바꿔 말하면 index 시점에서 주식이 떨어졌다고 봐도 되는 index 이전의 모든 주식을 찾는다는 얘기다.\n",
    "            # index 이전의 모든 주식은 stack 에 넣어놨기 때문에 stack 을 반복문으로 돈다.\n",
    "            prev = stack.pop()\n",
    "            # prev 는 index 이전의 어느 값이다\n",
    "            # 조건에선 단순 비교를 했고 여기서 실제로 pop 을 해 준다. (파이썬에선 자바의 poll, peek 메서드가 없기 때문)\n",
    "            # prev 시점에 샀던 주식 > index 시점의 주식이 된다.\n",
    "            # 이 인덱스 간의 차이가 기간 (초) 가 된다.\n",
    "            answer[prev] = (index - prev)\n",
    "        \n",
    "        # 현재 주식에 해당하는 index를 넣어준다.\n",
    "        stack.append(index)\n",
    "    \n",
    "    # 여기까지 왔으면 prices 를 전부 순회하였다.\n",
    "    for i in range(len(answer)):\n",
    "        # answer[i] 가 0 이라는 의미는 i 시점에 한번도 주식이 떨어지지 않았다는 것이다.\n",
    "        if answer[i] == 0:\n",
    "            # 그러면 len(prices) 만큼의 시간 동안 끝까지 떨어지지 않았다는 의미이므로\n",
    "            # 전체 prices 길이 - i - 1 을 업데이트 해준다.\n",
    "            answer[i] = len(prices) - i - 1\n",
    "    return answer"
   ]
  },
  {
   "cell_type": "markdown",
   "metadata": {},
   "source": [
    "### 해시"
   ]
  },
  {
   "cell_type": "markdown",
   "metadata": {},
   "source": [
    "#### 폰켓몬"
   ]
  },
  {
   "cell_type": "code",
   "execution_count": null,
   "metadata": {},
   "outputs": [],
   "source": [
    "# 이전 풀이 코드\n",
    "def solution(nums):\n",
    "    give = len(nums)//2\n",
    "    new = len(set(nums))\n",
    "    return give if new > give else new\n",
    "\n",
    "# 해시를 사용한 풀이 코드\n",
    "def solution(nums):\n",
    "    give = len(nums)//2\n",
    "    d = {}\n",
    "    for v in nums:\n",
    "        if v in d:\n",
    "            d[v] += 1\n",
    "        else:\n",
    "            d[v] = 1\n",
    "    return give if len(d) > give else len(d)"
   ]
  },
  {
   "cell_type": "markdown",
   "metadata": {},
   "source": [
    "### 완주하지 못한 선수"
   ]
  },
  {
   "cell_type": "code",
   "execution_count": null,
   "metadata": {},
   "outputs": [],
   "source": [
    "# 이전 풀이 코드(해시 사용)\n",
    "def solution(participant, completion):\n",
    "    dic = {}\n",
    "    for i in participant:\n",
    "        dic[i] = 0\n",
    "\n",
    "    for i in participant:\n",
    "        dic[i] += 1\n",
    "    \n",
    "    for c in completion:\n",
    "        dic[c] -= 1\n",
    "        \n",
    "    for k,v in dic.items():\n",
    "        if v > 0: return k"
   ]
  },
  {
   "cell_type": "markdown",
   "metadata": {},
   "source": [
    "#### 전화번호 목록"
   ]
  },
  {
   "cell_type": "code",
   "execution_count": null,
   "metadata": {},
   "outputs": [],
   "source": [
    "def solution(pb):\n",
    "    pb.sort()\n",
    "    \n",
    "    for i in range(len(pb)-1):\n",
    "        if pb[i] == pb[i+1][:len(pb[i])]:\n",
    "            return False\n",
    "    return True"
   ]
  },
  {
   "cell_type": "code",
   "execution_count": null,
   "metadata": {},
   "outputs": [],
   "source": [
    "# 다른분 풀이 (해시)\n",
    "def solution(phone_book):\n",
    "    # 정렬\n",
    "    phone_book.sort(key=len)\n",
    "    hash_table = {}\n",
    "\n",
    "    # 맨 처음 가장 짧은 길이를 저장. min.\n",
    "    min_len = len(phone_book[0])\n",
    "\n",
    "    for target in phone_book:\n",
    "        # loop마다 본인 정보를 hash table에 저장.\n",
    "        hash_table[hash(target)] = target\n",
    "        # min길이부터 +1씩 해서 본인 길이까지 hash table에서 검색.\n",
    "        # 있으면 false, 없으면 true-계속 진행.\n",
    "        for i in range(min_len,len(target)):\n",
    "            try:\n",
    "                if hash_table[hash(target[0:i])]:\n",
    "                    return False\n",
    "            except KeyError:\n",
    "                print('key error')\n",
    "                # 아무 동작 안 해도 됨.\n",
    "\n",
    "    return True"
   ]
  },
  {
   "cell_type": "markdown",
   "metadata": {},
   "source": [
    "#### 의상"
   ]
  },
  {
   "cell_type": "code",
   "execution_count": null,
   "metadata": {},
   "outputs": [],
   "source": [
    "def solution(clothes):\n",
    "    d = {}\n",
    "    # 의상의 종류별로 구분\n",
    "    for i in clothes:\n",
    "        if i[1] in d:\n",
    "            d[i[1]] += 1\n",
    "        else:\n",
    "            d[i[1]] = 1\n",
    "            \n",
    "    num = 1 \n",
    "    # 순열을 이용하여 계산\n",
    "    for v in d.values():\n",
    "        num = (v+1)*num\n",
    "    # 마지막에 1을 빼는 이유\n",
    "    # 모두 안 입는 경우도 포함되기 때문에 해당 경우는 빼준다\n",
    "    return num-1"
   ]
  },
  {
   "cell_type": "markdown",
   "metadata": {},
   "source": [
    "얼굴 : 안입음, 동그란 안경, 검정 선글라스  \n",
    "상의 : 안입음, 파란색 티셔츠  \n",
    "하의 : 안입음, 청바지  \n",
    "\n",
    "입지 않을때 1을 더해서 조합을 구하면 구해진 조합 내에서 (안입음, 안입음, 청바지), (안입음, 파란색 티셔츠, 청바지) 이런식으로도 조합이 되기 때문에 하나만 입을때, 두개 입을때, ... 을 다 구해줍니다  \n",
    "대신 (안입음, 안입음, 안입음) 이런 조합도 나올 수 있기 때문에 1을 빼주는거예요"
   ]
  },
  {
   "cell_type": "markdown",
   "metadata": {},
   "source": [
    "#### 베스트 앨범"
   ]
  }
 ],
 "metadata": {
  "kernelspec": {
   "display_name": "Python 3",
   "language": "python",
   "name": "python3"
  },
  "language_info": {
   "name": "python",
   "version": "3.11.4"
  },
  "orig_nbformat": 4
 },
 "nbformat": 4,
 "nbformat_minor": 2
}
