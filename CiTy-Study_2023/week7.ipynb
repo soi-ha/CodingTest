{
 "cells": [
  {
   "cell_type": "markdown",
   "metadata": {},
   "source": [
    "### 프로그래머스 - 코딩테스트 문제풀이"
   ]
  },
  {
   "cell_type": "markdown",
   "metadata": {},
   "source": [
    "### 코딩테스트 기초"
   ]
  },
  {
   "cell_type": "markdown",
   "metadata": {},
   "source": [
    "### Day17"
   ]
  },
  {
   "cell_type": "markdown",
   "metadata": {},
   "source": [
    "#### 특정 문자열로 끝나는 가장 긴 부분 문자열 찾기"
   ]
  },
  {
   "cell_type": "code",
   "execution_count": null,
   "metadata": {},
   "outputs": [],
   "source": [
    "def solution(myString, pat):\n",
    "    if myString.count(pat)>1:\n",
    "        ms = myString.replace(pat,'-', myString.count(pat)-1)\n",
    "        return myString[:ms.index(pat)+len(pat)]\n",
    "    return myString[:myString.index(pat)+len(pat)]"
   ]
  },
  {
   "cell_type": "markdown",
   "metadata": {},
   "source": [
    "#### 묹자열이 몇번 등장하는지 세기"
   ]
  },
  {
   "cell_type": "code",
   "execution_count": null,
   "metadata": {},
   "outputs": [],
   "source": [
    "def solution(myString, pat):\n",
    "    result = 0\n",
    "    for i in range(len(myString)):\n",
    "        if myString[i:i+len(pat)] == pat:\n",
    "            result += 1\n",
    "    return result"
   ]
  },
  {
   "cell_type": "markdown",
   "metadata": {},
   "source": [
    "#### ad 제거하기"
   ]
  },
  {
   "cell_type": "code",
   "execution_count": null,
   "metadata": {},
   "outputs": [],
   "source": [
    "def solution(strArr):\n",
    "    # return [strArr.remove(i) if 'ad' in i else pass for i in strArr]\n",
    "    return [i for i in strArr if 'ad' not in i]"
   ]
  },
  {
   "cell_type": "markdown",
   "metadata": {},
   "source": [
    "#### 공백으로 구분하기1"
   ]
  },
  {
   "cell_type": "code",
   "execution_count": null,
   "metadata": {},
   "outputs": [],
   "source": [
    "def solution(my_string):\n",
    "    return my_string.split(' ')"
   ]
  },
  {
   "cell_type": "markdown",
   "metadata": {},
   "source": [
    "#### 공백으로 구분하기2"
   ]
  },
  {
   "cell_type": "markdown",
   "metadata": {},
   "source": [
    "split를 파라미터를 넣지않고 실행하면 띄어쓰기 혹은 개행문자에 맞춰 문자열을 나눠줌\n",
    "\n",
    "```python\n",
    "return my_string.split()\n",
    "```"
   ]
  },
  {
   "cell_type": "code",
   "execution_count": null,
   "metadata": {},
   "outputs": [],
   "source": [
    "def solution(my_string):\n",
    "    my_string = my_string.strip().split(' ')\n",
    "        \n",
    "    return [i for i in my_string if i.isalpha()]"
   ]
  },
  {
   "cell_type": "markdown",
   "metadata": {},
   "source": [
    "### Day18"
   ]
  },
  {
   "cell_type": "markdown",
   "metadata": {},
   "source": [
    "#### x사이의 개수"
   ]
  },
  {
   "cell_type": "code",
   "execution_count": null,
   "metadata": {},
   "outputs": [],
   "source": [
    "def solution(myString):\n",
    "    myString.split('x')\n",
    "    return [len(i) for i in myString.split('x')]"
   ]
  },
  {
   "cell_type": "markdown",
   "metadata": {},
   "source": [
    "#### 문자열을 잘라서 정렬하기"
   ]
  },
  {
   "cell_type": "code",
   "execution_count": null,
   "metadata": {},
   "outputs": [],
   "source": [
    "def solution(myString):\n",
    "    m = myString.split('x')\n",
    "    return sorted([i for i in m if i.isalpha()])"
   ]
  },
  {
   "cell_type": "markdown",
   "metadata": {},
   "source": [
    "#### 간단한 식 계산하기"
   ]
  },
  {
   "cell_type": "code",
   "execution_count": null,
   "metadata": {},
   "outputs": [],
   "source": [
    "def solution(binomial):\n",
    "    return eval(binomial)"
   ]
  },
  {
   "cell_type": "markdown",
   "metadata": {},
   "source": [
    "#### 문자열 바꿔서 찾기"
   ]
  },
  {
   "cell_type": "code",
   "execution_count": null,
   "metadata": {},
   "outputs": [],
   "source": [
    "def solution(myString, pat):\n",
    "    return 1 if pat in myString.translate(myString.maketrans({'A':'B','B':'A'})) else 0"
   ]
  },
  {
   "cell_type": "markdown",
   "metadata": {},
   "source": [
    "#### rny_string"
   ]
  },
  {
   "cell_type": "code",
   "execution_count": null,
   "metadata": {},
   "outputs": [],
   "source": [
    "def solution(rny_string):\n",
    "    return rny_string.replace('m','rn')"
   ]
  },
  {
   "cell_type": "markdown",
   "metadata": {},
   "source": [
    "### Day19"
   ]
  },
  {
   "cell_type": "markdown",
   "metadata": {},
   "source": [
    "#### 세개의 구분자"
   ]
  },
  {
   "cell_type": "code",
   "execution_count": null,
   "metadata": {},
   "outputs": [],
   "source": [
    "def solution(myStr):\n",
    "    myStr = myStr.translate(myStr.maketrans({'a':'_', 'b':'_', 'c':'_'}))\n",
    "    m = myStr.split('_')\n",
    "    return [i for i in m if i != ''] if len(m) != m.count('') else ['EMPTY']\n",
    "            "
   ]
  },
  {
   "cell_type": "markdown",
   "metadata": {},
   "source": [
    "#### 배열의 원소만큼 추가하기"
   ]
  },
  {
   "cell_type": "code",
   "execution_count": null,
   "metadata": {},
   "outputs": [],
   "source": [
    "def solution(arr):\n",
    "    return [i for i in arr for k in range(i)]"
   ]
  },
  {
   "cell_type": "markdown",
   "metadata": {},
   "source": [
    "#### 빈 배열에 추가, 삭제하기"
   ]
  },
  {
   "cell_type": "code",
   "execution_count": null,
   "metadata": {},
   "outputs": [],
   "source": [
    "def solution(arr, flag):\n",
    "    result = []\n",
    "    for i in range(len(arr)):\n",
    "        if flag[i] == True:\n",
    "            count = 0\n",
    "            while count != arr[i]*2:\n",
    "                result.append(arr[i])\n",
    "                count += 1\n",
    "        else:\n",
    "            if len(result) != 0:\n",
    "                 for k in range(arr[i]):\n",
    "                        result.pop()\n",
    "    return result"
   ]
  },
  {
   "cell_type": "markdown",
   "metadata": {},
   "source": [
    "#### 배열 만들기6"
   ]
  },
  {
   "cell_type": "code",
   "execution_count": null,
   "metadata": {},
   "outputs": [],
   "source": [
    "def solution(arr):\n",
    "    stk = []\n",
    "    for i in range(len(arr)):\n",
    "        if len(stk) == 0:\n",
    "            stk.append(arr[i])\n",
    "        else:\n",
    "            if stk[-1] == arr[i]:\n",
    "                stk.pop()\n",
    "            else:\n",
    "                stk.append(arr[i])\n",
    "    if len(stk) == 0: return [-1]\n",
    "    return stk"
   ]
  },
  {
   "cell_type": "markdown",
   "metadata": {},
   "source": [
    "#### 무작위로 k개의 수 뽑기"
   ]
  },
  {
   "cell_type": "code",
   "execution_count": null,
   "metadata": {},
   "outputs": [],
   "source": [
    "def solution(arr, k):\n",
    "    result = []\n",
    "    for i in arr:\n",
    "        if len(result) == k:\n",
    "            break\n",
    "            \n",
    "        if i not in result:\n",
    "            result.append(i)\n",
    "            \n",
    "    if len(result) != k:\n",
    "        for j in range(k-len(result)):\n",
    "            result.append(-1)\n",
    "            \n",
    "    return result"
   ]
  },
  {
   "cell_type": "markdown",
   "metadata": {},
   "source": [
    "### Day20"
   ]
  },
  {
   "cell_type": "markdown",
   "metadata": {},
   "source": [
    "#### 배열의 길이를 2의 거듭제곱으로 만들기"
   ]
  },
  {
   "cell_type": "code",
   "execution_count": null,
   "metadata": {},
   "outputs": [],
   "source": [
    "def solution(arr):\n",
    "    pow2 = [2**i for i in range(0,10+1)]\n",
    "    \n",
    "    if len(arr) not in pow2:\n",
    "        pow2.append(len(arr))\n",
    "        pow2.sort()\n",
    "        cnt = pow2[pow2.index(len(arr))+1]\n",
    "        for i in range(cnt-len(arr)):\n",
    "            arr.append(0)\n",
    "    return arr"
   ]
  },
  {
   "cell_type": "code",
   "execution_count": null,
   "metadata": {},
   "outputs": [],
   "source": [
    "# 다른 사람 풀이 / 훨씬 간결..\n",
    "def solution(arr):\n",
    "    answer = [2**i for i in range(11)]\n",
    "    while len(arr) not in answer:\n",
    "        arr.append(0)\n",
    "    return arr"
   ]
  },
  {
   "cell_type": "markdown",
   "metadata": {},
   "source": [
    "#### 배열 비교하기"
   ]
  },
  {
   "cell_type": "code",
   "execution_count": null,
   "metadata": {},
   "outputs": [],
   "source": [
    "def solution(arr1, arr2):\n",
    "    if len(arr1)>len(arr2):\n",
    "        return 1\n",
    "    elif len(arr1)<len(arr2):\n",
    "        return -1\n",
    "    else:\n",
    "        if sum(arr1)>sum(arr2):\n",
    "            return 1\n",
    "        elif sum(arr1)<sum(arr2):\n",
    "            return -1\n",
    "        else: return 0"
   ]
  },
  {
   "cell_type": "markdown",
   "metadata": {},
   "source": [
    "#### 문자열 묶기"
   ]
  },
  {
   "cell_type": "code",
   "execution_count": null,
   "metadata": {},
   "outputs": [],
   "source": [
    "def solution(strArr):\n",
    "    dic = {}\n",
    "    for i in strArr:\n",
    "        if len(i) in dic.keys():\n",
    "            dic[len(i)] += 1\n",
    "        else: dic[len(i)] = 1\n",
    "    return max(dic.values())"
   ]
  },
  {
   "cell_type": "markdown",
   "metadata": {},
   "source": [
    "#### 배열의 길이에 따라 다른 연산하기"
   ]
  },
  {
   "cell_type": "code",
   "execution_count": null,
   "metadata": {},
   "outputs": [],
   "source": [
    "def solution(arr, n):\n",
    "    if len(arr) % 2 == 0:\n",
    "        for i in range(1,len(arr),2):\n",
    "            arr[i] = arr[i]+n\n",
    "    else:\n",
    "        for i in range(0,len(arr),2):\n",
    "            arr[i] = arr[i]+n\n",
    "    return arr"
   ]
  },
  {
   "cell_type": "markdown",
   "metadata": {},
   "source": [
    "#### 뒤에서 5등까지"
   ]
  },
  {
   "cell_type": "code",
   "execution_count": null,
   "metadata": {},
   "outputs": [],
   "source": [
    "def solution(num_list):\n",
    "    return sorted(num_list)[:5]"
   ]
  },
  {
   "cell_type": "markdown",
   "metadata": {},
   "source": [
    "### Day21"
   ]
  },
  {
   "cell_type": "markdown",
   "metadata": {},
   "source": [
    "#### 뒤에서 5등 위로"
   ]
  },
  {
   "cell_type": "code",
   "execution_count": null,
   "metadata": {},
   "outputs": [],
   "source": [
    "def solution(num_list):\n",
    "    return sorted(num_list)[5:]"
   ]
  },
  {
   "cell_type": "markdown",
   "metadata": {},
   "source": [
    "#### 전국 대회 선발 고사"
   ]
  },
  {
   "cell_type": "code",
   "execution_count": null,
   "metadata": {},
   "outputs": [],
   "source": [
    "def solution(rank, attendance):\n",
    "    st = [rank[i] for i in range(len(attendance)) if attendance[i] == True]\n",
    "    return (rank.index(sorted(st)[0])*10000) + (100*rank.index(sorted(st)[1])) + (rank.index(sorted(st)[2]))"
   ]
  },
  {
   "cell_type": "markdown",
   "metadata": {},
   "source": [
    "#### 정수 부분"
   ]
  },
  {
   "cell_type": "code",
   "execution_count": null,
   "metadata": {},
   "outputs": [],
   "source": [
    "def solution(flo):\n",
    "    return int(flo)"
   ]
  },
  {
   "cell_type": "markdown",
   "metadata": {},
   "source": [
    "#### 문자열 정수의 합"
   ]
  },
  {
   "cell_type": "code",
   "execution_count": null,
   "metadata": {},
   "outputs": [],
   "source": [
    "def solution(num_str):\n",
    "    return sum([int(i) for i in num_str])"
   ]
  },
  {
   "cell_type": "markdown",
   "metadata": {},
   "source": [
    "#### 문자열을 정수로 변환하기"
   ]
  },
  {
   "cell_type": "code",
   "execution_count": null,
   "metadata": {},
   "outputs": [],
   "source": [
    "def solution(n_str):\n",
    "    return int(n_str)"
   ]
  },
  {
   "cell_type": "markdown",
   "metadata": {},
   "source": [
    "### Day22"
   ]
  },
  {
   "cell_type": "markdown",
   "metadata": {},
   "source": [
    "#### 0 떼기"
   ]
  },
  {
   "cell_type": "code",
   "execution_count": null,
   "metadata": {},
   "outputs": [],
   "source": [
    "def solution(n_str):\n",
    "    return n_str.lstrip('0')"
   ]
  },
  {
   "cell_type": "markdown",
   "metadata": {},
   "source": [
    "#### 두 수의 합"
   ]
  },
  {
   "cell_type": "code",
   "execution_count": null,
   "metadata": {},
   "outputs": [],
   "source": [
    "def solution(a, b):\n",
    "    return str(int(a) + int(b))"
   ]
  },
  {
   "cell_type": "markdown",
   "metadata": {},
   "source": [
    "#### 문자열로 변환"
   ]
  },
  {
   "cell_type": "code",
   "execution_count": null,
   "metadata": {},
   "outputs": [],
   "source": [
    "def solution(n):\n",
    "    return str(n)"
   ]
  },
  {
   "cell_type": "markdown",
   "metadata": {},
   "source": [
    "#### 배열의 원소 삭제하기"
   ]
  },
  {
   "cell_type": "code",
   "execution_count": null,
   "metadata": {},
   "outputs": [],
   "source": [
    "def solution(arr, delete_list):\n",
    "    return [i for i in arr if i not in delete_list]"
   ]
  },
  {
   "cell_type": "markdown",
   "metadata": {},
   "source": [
    "#### 부분 문자열인지 확인하기"
   ]
  },
  {
   "cell_type": "code",
   "execution_count": null,
   "metadata": {},
   "outputs": [],
   "source": [
    "def solution(my_string, target):\n",
    "    return 1 if target in my_string else 0"
   ]
  },
  {
   "cell_type": "code",
   "execution_count": null,
   "metadata": {},
   "outputs": [],
   "source": [
    "# 다른 사람 코드 / True,False로 값 구하기\n",
    "def solution(my_string, target):\n",
    "    return int(target in my_string)"
   ]
  },
  {
   "cell_type": "markdown",
   "metadata": {},
   "source": [
    "### 코딩테스트 입문"
   ]
  },
  {
   "cell_type": "markdown",
   "metadata": {},
   "source": [
    "### Day23"
   ]
  },
  {
   "cell_type": "markdown",
   "metadata": {},
   "source": [
    "#### 특이한 정렬"
   ]
  },
  {
   "cell_type": "code",
   "execution_count": null,
   "metadata": {},
   "outputs": [],
   "source": [
    "def solution(numlist, n):\n",
    "    dic = {}\n",
    "    # 딕셔너리에 abs(n-k)를 key 값으로 하고, value에는 해당하는 k 값을 넣는다.\n",
    "    # 이때, 하나의 Key에 여러개의 value가 존재할 수 있으므로 리스트 형태로 추가한다.\n",
    "    # 하나의 Key에 여러개의 value를 갖기 위해서는 리스트 형태로 존재해야 한다.\n",
    "    for k in sorted(numlist):\n",
    "        # 해당하는 key값이 이미 존재한다면\n",
    "        if abs(n-k) in dic.keys():\n",
    "            # 해당 값을 추가\n",
    "            dic[abs(n-k)].append(k)\n",
    "          # 해당하는 key가 존재하지 않는다면, 새롭게 만들고 추가\n",
    "        else: dic[abs(n-k)]=[k]\n",
    "    # {1:[1], 2:[2,10] ...}\n",
    "\n",
    "    # 결과를 담을 리스트\n",
    "    result = []\n",
    "    # key값들을 정렬한 상태로 반복 \n",
    "    for i in sorted(dic.keys()):\n",
    "        # 만약 해당 key값의 value가 1개 이상이라면\n",
    "        if len(dic.get(i)) > 1:\n",
    "            # 해당 값을 뒤에서 부터 result에 추가\n",
    "            result += dic.get(i)[::-1]\n",
    "        # 값이 하나라면, 그냥 추가\n",
    "        else:\n",
    "            result += dic.get(i)\n",
    "    # 리스트인데 append가 아닌 += 를 하는 이유는 해당 value값들은 리스트 형태이기 때문에 +를 해주면 '리스트+리스트 = 리스트 하나'가 된다\n",
    "    # append를 해주면 [[-],[-]] 형태가 된다.\n",
    "    return result"
   ]
  },
  {
   "cell_type": "code",
   "execution_count": null,
   "metadata": {},
   "outputs": [],
   "source": [
    "# 다른 사람 코드 / 훨씬 간단...\n",
    "def solution(numlist, n):\n",
    "    return sorted(numlist,key = lambda x: [abs(x-n),-x])"
   ]
  },
  {
   "cell_type": "markdown",
   "metadata": {},
   "source": [
    "#### 등수 매기기"
   ]
  },
  {
   "cell_type": "code",
   "execution_count": null,
   "metadata": {},
   "outputs": [],
   "source": [
    "def solution(score):\n",
    "    # 평균값 저장\n",
    "    answer = [sum(i)/2 for i in score]\n",
    "    # 갯수만큼 1을 담은 리스트 생성\n",
    "    result = [1 for i in range(len(answer))]\n",
    "\n",
    "    for i in range(len(answer)):\n",
    "        for k in answer:\n",
    "            # answer[i]의 값이 k보다 작다면\n",
    "            if answer[i] < k:\n",
    "                # result[i]에 1 더하기\n",
    "                result[i] += 1\n",
    "                \n",
    "    return result"
   ]
  },
  {
   "cell_type": "code",
   "execution_count": null,
   "metadata": {},
   "outputs": [],
   "source": [
    "# 다른 사람 코드 \n",
    "def solution(score):\n",
    "    a = sorted([sum(i) for i in score], reverse = True)\n",
    "    return [a.index(sum(i))+1 for i in score]"
   ]
  },
  {
   "cell_type": "markdown",
   "metadata": {},
   "source": [
    "#### 옹알이(1)"
   ]
  },
  {
   "cell_type": "code",
   "execution_count": null,
   "metadata": {},
   "outputs": [],
   "source": [
    "def solution(ba):\n",
    "    bas = [i.replace('aya','0').replace('ye','0').replace('woo','0').replace('ma','0') for i in ba]\n",
    "    return len([i for i in bas if i.isdigit()])"
   ]
  },
  {
   "cell_type": "markdown",
   "metadata": {},
   "source": [
    "#### 로그인 성공?"
   ]
  },
  {
   "cell_type": "code",
   "execution_count": null,
   "metadata": {},
   "outputs": [],
   "source": [
    "def solution(id_pw, db):\n",
    "    for i in range(len(db)):\n",
    "        if id_pw[0] == db[i][0]:\n",
    "            if id_pw[1] == db[i][1]:\n",
    "                return 'login'\n",
    "            else:\n",
    "                return 'wrong pw'\n",
    "    return 'fail'"
   ]
  },
  {
   "cell_type": "markdown",
   "metadata": {},
   "source": [
    "### Day24"
   ]
  },
  {
   "cell_type": "markdown",
   "metadata": {},
   "source": [
    "#### 치킨 쿠폰"
   ]
  },
  {
   "cell_type": "code",
   "execution_count": null,
   "metadata": {},
   "outputs": [],
   "source": [
    "def solution(chicken):\n",
    "    # 서비스 치킨\n",
    "    service = 0\n",
    "    # 남은 쿠폰\n",
    "    cupon = 0\n",
    "    while chicken != 0:\n",
    "        service += chicken // 10 \n",
    "        cupon += chicken % 10\n",
    "        chicken = chicken // 10\n",
    "        \n",
    "    service += cupon//10\n",
    "    cupon = cupon%10 + cupon//10\n",
    "    \n",
    "    return service + (cupon // 10)"
   ]
  },
  {
   "cell_type": "code",
   "execution_count": null,
   "metadata": {},
   "outputs": [],
   "source": [
    "# 다른 사람 풀이 / 무한 10%라...서...\n",
    "def solution(chicken):\n",
    "    return int(chicken*0.11111111111)"
   ]
  },
  {
   "cell_type": "markdown",
   "metadata": {},
   "source": [
    "#### 이진수 더하기"
   ]
  },
  {
   "cell_type": "code",
   "execution_count": null,
   "metadata": {},
   "outputs": [],
   "source": [
    "def solution(bin1, bin2):\n",
    "    return bin(int(bin1,2) + int(bin2,2))[2:]"
   ]
  },
  {
   "cell_type": "markdown",
   "metadata": {},
   "source": [
    "#### A로 B만들기"
   ]
  },
  {
   "cell_type": "code",
   "execution_count": null,
   "metadata": {},
   "outputs": [],
   "source": [
    "def solution(before, after):\n",
    "    return int(sorted(before) == sorted(after))"
   ]
  },
  {
   "cell_type": "markdown",
   "metadata": {},
   "source": [
    "#### k의 개수"
   ]
  },
  {
   "cell_type": "code",
   "execution_count": null,
   "metadata": {},
   "outputs": [],
   "source": [
    "def solution(i, j, k):\n",
    "    result = 0\n",
    "    for m in range(i,j+1):\n",
    "        result += str(m).count(str(k))\n",
    "    return result"
   ]
  },
  {
   "cell_type": "markdown",
   "metadata": {},
   "source": [
    "### Day25"
   ]
  },
  {
   "cell_type": "markdown",
   "metadata": {},
   "source": [
    "#### 문자열 밀기"
   ]
  },
  {
   "cell_type": "code",
   "execution_count": null,
   "metadata": {},
   "outputs": [],
   "source": [
    "def solution(A, B):\n",
    "    result = 0\n",
    "    for i in range(len(A)):\n",
    "        if A == B:\n",
    "            return result\n",
    "        else: \n",
    "            A = A[-1] + A[0:len(A)-1]\n",
    "            result += 1\n",
    "            print(result)\n",
    "        if result == len(A):\n",
    "            return -1"
   ]
  },
  {
   "cell_type": "code",
   "execution_count": null,
   "metadata": {},
   "outputs": [],
   "source": [
    "# 다른 사람 코드 / b를 두번 잇게 된거에서 a를 찾으면 된다..\n",
    "solution=lambda a,b:(b*2).find(a)"
   ]
  },
  {
   "cell_type": "markdown",
   "metadata": {},
   "source": [
    "#### 종이 자르기"
   ]
  },
  {
   "cell_type": "code",
   "execution_count": null,
   "metadata": {},
   "outputs": [],
   "source": [
    "def solution(M, N):\n",
    "    return M*N-1"
   ]
  },
  {
   "cell_type": "markdown",
   "metadata": {},
   "source": [
    "#### 연속된 수의 합"
   ]
  },
  {
   "cell_type": "code",
   "execution_count": null,
   "metadata": {},
   "outputs": [],
   "source": [
    "def solution(num, total):\n",
    "    if num % 2 == 0:\n",
    "        return sorted([total//num-i for i in range(1,num//2)] + [total//num] +[total//num+i for i in range(1,num//2+1)])\n",
    "    else: \n",
    "        return sorted([total//num-i for i in range(1,num//2+1)] + [total//num] +[total//num+i for i in range(1,num//2+1)])"
   ]
  },
  {
   "cell_type": "code",
   "execution_count": null,
   "metadata": {},
   "outputs": [],
   "source": [
    "# 다른 사람 코드\n",
    "def solution(num, total):\n",
    "    return [(total - (num * (num - 1) // 2)) // num + i for i in range(num)]\n",
    "\n",
    "# 기본적으로 1부터 num까지 더한 수를 기본형이라 볼때 (num=3 (1,2,3))\n",
    "# 1부터 3까지 더한수는 6이므로 total = 6을 기본형으로 봅니다 그리고 모든 num을 한칸씩 이동시키면 total이 3씩 증가합니다\n",
    "# num = 3, total = 6 (1, 2, 3)\n",
    "# num = 3 total = 9 (2, 3, 4)\n",
    "# 만약 total이 12고 num이 3이라면 (3, 4, 5)가 되겠죠\n",
    "# 이걸 위의 식에 대입합니다.\n",
    "\n",
    "# (num * (num + 1)) / 2 == num의 기본형 total\n",
    "# 즉 위의 식을 쓰면 num의 기본형 1 - num까지가 만들어집니다.\n",
    "# num = 3이면 1,2,3을 더한값이 num = 5면 1,2,3,4,5을 더한값이 나오겠죠\n",
    "\n",
    "# 그리고 다음식을 대입해주면\n",
    "\n",
    "# (기본형 total - 구해야하는 total) == 기본형에서 몇칸 이동했는지 만약 num = 4 total = 14라면 4의 기본형 total은 10이므로 4가 나옵니다\n",
    "# 위에서 말했듯 기본형에서 모든 숫자가 1씩 전진하면 num만큼 커진다고 했으니 위의 4라는 숫자는 num 과 동일하고 모든 수를 한칸씩 전진하면 된다는 결과가 나옵니다.\n",
    "# 이걸 식으로 표현하면\n",
    "\n",
    "# ((기본형 total - 구해야하는 total) / 4) + 1 == num의 시작점\n",
    "\n",
    "# 아까 값이 4라고 했는데 4 / num을 하면 num = 4이므로 1이 되고 여기서 1이 한칸 전진하라 정도로 이해해서 기본형의 시작점 1과 더해주면\n",
    "\n",
    "# 시작점은 2가 됩니다"
   ]
  },
  {
   "cell_type": "markdown",
   "metadata": {},
   "source": [
    "#### 다음에 올 숫자"
   ]
  },
  {
   "cell_type": "code",
   "execution_count": null,
   "metadata": {},
   "outputs": [],
   "source": [
    "def solution(common):\n",
    "    # 등차수열\n",
    "    if common[2]-common[1] == common[1]-common[0]:\n",
    "        return (common[1]-common[0])+common[-1]\n",
    "    # 등비수열\n",
    "    else:\n",
    "        return common[-1] * (common[1]/common[0])"
   ]
  },
  {
   "cell_type": "code",
   "execution_count": null,
   "metadata": {},
   "outputs": [],
   "source": [
    "# 처음에는 등비수열이 if이고 등차수열이 else였는데 자꾸 테케6에서 걸려서 걍 순서를 바꿔줌\n",
    "def solution(common):\n",
    "    if common[2]%common[1] == 0 and common[0] and common[-1]:\n",
    "        return common[-1] * (common[1]/common[0])\n",
    "    else:\n",
    "        return (common[1]-common[0])+common[-1]"
   ]
  },
  {
   "cell_type": "markdown",
   "metadata": {},
   "source": [
    "### 난이도별 문제풀이"
   ]
  },
  {
   "cell_type": "markdown",
   "metadata": {},
   "source": [
    "#### 체육복"
   ]
  },
  {
   "cell_type": "code",
   "execution_count": null,
   "metadata": {},
   "outputs": [],
   "source": [
    "def solution(n, lost, reserve):\n",
    "    # n = 전체 학생의 수\n",
    "    # lost = 도난당한 학생들의 번호가 담긴 배열\n",
    "    # reserve = 여벌 체육복을 가져온 학생 배열\n",
    "    # 여벌 체육복을 가져온 학생(reserve)이 도난 당할 수 있음 -> 체육복 못 빌려줌\n",
    "    # 체육수업을 들을 수 있는 학생의 최댓값을 return \n",
    "    \n",
    "    # 여벌 체육복을 가져온 학생이 도난 당 할 경우를 위해, reserve 값이 lost에 있는지 확인\n",
    "    # reserve가 lost에 있다면 두 배열에서 없애줌\n",
    "    new_reserve = []\n",
    "    for i in reserve:\n",
    "        if i in lost:\n",
    "            lost.remove(i)\n",
    "        else:\n",
    "            new_reserve.append(i)\n",
    "    reserve = new_reserve\n",
    "    # 위 코드를 기존에는 그냥 remove만 사용했는데, 이렇게 되면 remove로 삭제되면서 배열이 밀리는 경우가 발생하게 됨. \n",
    "    # 따라서 새로운 배열에 append를 해주는 방식으로 변경\n",
    "\n",
    "    # 앞의 친구가 체육복이 없다면 먼저 빌려주고, 있다면 뒤에 친구에게 빌려줌\n",
    "    for i in sorted(reserve):\n",
    "        if i-1 in lost:\n",
    "            lost.remove(i-1)\n",
    "            reserve.remove(i)\n",
    "        elif i+1 in lost:\n",
    "            lost.remove(i+1)\n",
    "            reserve.remove(i)\n",
    "\n",
    "    return n - len(lost)"
   ]
  },
  {
   "cell_type": "markdown",
   "metadata": {},
   "source": [
    "[remove 사용시 발생하는 문제 해결 설명](https://school.programmers.co.kr/learn/courses/14743/lessons/118024)\n",
    "\n",
    "추가로, remove를 사용하면 시간복잡도가 더 높아지므로 set을 통해 중복을 제거하는 것이 더 좋다."
   ]
  },
  {
   "cell_type": "markdown",
   "metadata": {},
   "source": [
    "#### 포켓몬"
   ]
  },
  {
   "cell_type": "markdown",
   "metadata": {},
   "source": [
    "#### 완주하지 못한 선수"
   ]
  },
  {
   "cell_type": "markdown",
   "metadata": {},
   "source": [
    "#### 푸드 파이터 대회"
   ]
  },
  {
   "cell_type": "markdown",
   "metadata": {},
   "source": [
    "#### 최댓값과 최솟값"
   ]
  },
  {
   "cell_type": "code",
   "execution_count": null,
   "metadata": {},
   "outputs": [],
   "source": [
    "def solution(s):\n",
    "    answer = s.split(' ')\n",
    "    result = [int(i) for i in answer]\n",
    "    return str(min(result)) + \" \" + str(max(result))"
   ]
  },
  {
   "cell_type": "markdown",
   "metadata": {},
   "source": [
    "#### 영어 끝말잇기"
   ]
  }
 ],
 "metadata": {
  "kernelspec": {
   "display_name": "Python 3",
   "language": "python",
   "name": "python3"
  },
  "language_info": {
   "name": "python",
   "version": "3.11.4"
  },
  "orig_nbformat": 4
 },
 "nbformat": 4,
 "nbformat_minor": 2
}
