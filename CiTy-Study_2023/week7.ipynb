{
 "cells": [
  {
   "cell_type": "markdown",
   "metadata": {},
   "source": [
    "### 프로그래머스 - 코딩테스트 문제풀이"
   ]
  },
  {
   "cell_type": "markdown",
   "metadata": {},
   "source": [
    "### 코딩테스트 기초"
   ]
  },
  {
   "cell_type": "markdown",
   "metadata": {},
   "source": [
    "### Day17"
   ]
  },
  {
   "cell_type": "markdown",
   "metadata": {},
   "source": [
    "#### 특정 문자열로 끝나는 가장 긴 부분 문자열 찾기"
   ]
  },
  {
   "cell_type": "code",
   "execution_count": null,
   "metadata": {},
   "outputs": [],
   "source": [
    "def solution(myString, pat):\n",
    "    if myString.count(pat)>1:\n",
    "        ms = myString.replace(pat,'-', myString.count(pat)-1)\n",
    "        return myString[:ms.index(pat)+len(pat)]\n",
    "    return myString[:myString.index(pat)+len(pat)]"
   ]
  },
  {
   "cell_type": "markdown",
   "metadata": {},
   "source": [
    "#### 묹자열이 몇번 등장하는지 세기"
   ]
  },
  {
   "cell_type": "code",
   "execution_count": null,
   "metadata": {},
   "outputs": [],
   "source": [
    "def solution(myString, pat):\n",
    "    result = 0\n",
    "    for i in range(len(myString)):\n",
    "        if myString[i:i+len(pat)] == pat:\n",
    "            result += 1\n",
    "    return result"
   ]
  },
  {
   "cell_type": "markdown",
   "metadata": {},
   "source": [
    "#### ad 제거하기"
   ]
  },
  {
   "cell_type": "code",
   "execution_count": null,
   "metadata": {},
   "outputs": [],
   "source": [
    "def solution(strArr):\n",
    "    # return [strArr.remove(i) if 'ad' in i else pass for i in strArr]\n",
    "    return [i for i in strArr if 'ad' not in i]"
   ]
  },
  {
   "cell_type": "markdown",
   "metadata": {},
   "source": [
    "#### 공백으로 구분하기1"
   ]
  },
  {
   "cell_type": "code",
   "execution_count": null,
   "metadata": {},
   "outputs": [],
   "source": [
    "def solution(my_string):\n",
    "    return my_string.split(' ')"
   ]
  },
  {
   "cell_type": "markdown",
   "metadata": {},
   "source": [
    "#### 공백으로 구분하기2"
   ]
  },
  {
   "cell_type": "markdown",
   "metadata": {},
   "source": [
    "split를 파라미터를 넣지않고 실행하면 띄어쓰기 혹은 개행문자에 맞춰 문자열을 나눠줌\n",
    "\n",
    "```python\n",
    "return my_string.split()\n",
    "```"
   ]
  },
  {
   "cell_type": "code",
   "execution_count": null,
   "metadata": {},
   "outputs": [],
   "source": [
    "def solution(my_string):\n",
    "    my_string = my_string.strip().split(' ')\n",
    "        \n",
    "    return [i for i in my_string if i.isalpha()]"
   ]
  },
  {
   "cell_type": "markdown",
   "metadata": {},
   "source": [
    "### Day18"
   ]
  },
  {
   "cell_type": "markdown",
   "metadata": {},
   "source": [
    "#### x사이의 개수"
   ]
  },
  {
   "cell_type": "code",
   "execution_count": null,
   "metadata": {},
   "outputs": [],
   "source": [
    "def solution(myString):\n",
    "    myString.split('x')\n",
    "    return [len(i) for i in myString.split('x')]"
   ]
  },
  {
   "cell_type": "markdown",
   "metadata": {},
   "source": [
    "#### 문자열을 잘라서 정렬하기"
   ]
  },
  {
   "cell_type": "code",
   "execution_count": null,
   "metadata": {},
   "outputs": [],
   "source": [
    "def solution(myString):\n",
    "    m = myString.split('x')\n",
    "    return sorted([i for i in m if i.isalpha()])"
   ]
  },
  {
   "cell_type": "markdown",
   "metadata": {},
   "source": [
    "#### 간단한 식 계산하기"
   ]
  },
  {
   "cell_type": "code",
   "execution_count": null,
   "metadata": {},
   "outputs": [],
   "source": [
    "def solution(binomial):\n",
    "    return eval(binomial)"
   ]
  },
  {
   "cell_type": "markdown",
   "metadata": {},
   "source": [
    "#### 문자열 바꿔서 찾기"
   ]
  },
  {
   "cell_type": "code",
   "execution_count": null,
   "metadata": {},
   "outputs": [],
   "source": [
    "def solution(myString, pat):\n",
    "    return 1 if pat in myString.translate(myString.maketrans({'A':'B','B':'A'})) else 0"
   ]
  },
  {
   "cell_type": "markdown",
   "metadata": {},
   "source": [
    "#### rny_string"
   ]
  },
  {
   "cell_type": "code",
   "execution_count": null,
   "metadata": {},
   "outputs": [],
   "source": [
    "def solution(rny_string):\n",
    "    return rny_string.replace('m','rn')"
   ]
  },
  {
   "cell_type": "markdown",
   "metadata": {},
   "source": [
    "### Day19"
   ]
  },
  {
   "cell_type": "markdown",
   "metadata": {},
   "source": [
    "#### 세개의 구분자"
   ]
  },
  {
   "cell_type": "code",
   "execution_count": null,
   "metadata": {},
   "outputs": [],
   "source": [
    "def solution(myStr):\n",
    "    myStr = myStr.translate(myStr.maketrans({'a':'_', 'b':'_', 'c':'_'}))\n",
    "    m = myStr.split('_')\n",
    "    return [i for i in m if i != ''] if len(m) != m.count('') else ['EMPTY']\n",
    "            "
   ]
  },
  {
   "cell_type": "markdown",
   "metadata": {},
   "source": [
    "#### 배열의 원소만큼 추가하기"
   ]
  },
  {
   "cell_type": "code",
   "execution_count": null,
   "metadata": {},
   "outputs": [],
   "source": [
    "def solution(arr):\n",
    "    return [i for i in arr for k in range(i)]"
   ]
  },
  {
   "cell_type": "markdown",
   "metadata": {},
   "source": [
    "#### 빈 배열에 추가, 삭제하기"
   ]
  },
  {
   "cell_type": "code",
   "execution_count": null,
   "metadata": {},
   "outputs": [],
   "source": [
    "def solution(arr, flag):\n",
    "    result = []\n",
    "    for i in range(len(arr)):\n",
    "        if flag[i] == True:\n",
    "            count = 0\n",
    "            while count != arr[i]*2:\n",
    "                result.append(arr[i])\n",
    "                count += 1\n",
    "        else:\n",
    "            if len(result) != 0:\n",
    "                 for k in range(arr[i]):\n",
    "                        result.pop()\n",
    "    return result"
   ]
  },
  {
   "cell_type": "markdown",
   "metadata": {},
   "source": [
    "#### 배열 만들기6"
   ]
  },
  {
   "cell_type": "code",
   "execution_count": null,
   "metadata": {},
   "outputs": [],
   "source": [
    "def solution(arr):\n",
    "    stk = []\n",
    "    for i in range(len(arr)):\n",
    "        if len(stk) == 0:\n",
    "            stk.append(arr[i])\n",
    "        else:\n",
    "            if stk[-1] == arr[i]:\n",
    "                stk.pop()\n",
    "            else:\n",
    "                stk.append(arr[i])\n",
    "    if len(stk) == 0: return [-1]\n",
    "    return stk"
   ]
  },
  {
   "cell_type": "markdown",
   "metadata": {},
   "source": [
    "#### 무작위로 k개의 수 뽑기"
   ]
  },
  {
   "cell_type": "code",
   "execution_count": null,
   "metadata": {},
   "outputs": [],
   "source": [
    "def solution(arr, k):\n",
    "    result = []\n",
    "    for i in arr:\n",
    "        if len(result) == k:\n",
    "            break\n",
    "            \n",
    "        if i not in result:\n",
    "            result.append(i)\n",
    "            \n",
    "    if len(result) != k:\n",
    "        for j in range(k-len(result)):\n",
    "            result.append(-1)\n",
    "            \n",
    "    return result"
   ]
  },
  {
   "cell_type": "markdown",
   "metadata": {},
   "source": [
    "### Day20"
   ]
  },
  {
   "cell_type": "markdown",
   "metadata": {},
   "source": [
    "#### 배열의 길이를 2의 거듭제곱으로 만들기"
   ]
  },
  {
   "cell_type": "code",
   "execution_count": null,
   "metadata": {},
   "outputs": [],
   "source": [
    "def solution(arr):\n",
    "    pow2 = [2**i for i in range(0,10+1)]\n",
    "    \n",
    "    if len(arr) not in pow2:\n",
    "        pow2.append(len(arr))\n",
    "        pow2.sort()\n",
    "        cnt = pow2[pow2.index(len(arr))+1]\n",
    "        for i in range(cnt-len(arr)):\n",
    "            arr.append(0)\n",
    "    return arr"
   ]
  },
  {
   "cell_type": "code",
   "execution_count": null,
   "metadata": {},
   "outputs": [],
   "source": [
    "# 다른 사람 풀이 / 훨씬 간결..\n",
    "def solution(arr):\n",
    "    answer = [2**i for i in range(11)]\n",
    "    while len(arr) not in answer:\n",
    "        arr.append(0)\n",
    "    return arr"
   ]
  },
  {
   "cell_type": "markdown",
   "metadata": {},
   "source": [
    "#### 배열 비교하기"
   ]
  },
  {
   "cell_type": "code",
   "execution_count": null,
   "metadata": {},
   "outputs": [],
   "source": [
    "def solution(arr1, arr2):\n",
    "    if len(arr1)>len(arr2):\n",
    "        return 1\n",
    "    elif len(arr1)<len(arr2):\n",
    "        return -1\n",
    "    else:\n",
    "        if sum(arr1)>sum(arr2):\n",
    "            return 1\n",
    "        elif sum(arr1)<sum(arr2):\n",
    "            return -1\n",
    "        else: return 0"
   ]
  },
  {
   "cell_type": "markdown",
   "metadata": {},
   "source": [
    "#### 문자열 묶기"
   ]
  },
  {
   "cell_type": "code",
   "execution_count": null,
   "metadata": {},
   "outputs": [],
   "source": [
    "def solution(strArr):\n",
    "    dic = {}\n",
    "    for i in strArr:\n",
    "        if len(i) in dic.keys():\n",
    "            dic[len(i)] += 1\n",
    "        else: dic[len(i)] = 1\n",
    "    return max(dic.values())"
   ]
  },
  {
   "cell_type": "markdown",
   "metadata": {},
   "source": [
    "#### 배열의 길이에 따라 다른 연산하기"
   ]
  },
  {
   "cell_type": "code",
   "execution_count": null,
   "metadata": {},
   "outputs": [],
   "source": [
    "def solution(arr, n):\n",
    "    if len(arr) % 2 == 0:\n",
    "        for i in range(1,len(arr),2):\n",
    "            arr[i] = arr[i]+n\n",
    "    else:\n",
    "        for i in range(0,len(arr),2):\n",
    "            arr[i] = arr[i]+n\n",
    "    return arr"
   ]
  },
  {
   "cell_type": "markdown",
   "metadata": {},
   "source": [
    "#### 뒤에서 5등까지"
   ]
  },
  {
   "cell_type": "code",
   "execution_count": null,
   "metadata": {},
   "outputs": [],
   "source": [
    "def solution(num_list):\n",
    "    return sorted(num_list)[:5]"
   ]
  },
  {
   "cell_type": "markdown",
   "metadata": {},
   "source": [
    "### Day21"
   ]
  },
  {
   "cell_type": "markdown",
   "metadata": {},
   "source": [
    "#### 뒤에서 5등 위로"
   ]
  },
  {
   "cell_type": "code",
   "execution_count": null,
   "metadata": {},
   "outputs": [],
   "source": [
    "def solution(num_list):\n",
    "    return sorted(num_list)[5:]"
   ]
  },
  {
   "cell_type": "markdown",
   "metadata": {},
   "source": [
    "#### 전국 대회 선발 고사"
   ]
  },
  {
   "cell_type": "code",
   "execution_count": null,
   "metadata": {},
   "outputs": [],
   "source": [
    "def solution(rank, attendance):\n",
    "    st = [rank[i] for i in range(len(attendance)) if attendance[i] == True]\n",
    "    return (rank.index(sorted(st)[0])*10000) + (100*rank.index(sorted(st)[1])) + (rank.index(sorted(st)[2]))"
   ]
  },
  {
   "cell_type": "markdown",
   "metadata": {},
   "source": [
    "#### 정수 부분"
   ]
  },
  {
   "cell_type": "code",
   "execution_count": null,
   "metadata": {},
   "outputs": [],
   "source": [
    "def solution(flo):\n",
    "    return int(flo)"
   ]
  },
  {
   "cell_type": "markdown",
   "metadata": {},
   "source": [
    "#### 문자열 정수의 합"
   ]
  },
  {
   "cell_type": "code",
   "execution_count": null,
   "metadata": {},
   "outputs": [],
   "source": [
    "def solution(num_str):\n",
    "    return sum([int(i) for i in num_str])"
   ]
  },
  {
   "cell_type": "markdown",
   "metadata": {},
   "source": [
    "#### 문자열을 정수로 변환하기"
   ]
  },
  {
   "cell_type": "code",
   "execution_count": null,
   "metadata": {},
   "outputs": [],
   "source": [
    "def solution(n_str):\n",
    "    return int(n_str)"
   ]
  },
  {
   "cell_type": "markdown",
   "metadata": {},
   "source": [
    "### Day22"
   ]
  },
  {
   "cell_type": "markdown",
   "metadata": {},
   "source": [
    "### 코딩테스트 입문"
   ]
  },
  {
   "cell_type": "markdown",
   "metadata": {},
   "source": [
    "### Day23"
   ]
  },
  {
   "cell_type": "markdown",
   "metadata": {},
   "source": [
    "#### 특이한 정렬"
   ]
  },
  {
   "cell_type": "code",
   "execution_count": null,
   "metadata": {},
   "outputs": [],
   "source": [
    "def solution(numlist, n):\n",
    "    dic = {}\n",
    "    # 딕셔너리에 abs(n-k)를 key 값으로 하고, value에는 해당하는 k 값을 넣는다.\n",
    "    # 이때, 하나의 Key에 여러개의 value가 존재할 수 있으므로 리스트 형태로 추가한다.\n",
    "    # 하나의 Key에 여러개의 value를 갖기 위해서는 리스트 형태로 존재해야 한다.\n",
    "    for k in sorted(numlist):\n",
    "        # 해당하는 key값이 이미 존재한다면\n",
    "        if abs(n-k) in dic.keys():\n",
    "            # 해당 값을 추가\n",
    "            dic[abs(n-k)].append(k)\n",
    "          # 해당하는 key가 존재하지 않는다면, 새롭게 만들고 추가\n",
    "        else: dic[abs(n-k)]=[k]\n",
    "    # {1:[1], 2:[2,10] ...}\n",
    "\n",
    "    # 결과를 담을 리스트\n",
    "    result = []\n",
    "    # key값들을 정렬한 상태로 반복 \n",
    "    for i in sorted(dic.keys()):\n",
    "        # 만약 해당 key값의 value가 1개 이상이라면\n",
    "        if len(dic.get(i)) > 1:\n",
    "            # 해당 값을 뒤에서 부터 result에 추가\n",
    "            result += dic.get(i)[::-1]\n",
    "        # 값이 하나라면, 그냥 추가\n",
    "        else:\n",
    "            result += dic.get(i)\n",
    "    # 리스트인데 append가 아닌 += 를 하는 이유는 해당 value값들은 리스트 형태이기 때문에 +를 해주면 '리스트+리스트 = 리스트 하나'가 된다\n",
    "    # append를 해주면 [[-],[-]] 형태가 된다.\n",
    "    return result"
   ]
  },
  {
   "cell_type": "code",
   "execution_count": null,
   "metadata": {},
   "outputs": [],
   "source": [
    "# 다른 사람 코드 / 훨씬 간단...\n",
    "def solution(numlist, n):\n",
    "    return sorted(numlist,key = lambda x: [abs(x-n),-x])"
   ]
  },
  {
   "cell_type": "markdown",
   "metadata": {},
   "source": [
    "### Day24"
   ]
  },
  {
   "cell_type": "markdown",
   "metadata": {},
   "source": [
    "### Day25"
   ]
  },
  {
   "cell_type": "markdown",
   "metadata": {},
   "source": [
    "### 난이도별 문제풀이"
   ]
  },
  {
   "cell_type": "markdown",
   "metadata": {},
   "source": [
    "#### 체육복"
   ]
  },
  {
   "cell_type": "markdown",
   "metadata": {},
   "source": [
    "#### 포켓몬"
   ]
  },
  {
   "cell_type": "markdown",
   "metadata": {},
   "source": [
    "#### 완주하지 못한 선수"
   ]
  },
  {
   "cell_type": "markdown",
   "metadata": {},
   "source": [
    "#### 푸드 파이터 대회"
   ]
  },
  {
   "cell_type": "markdown",
   "metadata": {},
   "source": [
    "#### 최댓값과 최솟값"
   ]
  },
  {
   "cell_type": "markdown",
   "metadata": {},
   "source": [
    "#### 영어 끝말잇기"
   ]
  }
 ],
 "metadata": {
  "kernelspec": {
   "display_name": "Python 3",
   "language": "python",
   "name": "python3"
  },
  "language_info": {
   "name": "python",
   "version": "3.11.4"
  },
  "orig_nbformat": 4
 },
 "nbformat": 4,
 "nbformat_minor": 2
}
