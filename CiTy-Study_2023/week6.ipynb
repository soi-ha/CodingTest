{
 "cells": [
  {
   "cell_type": "markdown",
   "metadata": {},
   "source": [
    "### 프로그래머스 - 코딩테스트 문제 풀이"
   ]
  },
  {
   "cell_type": "markdown",
   "metadata": {},
   "source": [
    "### 코딩테스트 입문"
   ]
  },
  {
   "cell_type": "markdown",
   "metadata": {},
   "source": [
    "#### 숫자 찾기"
   ]
  },
  {
   "cell_type": "code",
   "execution_count": null,
   "metadata": {},
   "outputs": [],
   "source": [
    "def solution(num, k):\n",
    "    # 두 매개변수 모두 타입이 int이기에 str로 변경해야 함\n",
    "    if str(k) in str(num):\n",
    "        return str(num).index(str(k)) + 1\n",
    "    else:\n",
    "        return -1"
   ]
  },
  {
   "cell_type": "markdown",
   "metadata": {},
   "source": [
    "#### n의 배수 고르기\n",
    "\n",
    "처음에는 기존 인덱스에서 n의 배수가 아닌 값들을 삭제하려고 했으나, 삭제한 다음의 값이 for 루프에 포함되지 않는 현상 발생.  \n",
    "따라서 코드를 삭제에서 새로운 변수를 만들어서 n의 배수를 추가하는 방향으로 변경"
   ]
  },
  {
   "cell_type": "code",
   "execution_count": null,
   "metadata": {},
   "outputs": [],
   "source": [
    "def solution(n, numlist):\n",
    "    result = []\n",
    "    for i in numlist:\n",
    "        if i % n == 0:\n",
    "            result.append(i)\n",
    "    return result"
   ]
  },
  {
   "cell_type": "markdown",
   "metadata": {},
   "source": [
    "다른 분의 코드, filter를 활용함...!  \n",
    "filter는 그냥 사용하면 코드가 단축된 느낌이 없는데, lamda를 활용해야 대폭 단축됨  \n",
    "filter의 주의점은 type이 filter로 자동 변경됨. 따라서 원하는 type으로 변경해서 사용해야 함"
   ]
  },
  {
   "cell_type": "code",
   "execution_count": null,
   "metadata": {},
   "outputs": [],
   "source": [
    "# 다른 사람 코드 \n",
    "def solution(n, numlist):\n",
    "    return list(filter(lambda v: v%n==0, numlist))"
   ]
  },
  {
   "cell_type": "markdown",
   "metadata": {},
   "source": [
    "#### 자릿수 더하기"
   ]
  },
  {
   "cell_type": "code",
   "execution_count": null,
   "metadata": {},
   "outputs": [],
   "source": [
    "def solution(n):\n",
    "    result = 0\n",
    "    for i in str(n):\n",
    "        result += int(i)\n",
    "    return result"
   ]
  },
  {
   "cell_type": "code",
   "execution_count": null,
   "metadata": {},
   "outputs": [],
   "source": [
    "# 다른 사람 코드\n",
    "def solution(n):\n",
    "    return sum(int(i) for i in str(n))"
   ]
  },
  {
   "cell_type": "markdown",
   "metadata": {},
   "source": [
    "#### OX퀴즈"
   ]
  },
  {
   "cell_type": "code",
   "execution_count": null,
   "metadata": {},
   "outputs": [],
   "source": [
    "def solution(quiz):\n",
    "    result = []\n",
    "\n",
    "    # 반복문을 통해 quiz 배열을 돈다\n",
    "    for i in quiz:\n",
    "        # split한 마지막 배열의 값(결과 값)을 temp에 저장\n",
    "        temp = i.split(' ')[4]\n",
    "\n",
    "        # 연산자(1번 배열)에 따라 연산후, stemp 변수에 값 저장\n",
    "        if i.split(' ')[1] == '+':\n",
    "            stemp = int(i.split(' ')[0]) + int(i.split(' ')[2])\n",
    "        elif i.split(' ')[1] == '-':\n",
    "            stemp = int(i.split(' ')[0]) - int(i.split(' ')[2])\n",
    "            \n",
    "        # temp와 stemp가 같은지 비교\n",
    "        if stemp == int(temp):\n",
    "            result.append('O')\n",
    "        else:\n",
    "            result.append('X')\n",
    "    return result"
   ]
  },
  {
   "cell_type": "markdown",
   "metadata": {},
   "source": [
    "eval()을 사용하고 싶었으나 계속 에러 발생...  \n",
    "다른 분의 코드를 확인하니 되는 듯 하다..?\n",
    "\n",
    "다른 사람의 코드가 에러 없이 eval을 사용할 수 있는 이유  \n",
    "-> eval은 문자열을 연산해주는 건데, 이미 연산의 결과(=)가 존재하므로 작동하지 않는 것이었음..  \n",
    "따라서 '='의 값을 '=='으로 변경해서 연산을 실행하거나, '='을 기준으로 split하여 '='의 앞 부분만 연산을 실행해야 에러발생이 안됨."
   ]
  },
  {
   "cell_type": "code",
   "execution_count": null,
   "metadata": {},
   "outputs": [],
   "source": [
    "# 다른 사람 코드 \n",
    "\n",
    "def valid(equation):\n",
    "    equation = equation.replace('=', '==')\n",
    "    return eval(equation)\n",
    "\n",
    "def solution(equations):\n",
    "    return [\"O\" if valid(equation) else \"X\" for equation in equations]    \n"
   ]
  },
  {
   "cell_type": "markdown",
   "metadata": {},
   "source": [
    "### Day18"
   ]
  },
  {
   "cell_type": "markdown",
   "metadata": {},
   "source": [
    "#### 문자열 안의 문자열"
   ]
  },
  {
   "cell_type": "code",
   "execution_count": null,
   "metadata": {},
   "outputs": [],
   "source": [
    "def solution(str1, str2):\n",
    "    return 1 if str2 in str1 else 2"
   ]
  },
  {
   "cell_type": "markdown",
   "metadata": {},
   "source": [
    "#### 제곱수 판별하기"
   ]
  },
  {
   "cell_type": "code",
   "execution_count": null,
   "metadata": {},
   "outputs": [],
   "source": [
    "def solution(n):\n",
    "    for i in range(1,1000001):\n",
    "        if i**2 == n:\n",
    "            return 1\n",
    "    return 2"
   ]
  },
  {
   "cell_type": "code",
   "execution_count": null,
   "metadata": {},
   "outputs": [],
   "source": [
    "# 다른 사람 코드 / 무식하게 for 다 돌리지 않고 구하는 방법...\n",
    "def solution(n):\n",
    "    return 1 if (n ** 0.5).is_integer() else 2"
   ]
  },
  {
   "cell_type": "markdown",
   "metadata": {},
   "source": [
    "#### 세균증식"
   ]
  },
  {
   "cell_type": "code",
   "execution_count": null,
   "metadata": {},
   "outputs": [],
   "source": [
    "def solution(n, t):\n",
    "    return (2 ** t) * n"
   ]
  },
  {
   "cell_type": "code",
   "execution_count": null,
   "metadata": {},
   "outputs": [],
   "source": [
    "# 다른 사람 코드 / 시프트 연산자로 풀기...\n",
    "# n의 비트를 t번 왼쪽으로 이동시킴\n",
    "def solution(n, t):\n",
    "    return n << t"
   ]
  },
  {
   "cell_type": "markdown",
   "metadata": {},
   "source": [
    "#### 문자열 정렬하기(2)"
   ]
  },
  {
   "cell_type": "code",
   "execution_count": null,
   "metadata": {},
   "outputs": [],
   "source": [
    "def solution(my_string):\n",
    "    return ''.join(sorted(my_string.lower()))"
   ]
  },
  {
   "cell_type": "markdown",
   "metadata": {},
   "source": [
    "### Day19"
   ]
  },
  {
   "cell_type": "markdown",
   "metadata": {},
   "source": [
    "#### 7의 개수"
   ]
  },
  {
   "cell_type": "code",
   "execution_count": null,
   "metadata": {},
   "outputs": [],
   "source": [
    "def solution(array):\n",
    "    result = 0\n",
    "    for i in array:\n",
    "        result += int(str(i).count('7'))\n",
    "    return result\n",
    "\n",
    "# 한줄 코드\n",
    "def solution(array):\n",
    "    return str(array).count('7')"
   ]
  },
  {
   "cell_type": "markdown",
   "metadata": {},
   "source": [
    "#### 잘라서 배열로 저장하기"
   ]
  },
  {
   "cell_type": "code",
   "execution_count": null,
   "metadata": {},
   "outputs": [],
   "source": [
    "import math\n",
    "def solution(my_str, n):\n",
    "    result = []\n",
    "    # 문자열 길이를 n으로 나눈 후 올림 한 값을 저장 \n",
    "    indx = math.ceil(len(my_str)/n)\n",
    "\n",
    "    # 문자열 자르기\n",
    "    for i in my_str:\n",
    "        # n의 값만 큼 문자열 자르기\n",
    "        result.append(my_str[:n])\n",
    "        # 자른 부분은 빈 문자열로 변경하기\n",
    "        my_str = my_str.replace(my_str[:n],'',1)\n",
    "    \n",
    "    # 그냥 result를 출력하면 빈 문자열로 변경한 것 또한 존재함. 따라서 위에서 구한 indx 인덱스 값까지만 출력\n",
    "    return result[:indx]"
   ]
  },
  {
   "cell_type": "code",
   "execution_count": null,
   "metadata": {},
   "outputs": [],
   "source": [
    "# 다른 사람 코드\n",
    "def solution(my_str, n):\n",
    "    # 슬라이싱은 값을 초과해도 에러 발생 안함\n",
    "    return [my_str[i: i + n] for i in range(0, len(my_str), n)]\n"
   ]
  },
  {
   "cell_type": "markdown",
   "metadata": {},
   "source": [
    "#### 중복된 숫자 개수"
   ]
  },
  {
   "cell_type": "code",
   "execution_count": null,
   "metadata": {},
   "outputs": [],
   "source": [
    "def solution(array, n):\n",
    "    return array.count(n)"
   ]
  },
  {
   "cell_type": "markdown",
   "metadata": {},
   "source": [
    "#### 머쓱이보다 키 큰 사람"
   ]
  },
  {
   "cell_type": "code",
   "execution_count": null,
   "metadata": {},
   "outputs": [],
   "source": [
    "def solution(array, height):\n",
    "    result = 0\n",
    "    for i in array:\n",
    "        if i > height:\n",
    "            result += 1\n",
    "    return result"
   ]
  },
  {
   "cell_type": "code",
   "execution_count": null,
   "metadata": {},
   "outputs": [],
   "source": [
    "# 다른 사람 코드\n",
    "# 한줄 코드로 변경하고 싶었는데 sum으로 감싸면 되는 거였음..\n",
    "def solution(array, height):\n",
    "    return sum(1 for a in array if a > height)\n"
   ]
  },
  {
   "cell_type": "markdown",
   "metadata": {},
   "source": [
    "### Day20"
   ]
  },
  {
   "cell_type": "markdown",
   "metadata": {},
   "source": [
    "#### 직사각형 넓이 구하기"
   ]
  },
  {
   "cell_type": "code",
   "execution_count": null,
   "metadata": {},
   "outputs": [],
   "source": [
    "def solution(dots):\n",
    "    for i in range(len(dots)):\n",
    "        for j in range(i+1):\n",
    "            if dots[i][0] == dots[j][0]:\n",
    "                height = abs(dots[i][1] - dots[j][1])\n",
    "                break\n",
    "            if dots[i][1] == dots[j][1]:\n",
    "                width = abs(dots[i][0] - dots[j][0])\n",
    "                break\n",
    "    return width * height"
   ]
  },
  {
   "cell_type": "code",
   "execution_count": null,
   "metadata": {},
   "outputs": [],
   "source": [
    "# 간단한 방법이...\n",
    "def solution(dots):\n",
    "    return (max(dots)[0] - min(dots)[0])*(max(dots)[1] - min(dots)[1])"
   ]
  },
  {
   "cell_type": "markdown",
   "metadata": {},
   "source": [
    "#### 캐릭터의 좌표"
   ]
  },
  {
   "cell_type": "code",
   "execution_count": null,
   "metadata": {},
   "outputs": [],
   "source": [
    "def solution(keyinput, board):\n",
    "    # 캐릭터의 위치\n",
    "    result = [0,0]\n",
    "\n",
    "    for i in keyinput:\n",
    "        # 방향에 따라 이동\n",
    "        if i == 'right':\n",
    "            result[0] += 1\n",
    "        elif i == 'left':\n",
    "            result[0] -= 1\n",
    "        elif i == 'up':\n",
    "            result[1] += 1\n",
    "        else:\n",
    "            result[1] -= 1\n",
    "        \n",
    "        # 이동했을 때 board 크기를 넘었다면 방향의 반대 실행\n",
    "        if result[0] > board[0]//2:\n",
    "            result[0] -= 1\n",
    "        elif result[0] < -(board[0]//2):\n",
    "            result[0] += 1\n",
    "        elif result[1] > board[1]//2:\n",
    "            result[1] -= 1\n",
    "        elif result[1] < -(board[1]//2):\n",
    "            result[1] += 1\n",
    "            \n",
    "    return result"
   ]
  },
  {
   "cell_type": "markdown",
   "metadata": {},
   "source": [
    "#### 최댓값 만들기(2)"
   ]
  },
  {
   "cell_type": "code",
   "execution_count": null,
   "metadata": {},
   "outputs": [],
   "source": [
    "def solution(numbers):\n",
    "    result = -100000001\n",
    "    for i in range(len(numbers)):\n",
    "        for j in range(i+1,len(numbers)):\n",
    "            if numbers[j]*numbers[i] > result:\n",
    "                result = numbers[j]*numbers[i]\n",
    "    return result"
   ]
  },
  {
   "cell_type": "code",
   "execution_count": null,
   "metadata": {},
   "outputs": [],
   "source": [
    "# 다른 사람 코드 \n",
    "def solution(numbers):\n",
    "    numbers = sorted(numbers)\n",
    "    return max(numbers[0] * numbers[1], numbers[-1]*numbers[-2]) "
   ]
  },
  {
   "cell_type": "markdown",
   "metadata": {},
   "source": [
    "#### 다항식 더하기"
   ]
  },
  {
   "cell_type": "code",
   "execution_count": 7,
   "metadata": {},
   "outputs": [],
   "source": [
    "# 코드가 좀 더럽지만.. 성공...\n",
    "def solution(p):\n",
    "    plist = p.split(' ')\n",
    "    # 계수만 담을 배열\n",
    "    x = []\n",
    "    # 상수항 더할 변수\n",
    "    it = 0\n",
    "\n",
    "    for i in range(0,len(plist),2):\n",
    "        # 값에 x가 존재한다면\n",
    "        if 'x' in plist[i]:\n",
    "            # 길이가 1 이라면 (계수가 1 이라는 것)\n",
    "            if len(plist[i]) == 1:\n",
    "                # x를 1로 변환하여 배열에 추가\n",
    "                x.append(plist[i].replace('x','1'))\n",
    "            # 아니라면, x를 빈값으로 변경하여 배열에 추가\n",
    "            else: x.append(plist[i].replace('x',''))\n",
    "        # 상수항이면 그냥 더하기\n",
    "        else:\n",
    "            it += int(plist[i])\n",
    "    # 담긴 게수값은 문자열이므로 정수형으로 변환하여 더하기       \n",
    "    xint = sum([int(i) for i in x])\n",
    "    \n",
    "    # 계수 값이 0이면\n",
    "    if xint == 0:\n",
    "        # 상수항을 제외하여 출력\n",
    "        return f'{it}'\n",
    "    \n",
    "    # 계수 값이 1이면\n",
    "    elif xint == 1:\n",
    "        # 상수항이 없다면\n",
    "        if it == 0:\n",
    "            # 그냥 x만 출력\n",
    "            return 'x'\n",
    "        # 상수항이 존재한다면\n",
    "        else:\n",
    "            return f'x + {it}'\n",
    "    # 상수항이 없다면\n",
    "    elif it == 0:\n",
    "        return f'{xint}x'\n",
    "    # 계수 값이 1이 아니고 상수항도 있다면\n",
    "    else:\n",
    "        return f'{xint}x + {it}'"
   ]
  },
  {
   "cell_type": "code",
   "execution_count": null,
   "metadata": {},
   "outputs": [],
   "source": [
    "# 다른 사람 코드 (조금 더 간결)\n",
    "def solution(polynomial):\n",
    "    xnum = 0\n",
    "    const = 0\n",
    "    for c in polynomial.split(' + '):\n",
    "        # isdigit을 사용하여 숫자(상수항)만 있는지 판별\n",
    "        if c.isdigit():\n",
    "            const+=int(c)\n",
    "        else:\n",
    "            # 계수가 있다면\n",
    "            # 근데 그 계수 값이 1이라면 xnum+1\n",
    "            # 계수값이 1이 아니라면, c[:-1] (x를 제외한 앞의 숫자)를 더하기\n",
    "            xnum = xnum+1 if c=='x' else xnum+int(c[:-1])\n",
    "\n",
    "    # 계수값이 없다면\n",
    "    if xnum == 0:\n",
    "        return str(const)\n",
    "    # 계수값이 1이라면, 상수항 유무에 따라 다르게 출력\n",
    "    elif xnum==1:\n",
    "        # 상수항이 0이 아리나면 상수항도 같이 출력, 0이라면 x만 출력\n",
    "        return 'x + '+str(const) if const!=0 else 'x'\n",
    "    # 계수 값이 1이 아니라면, 상수항 유무에 따라 다르게 출력\n",
    "    else:\n",
    "        return f'{xnum}x + {const}' if const!=0 else f'{xnum}x'"
   ]
  },
  {
   "cell_type": "code",
   "execution_count": 6,
   "metadata": {},
   "outputs": [
    {
     "name": "stdout",
     "output_type": "stream",
     "text": [
      "True\n"
     ]
    }
   ],
   "source": [
    "print('x' in '3x')"
   ]
  },
  {
   "cell_type": "markdown",
   "metadata": {},
   "source": [
    "### Day21"
   ]
  },
  {
   "cell_type": "markdown",
   "metadata": {},
   "source": [
    "#### 숨어있는 숫자의 덧셈(2)"
   ]
  },
  {
   "cell_type": "code",
   "execution_count": null,
   "metadata": {},
   "outputs": [],
   "source": [
    "import re\n",
    "\n",
    "def solution(my_string):\n",
    "    li = re.findall(r'[0-9]+', my_string)\n",
    "    return sum(list(map(int, li)))"
   ]
  },
  {
   "cell_type": "code",
   "execution_count": null,
   "metadata": {},
   "outputs": [],
   "source": [
    "# 다른 사람 코드 / 처음에 풀고 싶었던 방식..\n",
    "def solution(my_string):\n",
    "    s = ''.join(i if i.isdigit() else ' ' for i in my_string)\n",
    "    return sum(int(i) for i in s.split())\n"
   ]
  },
  {
   "cell_type": "markdown",
   "metadata": {},
   "source": [
    "#### 안전지대"
   ]
  },
  {
   "cell_type": "markdown",
   "metadata": {},
   "source": [
    "#### 삼각형의 완성조건(2)"
   ]
  },
  {
   "cell_type": "markdown",
   "metadata": {},
   "source": [
    "#### 외계어 사전"
   ]
  },
  {
   "cell_type": "code",
   "execution_count": null,
   "metadata": {},
   "outputs": [],
   "source": [
    "\n",
    "def solution(spell, dic):\n",
    "    for i in dic:\n",
    "        temp = 0\n",
    "        for j in spell:\n",
    "            if j in i:\n",
    "                temp += 1\n",
    "        if temp == len(spell):\n",
    "            return 1\n",
    "    return 2"
   ]
  },
  {
   "cell_type": "code",
   "execution_count": null,
   "metadata": {},
   "outputs": [],
   "source": [
    "# 다른 사람 코드\n",
    "def solution(spell, dic):\n",
    "    spell = set(spell)\n",
    "    for s in dic:\n",
    "        if not spell-set(s):\n",
    "            return 1\n",
    "    return 2"
   ]
  },
  {
   "cell_type": "markdown",
   "metadata": {},
   "source": [
    "### Day22"
   ]
  },
  {
   "cell_type": "markdown",
   "metadata": {},
   "source": [
    "#### 저주의 숫자 3"
   ]
  },
  {
   "cell_type": "markdown",
   "metadata": {},
   "source": [
    "#### 평행"
   ]
  },
  {
   "cell_type": "markdown",
   "metadata": {},
   "source": [
    "#### 겹치는 선분의 길이"
   ]
  },
  {
   "cell_type": "markdown",
   "metadata": {},
   "source": [
    "#### 유한소수 판별하기"
   ]
  },
  {
   "cell_type": "markdown",
   "metadata": {},
   "source": [
    "### 코딩테스트 기초"
   ]
  },
  {
   "cell_type": "markdown",
   "metadata": {},
   "source": [
    "### Day11"
   ]
  },
  {
   "cell_type": "markdown",
   "metadata": {},
   "source": [
    "#### 문자수 세기"
   ]
  },
  {
   "cell_type": "code",
   "execution_count": null,
   "metadata": {},
   "outputs": [],
   "source": [
    "# 알파벳 만들어주는 모듈\n",
    "from string import ascii_lowercase, ascii_uppercase\n",
    "\n",
    "def solution(my_string):\n",
    "    # 대문자, 소문자 저장하기\n",
    "    alphabet_list = list(ascii_uppercase) + list(ascii_lowercase)\n",
    "    # 영어 갯수만큼 0 만들기\n",
    "    result = [0]*len(alphabet_list)\n",
    "    \n",
    "    # 반복을 통해서 해당 문자열 찾기\n",
    "    for ind, val in  enumerate(alphabet_list):\n",
    "        # 만약 my_string에 문자열 값이 있으면\n",
    "        if val in my_string:\n",
    "            # result에 해당 문자열이 들어있는 갯수만큼 값 추가\n",
    "            result[ind] += my_string.count(val)\n",
    "        \n",
    "    return result"
   ]
  },
  {
   "cell_type": "code",
   "execution_count": null,
   "metadata": {},
   "outputs": [],
   "source": [
    "# 다른사람 코드\n",
    "# 조금 더 간결한 코드\n",
    "def solution(my_string):\n",
    "    answer=[0]*52\n",
    "    for x in my_string:\n",
    "        if x.isupper():\n",
    "            answer[ord(x)-65]+=1\n",
    "        else:\n",
    "            answer[ord(x)-71]+=1\n",
    "    return answer"
   ]
  },
  {
   "cell_type": "markdown",
   "metadata": {},
   "source": [
    "#### 배열 만들기"
   ]
  },
  {
   "cell_type": "code",
   "execution_count": null,
   "metadata": {},
   "outputs": [],
   "source": [
    "def solution(n, k):\n",
    "    result = []\n",
    "    \n",
    "    for i in range(1,n+1):\n",
    "        if i % k == 0:\n",
    "            result.append(i)\n",
    "            \n",
    "    return result"
   ]
  },
  {
   "cell_type": "code",
   "execution_count": null,
   "metadata": {},
   "outputs": [],
   "source": [
    "# range를 잘 활용하자 (다른사람 코드)\n",
    "def solution(n, k):\n",
    "    return [i for i in range(k,n+1,k)]"
   ]
  },
  {
   "cell_type": "markdown",
   "metadata": {},
   "source": [
    "#### 글자 지우기"
   ]
  },
  {
   "cell_type": "code",
   "execution_count": null,
   "metadata": {},
   "outputs": [],
   "source": [
    "def solution(my_string, indices):\n",
    "    ms_list = list(my_string)\n",
    "    for i in indices:\n",
    "        ms_list[i] = ''\n",
    "    \n",
    "    return ''.join(ms_list)\n"
   ]
  },
  {
   "cell_type": "markdown",
   "metadata": {},
   "source": [
    "#### 카운트 다운"
   ]
  },
  {
   "cell_type": "code",
   "execution_count": null,
   "metadata": {},
   "outputs": [],
   "source": [
    "def solution(start, end):\n",
    "    return [i for i in range(start,end-1,-1)]"
   ]
  },
  {
   "cell_type": "markdown",
   "metadata": {},
   "source": [
    "#### 가까운 1 찾기"
   ]
  },
  {
   "cell_type": "code",
   "execution_count": null,
   "metadata": {},
   "outputs": [],
   "source": [
    "def solution(arr, idx):\n",
    "    for i in range(idx,len(arr)):\n",
    "        if arr[i] == 1:\n",
    "            return i\n",
    "    return -1"
   ]
  },
  {
   "cell_type": "markdown",
   "metadata": {},
   "source": [
    "### Day12"
   ]
  },
  {
   "cell_type": "markdown",
   "metadata": {},
   "source": [
    "#### 리스트 자르기"
   ]
  },
  {
   "cell_type": "code",
   "execution_count": null,
   "metadata": {},
   "outputs": [],
   "source": [
    "def solution(n, slicer, num_list):\n",
    "    if n == 1:\n",
    "        return num_list[:slicer[1]+1]\n",
    "    elif n == 2:\n",
    "        return num_list[slicer[0]:]\n",
    "    elif n == 3:\n",
    "        return num_list[slicer[0]:slicer[1]+1]\n",
    "    else:\n",
    "        return num_list[slicer[0]:slicer[1]+1:slicer[2]]\n",
    "    "
   ]
  },
  {
   "cell_type": "code",
   "execution_count": null,
   "metadata": {},
   "outputs": [],
   "source": [
    "# 다른 사람 코드 \n",
    "# 초 간결, 4가지 슬라이싱을 모두 구해놓고 이 중에 하나를 선택하게 되는...\n",
    "def solution(n, slicer, num_list):\n",
    "    a, b, c = slicer\n",
    "    return [num_list[:b + 1], num_list[a:], num_list[a:b + 1], num_list[a:b + 1:c]][n - 1]"
   ]
  },
  {
   "cell_type": "markdown",
   "metadata": {},
   "source": [
    "#### 첫번째로 나오는 음수"
   ]
  },
  {
   "cell_type": "code",
   "execution_count": null,
   "metadata": {},
   "outputs": [],
   "source": [
    "def solution(num):\n",
    "    for i in range(len(num)):\n",
    "        if num[i] < 0:\n",
    "            return i\n",
    "    return -1"
   ]
  },
  {
   "cell_type": "markdown",
   "metadata": {},
   "source": [
    "#### 배열만들기3"
   ]
  },
  {
   "cell_type": "code",
   "execution_count": null,
   "metadata": {},
   "outputs": [],
   "source": [
    "def solution(arr, intervals):\n",
    "    result = []\n",
    "    for a,b in intervals:\n",
    "        result += arr[a:b+1]\n",
    "    return result"
   ]
  },
  {
   "cell_type": "markdown",
   "metadata": {},
   "source": [
    "#### 2의 영역"
   ]
  },
  {
   "cell_type": "code",
   "execution_count": null,
   "metadata": {},
   "outputs": [],
   "source": [
    "def solution(arr):\n",
    "    two = []\n",
    "    \n",
    "    # 2가 들어있는 인덱스 값 찾아서 저장하기\n",
    "    for i in range(len(arr)):\n",
    "        if arr[i] == 2:\n",
    "            two.append(i)\n",
    "            \n",
    "    # 2의 갯수에 따라 다르게 출력하기\n",
    "    if len(two) == 0:\n",
    "        return [-1]\n",
    "    elif len(two) == 1:\n",
    "        return [arr[two[0]]]\n",
    "    else:\n",
    "        return arr[two[0]:two[-1]+1]"
   ]
  },
  {
   "cell_type": "markdown",
   "metadata": {},
   "source": [
    "index(value) : value의 값이 언제 처음 등장했는지 알려준다. (즉, 가장 처음 등장하는 value 값의 위치를 알려줌) "
   ]
  },
  {
   "cell_type": "code",
   "execution_count": null,
   "metadata": {},
   "outputs": [],
   "source": [
    "# 다른 사람 코드\n",
    "def solution(arr):\n",
    "    if 2 not in arr:\n",
    "        return [-1]\n",
    "    # 처음 2가 등장하는 인덱스부터 ~ 마지막 2(::-1)가 등장하는 인덱스의 위치까지 출력\n",
    "    return arr[arr.index(2) : len(arr) - arr[::-1].index(2)]"
   ]
  },
  {
   "cell_type": "markdown",
   "metadata": {},
   "source": [
    "#### 배열 조각하기"
   ]
  },
  {
   "cell_type": "code",
   "execution_count": null,
   "metadata": {},
   "outputs": [],
   "source": [
    "def solution(arr, query):\n",
    "    for i in range(len(query)):\n",
    "        if i % 2 == 0:\n",
    "            arr = arr[:query[i]+1]\n",
    "        else:\n",
    "            arr = arr[query[i]:]\n",
    "            \n",
    "    return arr"
   ]
  },
  {
   "cell_type": "markdown",
   "metadata": {},
   "source": [
    "### Day13"
   ]
  },
  {
   "cell_type": "markdown",
   "metadata": {},
   "source": [
    "#### n번째 원소부터"
   ]
  },
  {
   "cell_type": "code",
   "execution_count": null,
   "metadata": {},
   "outputs": [],
   "source": [
    "def solution(num_list, n):\n",
    "    return num_list[n-1:]"
   ]
  },
  {
   "cell_type": "markdown",
   "metadata": {},
   "source": [
    "#### 순서 바꾸기"
   ]
  },
  {
   "cell_type": "code",
   "execution_count": null,
   "metadata": {},
   "outputs": [],
   "source": [
    "def solution(num_list, n):\n",
    "    return num_list[n:] + num_list[:n]"
   ]
  },
  {
   "cell_type": "markdown",
   "metadata": {},
   "source": [
    "#### 왼쪽 오른쪽"
   ]
  },
  {
   "cell_type": "code",
   "execution_count": null,
   "metadata": {},
   "outputs": [],
   "source": [
    "def solution(str_list):\n",
    "    for i in str_list:\n",
    "        if i == 'l':\n",
    "            return str_list[:str_list.index('l')]\n",
    "        elif i == 'r':\n",
    "            return str_list[str_list.index('r')+1:]\n",
    "    return []"
   ]
  },
  {
   "cell_type": "markdown",
   "metadata": {},
   "source": [
    "#### n번째 원소까지"
   ]
  },
  {
   "cell_type": "code",
   "execution_count": null,
   "metadata": {},
   "outputs": [],
   "source": [
    "def solution(num_list, n):\n",
    "    return num_list[:n]"
   ]
  },
  {
   "cell_type": "markdown",
   "metadata": {},
   "source": [
    "#### n개 간격의 원소들"
   ]
  },
  {
   "cell_type": "code",
   "execution_count": null,
   "metadata": {},
   "outputs": [],
   "source": [
    "def solution(num_list, n):\n",
    "    return num_list[::n]"
   ]
  },
  {
   "cell_type": "markdown",
   "metadata": {},
   "source": [
    "### Day14"
   ]
  },
  {
   "cell_type": "markdown",
   "metadata": {},
   "source": [
    "#### 홀수 vs 짝수"
   ]
  },
  {
   "cell_type": "code",
   "execution_count": null,
   "metadata": {},
   "outputs": [],
   "source": [
    "def solution(num_list):\n",
    "    odd = 0\n",
    "    even = 0\n",
    "    for i in range(len(num_list)):\n",
    "        if (i+1) % 2 == 0:\n",
    "            even += num_list[i]\n",
    "        else:\n",
    "            odd += num_list[i]\n",
    "    \n",
    "    return even if even > odd else odd"
   ]
  },
  {
   "cell_type": "code",
   "execution_count": null,
   "metadata": {},
   "outputs": [],
   "source": [
    "# 다른 사람 코드 / 초 간단 한줄 코드\n",
    "def solution(num_list):\n",
    "    return max(sum(num_list[::2]), sum(num_list[1::2]))"
   ]
  },
  {
   "cell_type": "markdown",
   "metadata": {},
   "source": [
    "#### 5명씩"
   ]
  },
  {
   "cell_type": "code",
   "execution_count": null,
   "metadata": {},
   "outputs": [],
   "source": [
    "def solution(names):\n",
    "    return names[::5]"
   ]
  },
  {
   "cell_type": "markdown",
   "metadata": {},
   "source": [
    "#### 할 일 목록"
   ]
  },
  {
   "cell_type": "code",
   "execution_count": null,
   "metadata": {},
   "outputs": [],
   "source": [
    "def solution(todo_list, finished):\n",
    "    result = []\n",
    "    for i in range(len(finished)):\n",
    "        if not finished[i]:\n",
    "            result.append(todo_list[i])\n",
    "    return result"
   ]
  },
  {
   "cell_type": "code",
   "execution_count": null,
   "metadata": {},
   "outputs": [],
   "source": [
    "# 다른 사람 코드 / 한줄\n",
    "def solution(todo_list, finished):\n",
    "    return [work for idx, work in enumerate(todo_list) if not finished[idx]]"
   ]
  },
  {
   "cell_type": "markdown",
   "metadata": {},
   "source": [
    "#### n보다 커질 때까지 더하기"
   ]
  },
  {
   "cell_type": "code",
   "execution_count": null,
   "metadata": {},
   "outputs": [],
   "source": [
    "def solution(numbers, n):\n",
    "    result = 0\n",
    "    for i in numbers:\n",
    "        result += i\n",
    "        if result > n:\n",
    "            return result"
   ]
  },
  {
   "cell_type": "markdown",
   "metadata": {},
   "source": [
    "#### 수열과 구간 쿼리 1"
   ]
  },
  {
   "cell_type": "code",
   "execution_count": null,
   "metadata": {},
   "outputs": [],
   "source": [
    "def solution(arr, queries):\n",
    "    for s,e in queries:\n",
    "        for i in range(len(arr)):\n",
    "            if i >= s and i <= e:\n",
    "                arr[i] += 1\n",
    "    return arr"
   ]
  },
  {
   "cell_type": "code",
   "execution_count": null,
   "metadata": {},
   "outputs": [],
   "source": [
    "# 다른 사람 코드 / 조금 더 간결하고 깔끔하게\n",
    "def solution(arr, queries):\n",
    "    for l,r in queries:\n",
    "        for i in range(l,r+1): arr[i]+=1\n",
    "    return arr"
   ]
  },
  {
   "cell_type": "markdown",
   "metadata": {},
   "source": [
    "### Day 15"
   ]
  },
  {
   "cell_type": "markdown",
   "metadata": {},
   "source": [
    "#### 조건에 맞게 수열 변환하기 3"
   ]
  },
  {
   "cell_type": "code",
   "execution_count": null,
   "metadata": {},
   "outputs": [],
   "source": [
    "def solution(arr, k):\n",
    "    for i in range(len(arr)):\n",
    "        if k % 2 == 0:\n",
    "            arr[i] += k\n",
    "        else:\n",
    "            arr[i] *= k\n",
    "    return arr"
   ]
  },
  {
   "cell_type": "markdown",
   "metadata": {},
   "source": [
    "#### 조건에 맞게 수열 변환하기 1"
   ]
  },
  {
   "cell_type": "code",
   "execution_count": null,
   "metadata": {},
   "outputs": [],
   "source": [
    "def solution(arr):\n",
    "    return [i//2 if (i >= 50 and i % 2 == 0) else i*2 if (i < 50 and i%2 != 0) else i for i in arr]"
   ]
  },
  {
   "cell_type": "markdown",
   "metadata": {},
   "source": [
    "#### 조건에 맞게 수열 변환하기2"
   ]
  },
  {
   "cell_type": "code",
   "execution_count": null,
   "metadata": {},
   "outputs": [],
   "source": [
    "def solution(arr):\n",
    "    # 변화되는 배열을 담을 배열 만들기 (단, 빈 배열은 while문 조건이 돌아갈 수 없으므로 임의로 서로 다른 배열 2개를 생성)\n",
    "    count = [[0],[1]]\n",
    "    # count의 -1 값과 -2값이 같으면 반복 종료\n",
    "    while count[-1] != count[-2]:\n",
    "        # 조건에 맞게 변화된 배열을 temp에 저장\n",
    "        temp = [i//2 if (i >= 50 and i % 2 == 0) else i*2+1 if (i < 50 and i%2 != 0) else i for i in arr]\n",
    "        # temp를 count에 추가\n",
    "        count.append(temp)\n",
    "        # 만약 처음의 arr 값과 temp 값이 같다면 반복문 종료\n",
    "        if arr == temp:\n",
    "            break\n",
    "        # 아니라면 arr를 temp로 변경\n",
    "        arr  = temp\n",
    "    # 처음에 임의로 추가한 배열 2개 + 맨 마지막 배열(-2와 동일한 배열)을 제거 한 길이를 출력\n",
    "    return len(count)-3"
   ]
  },
  {
   "cell_type": "markdown",
   "metadata": {},
   "source": [
    "#### 1로 만들기"
   ]
  },
  {
   "cell_type": "code",
   "execution_count": null,
   "metadata": {},
   "outputs": [],
   "source": [
    "def solution(num_list):\n",
    "    count = 0\n",
    "    for i in num_list:\n",
    "        while i != 1:\n",
    "            if i % 2 == 0:\n",
    "                i //= 2\n",
    "            else:\n",
    "                i = (i-1) // 2\n",
    "            count += 1\n",
    "    return count"
   ]
  },
  {
   "cell_type": "markdown",
   "metadata": {},
   "source": [
    "#### 길이에 따른 연산"
   ]
  },
  {
   "cell_type": "code",
   "execution_count": null,
   "metadata": {},
   "outputs": [],
   "source": [
    "# 처음에는 한줄로 작성하고 싶었음.. (근데 실패)\n",
    "def solution(num_list):\n",
    "  return sum(num_list) if len(num_list) >= 11 else [result*=i for i in num_list]\n",
    "\n",
    "# 다른 사람 코드\n",
    "\n",
    "# prod (곱해주는 함수)사용\n",
    "from math import prod\n",
    "def solution(num_list):\n",
    "    return sum(num_list) if len(num_list)>=11 else prod(num_list)\n",
    "\n",
    "# reduce 사용 (여개의 데이터를 대상으로 주로 누적 집계를 내기 위해서 사용함)\n",
    "from functools import reduce\n",
    "def solution(l):\n",
    "    return sum(l) if len(l)>=11 else reduce(lambda a,b: a*b, l)\n",
    "\n"
   ]
  },
  {
   "cell_type": "code",
   "execution_count": null,
   "metadata": {},
   "outputs": [],
   "source": [
    "def solution(num_list):\n",
    "    result = 1\n",
    "    if len(num_list) >= 11:\n",
    "        return sum(num_list)\n",
    "    else:\n",
    "        for i in num_list:\n",
    "            result *= i\n",
    "        return result"
   ]
  },
  {
   "cell_type": "markdown",
   "metadata": {},
   "source": [
    "#### 원하는 문자열 찾기"
   ]
  },
  {
   "cell_type": "code",
   "execution_count": null,
   "metadata": {},
   "outputs": [],
   "source": [
    "# 대소문자 구분 안하므로 모두 소문자로 바꾸고 비교\n",
    "def solution(myString, pat):\n",
    "    return 1 if pat.lower() in myString.lower() else 0"
   ]
  },
  {
   "cell_type": "code",
   "execution_count": null,
   "metadata": {},
   "outputs": [],
   "source": [
    "# 다른 사람 코드 (boolean을 사용해서 true와 false 값을 int로 변환하여 return)\n",
    "def solution(myString, pat):\n",
    "    return int(pat.lower() in myString.lower())"
   ]
  },
  {
   "cell_type": "markdown",
   "metadata": {},
   "source": [
    "### Day16"
   ]
  },
  {
   "cell_type": "markdown",
   "metadata": {},
   "source": [
    "#### 대문자로 바꾸기"
   ]
  },
  {
   "cell_type": "code",
   "execution_count": null,
   "metadata": {},
   "outputs": [],
   "source": [
    "def solution(myString):\n",
    "    return myString.upper()"
   ]
  },
  {
   "cell_type": "markdown",
   "metadata": {},
   "source": [
    "#### 소문자로 바꾸기"
   ]
  },
  {
   "cell_type": "code",
   "execution_count": null,
   "metadata": {},
   "outputs": [],
   "source": [
    "def solution(myString):\n",
    "    return myString.lower()"
   ]
  },
  {
   "cell_type": "markdown",
   "metadata": {},
   "source": [
    "#### 배열에서 문자열 대소문자"
   ]
  },
  {
   "cell_type": "code",
   "execution_count": null,
   "metadata": {},
   "outputs": [],
   "source": [
    "def solution(strArr):\n",
    "    return [i.lower() if strArr.index(i) % 2 == 0 else i.upper() for i in strArr]"
   ]
  },
  {
   "cell_type": "markdown",
   "metadata": {},
   "source": [
    "#### A 강조하기"
   ]
  },
  {
   "cell_type": "code",
   "execution_count": null,
   "metadata": {},
   "outputs": [],
   "source": [
    "def solution(myString):\n",
    "    return ''.join([i.upper() if i == 'a' or i == 'A' else i.lower() for i in myString])"
   ]
  },
  {
   "cell_type": "code",
   "execution_count": null,
   "metadata": {},
   "outputs": [],
   "source": [
    "# 다른 사람 코드 (replace를 쓰면 더 깔끔한데...)\n",
    "def solution(myString):\n",
    "    return myString.lower().replace('a', 'A')\n"
   ]
  },
  {
   "cell_type": "markdown",
   "metadata": {},
   "source": [
    "#### 특정한 문자를 대문자로 바꾸기"
   ]
  },
  {
   "cell_type": "code",
   "execution_count": null,
   "metadata": {},
   "outputs": [],
   "source": [
    "def solution(my_string, alp):\n",
    "    return my_string.replace(alp,alp.upper())"
   ]
  },
  {
   "cell_type": "markdown",
   "metadata": {},
   "source": [
    "### Lv.1"
   ]
  }
 ],
 "metadata": {
  "kernelspec": {
   "display_name": "Python 3",
   "language": "python",
   "name": "python3"
  },
  "language_info": {
   "codemirror_mode": {
    "name": "ipython",
    "version": 3
   },
   "file_extension": ".py",
   "mimetype": "text/x-python",
   "name": "python",
   "nbconvert_exporter": "python",
   "pygments_lexer": "ipython3",
   "version": "3.11.4"
  },
  "orig_nbformat": 4
 },
 "nbformat": 4,
 "nbformat_minor": 2
}
