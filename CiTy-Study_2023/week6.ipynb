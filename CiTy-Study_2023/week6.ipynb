{
 "cells": [
  {
   "cell_type": "markdown",
   "metadata": {},
   "source": [
    "### 프로그래머스 - 코딩테스트 문제 풀이"
   ]
  },
  {
   "cell_type": "markdown",
   "metadata": {},
   "source": [
    "### 코딩테스트 입문"
   ]
  },
  {
   "cell_type": "markdown",
   "metadata": {},
   "source": [
    "### 코딩테스트 기초"
   ]
  },
  {
   "cell_type": "markdown",
   "metadata": {},
   "source": [
    "### Day11"
   ]
  },
  {
   "cell_type": "markdown",
   "metadata": {},
   "source": [
    "#### 문자수 세기"
   ]
  },
  {
   "cell_type": "code",
   "execution_count": null,
   "metadata": {},
   "outputs": [],
   "source": [
    "# 알파벳 만들어주는 모듈\n",
    "from string import ascii_lowercase, ascii_uppercase\n",
    "\n",
    "def solution(my_string):\n",
    "    # 대문자, 소문자 저장하기\n",
    "    alphabet_list = list(ascii_uppercase) + list(ascii_lowercase)\n",
    "    # 영어 갯수만큼 0 만들기\n",
    "    result = [0]*len(alphabet_list)\n",
    "    \n",
    "    # 반복을 통해서 해당 문자열 찾기\n",
    "    for ind, val in  enumerate(alphabet_list):\n",
    "        # 만약 my_string에 문자열 값이 있으면\n",
    "        if val in my_string:\n",
    "            # result에 해당 문자열이 들어있는 갯수만큼 값 추가\n",
    "            result[ind] += my_string.count(val)\n",
    "        \n",
    "    return result"
   ]
  },
  {
   "cell_type": "code",
   "execution_count": null,
   "metadata": {},
   "outputs": [],
   "source": [
    "# 다른사람 코드\n",
    "# 조금 더 간결한 코드\n",
    "def solution(my_string):\n",
    "    answer=[0]*52\n",
    "    for x in my_string:\n",
    "        if x.isupper():\n",
    "            answer[ord(x)-65]+=1\n",
    "        else:\n",
    "            answer[ord(x)-71]+=1\n",
    "    return answer"
   ]
  },
  {
   "cell_type": "markdown",
   "metadata": {},
   "source": [
    "#### 배열 만들기"
   ]
  },
  {
   "cell_type": "code",
   "execution_count": null,
   "metadata": {},
   "outputs": [],
   "source": [
    "def solution(n, k):\n",
    "    result = []\n",
    "    \n",
    "    for i in range(1,n+1):\n",
    "        if i % k == 0:\n",
    "            result.append(i)\n",
    "            \n",
    "    return result"
   ]
  },
  {
   "cell_type": "code",
   "execution_count": null,
   "metadata": {},
   "outputs": [],
   "source": [
    "# range를 잘 활용하자 (다른사람 코드)\n",
    "def solution(n, k):\n",
    "    return [i for i in range(k,n+1,k)]"
   ]
  },
  {
   "cell_type": "markdown",
   "metadata": {},
   "source": [
    "#### 글자 지우기"
   ]
  },
  {
   "cell_type": "code",
   "execution_count": null,
   "metadata": {},
   "outputs": [],
   "source": [
    "def solution(my_string, indices):\n",
    "    ms_list = list(my_string)\n",
    "    for i in indices:\n",
    "        ms_list[i] = ''\n",
    "    \n",
    "    return ''.join(ms_list)\n"
   ]
  },
  {
   "cell_type": "markdown",
   "metadata": {},
   "source": [
    "#### 카운트 다운"
   ]
  },
  {
   "cell_type": "code",
   "execution_count": null,
   "metadata": {},
   "outputs": [],
   "source": [
    "def solution(start, end):\n",
    "    return [i for i in range(start,end-1,-1)]"
   ]
  },
  {
   "cell_type": "markdown",
   "metadata": {},
   "source": [
    "#### 가까운 1 찾기"
   ]
  },
  {
   "cell_type": "code",
   "execution_count": null,
   "metadata": {},
   "outputs": [],
   "source": [
    "def solution(arr, idx):\n",
    "    for i in range(idx,len(arr)):\n",
    "        if arr[i] == 1:\n",
    "            return i\n",
    "    return -1"
   ]
  },
  {
   "cell_type": "markdown",
   "metadata": {},
   "source": [
    "### Day12"
   ]
  },
  {
   "cell_type": "markdown",
   "metadata": {},
   "source": [
    "### Lv.1"
   ]
  }
 ],
 "metadata": {
  "kernelspec": {
   "display_name": "Python 3",
   "language": "python",
   "name": "python3"
  },
  "language_info": {
   "name": "python",
   "version": "3.11.4"
  },
  "orig_nbformat": 4
 },
 "nbformat": 4,
 "nbformat_minor": 2
}
