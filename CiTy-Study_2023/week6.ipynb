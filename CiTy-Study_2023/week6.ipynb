{
 "cells": [
  {
   "cell_type": "markdown",
   "metadata": {},
   "source": [
    "### 프로그래머스 - 코딩테스트 문제 풀이"
   ]
  },
  {
   "cell_type": "markdown",
   "metadata": {},
   "source": [
    "### 코딩테스트 입문"
   ]
  },
  {
   "cell_type": "markdown",
   "metadata": {},
   "source": [
    "#### 숫자 찾기"
   ]
  },
  {
   "cell_type": "code",
   "execution_count": null,
   "metadata": {},
   "outputs": [],
   "source": [
    "def solution(num, k):\n",
    "    # 두 매개변수 모두 타입이 int이기에 str로 변경해야 함\n",
    "    if str(k) in str(num):\n",
    "        return str(num).index(str(k)) + 1\n",
    "    else:\n",
    "        return -1"
   ]
  },
  {
   "cell_type": "markdown",
   "metadata": {},
   "source": [
    "#### n의 배수 고르기\n",
    "\n",
    "처음에는 기존 인덱스에서 n의 배수가 아닌 값들을 삭제하려고 했으나, 삭제한 다음의 값이 for 루프에 포함되지 않는 현상 발생.  \n",
    "따라서 코드를 삭제에서 새로운 변수를 만들어서 n의 배수를 추가하는 방향으로 변경"
   ]
  },
  {
   "cell_type": "code",
   "execution_count": null,
   "metadata": {},
   "outputs": [],
   "source": [
    "def solution(n, numlist):\n",
    "    result = []\n",
    "    for i in numlist:\n",
    "        if i % n == 0:\n",
    "            result.append(i)\n",
    "    return result"
   ]
  },
  {
   "cell_type": "markdown",
   "metadata": {},
   "source": [
    "다른 분의 코드, filter를 활용함...!  \n",
    "filter는 그냥 사용하면 코드가 단축된 느낌이 없는데, lamda를 활용해야 대폭 단축됨  \n",
    "filter의 주의점은 type이 filter로 자동 변경됨. 따라서 원하는 type으로 변경해서 사용해야 함"
   ]
  },
  {
   "cell_type": "code",
   "execution_count": null,
   "metadata": {},
   "outputs": [],
   "source": [
    "# 다른 사람 코드 \n",
    "def solution(n, numlist):\n",
    "    return list(filter(lambda v: v%n==0, numlist))"
   ]
  },
  {
   "cell_type": "markdown",
   "metadata": {},
   "source": [
    "#### 자릿수 더하기"
   ]
  },
  {
   "cell_type": "code",
   "execution_count": null,
   "metadata": {},
   "outputs": [],
   "source": [
    "def solution(n):\n",
    "    result = 0\n",
    "    for i in str(n):\n",
    "        result += int(i)\n",
    "    return result"
   ]
  },
  {
   "cell_type": "code",
   "execution_count": null,
   "metadata": {},
   "outputs": [],
   "source": [
    "# 다른 사람 코드\n",
    "def solution(n):\n",
    "    return sum(int(i) for i in str(n))"
   ]
  },
  {
   "cell_type": "markdown",
   "metadata": {},
   "source": [
    "#### OX퀴즈"
   ]
  },
  {
   "cell_type": "code",
   "execution_count": null,
   "metadata": {},
   "outputs": [],
   "source": [
    "def solution(quiz):\n",
    "    result = []\n",
    "\n",
    "    # 반복문을 통해 quiz 배열을 돈다\n",
    "    for i in quiz:\n",
    "        # split한 마지막 배열의 값(결과 값)을 temp에 저장\n",
    "        temp = i.split(' ')[4]\n",
    "\n",
    "        # 연산자(1번 배열)에 따라 연산후, stemp 변수에 값 저장\n",
    "        if i.split(' ')[1] == '+':\n",
    "            stemp = int(i.split(' ')[0]) + int(i.split(' ')[2])\n",
    "        elif i.split(' ')[1] == '-':\n",
    "            stemp = int(i.split(' ')[0]) - int(i.split(' ')[2])\n",
    "            \n",
    "        # temp와 stemp가 같은지 비교\n",
    "        if stemp == int(temp):\n",
    "            result.append('O')\n",
    "        else:\n",
    "            result.append('X')\n",
    "    return result"
   ]
  },
  {
   "cell_type": "markdown",
   "metadata": {},
   "source": [
    "eval()을 사용하고 싶었으나 계속 에러 발생...  \n",
    "다른 분의 코드를 확인하니 되는 듯 하다..?\n",
    "\n",
    "다른 사람의 코드가 에러 없이 eval을 사용할 수 있는 이유  \n",
    "-> eval은 문자열을 연산해주는 건데, 이미 연산의 결과(=)가 존재하므로 작동하지 않는 것이었음..  \n",
    "따라서 '='의 값을 '=='으로 변경해서 연산을 실행하거나, '='을 기준으로 split하여 '='의 앞 부분만 연산을 실행해야 에러발생이 안됨."
   ]
  },
  {
   "cell_type": "code",
   "execution_count": null,
   "metadata": {},
   "outputs": [],
   "source": [
    "# 다른 사람 코드 \n",
    "\n",
    "def valid(equation):\n",
    "    equation = equation.replace('=', '==')\n",
    "    return eval(equation)\n",
    "\n",
    "def solution(equations):\n",
    "    return [\"O\" if valid(equation) else \"X\" for equation in equations]    \n"
   ]
  },
  {
   "cell_type": "markdown",
   "metadata": {},
   "source": [
    "### Day18"
   ]
  },
  {
   "cell_type": "markdown",
   "metadata": {},
   "source": [
    "#### 문자열 안의 문자열"
   ]
  },
  {
   "cell_type": "code",
   "execution_count": null,
   "metadata": {},
   "outputs": [],
   "source": [
    "def solution(str1, str2):\n",
    "    return 1 if str2 in str1 else 2"
   ]
  },
  {
   "cell_type": "markdown",
   "metadata": {},
   "source": [
    "#### 제곱수 판별하기"
   ]
  },
  {
   "cell_type": "code",
   "execution_count": null,
   "metadata": {},
   "outputs": [],
   "source": [
    "def solution(n):\n",
    "    for i in range(1,1000001):\n",
    "        if i**2 == n:\n",
    "            return 1\n",
    "    return 2"
   ]
  },
  {
   "cell_type": "code",
   "execution_count": null,
   "metadata": {},
   "outputs": [],
   "source": [
    "# 다른 사람 코드 / 무식하게 for 다 돌리지 않고 구하는 방법...\n",
    "def solution(n):\n",
    "    return 1 if (n ** 0.5).is_integer() else 2"
   ]
  },
  {
   "cell_type": "markdown",
   "metadata": {},
   "source": [
    "#### 세균증식"
   ]
  },
  {
   "cell_type": "code",
   "execution_count": null,
   "metadata": {},
   "outputs": [],
   "source": [
    "def solution(n, t):\n",
    "    return (2 ** t) * n"
   ]
  },
  {
   "cell_type": "code",
   "execution_count": null,
   "metadata": {},
   "outputs": [],
   "source": [
    "# 다른 사람 코드 / 시프트 연산자로 풀기...\n",
    "# n의 비트를 t번 왼쪽으로 이동시킴\n",
    "def solution(n, t):\n",
    "    return n << t"
   ]
  },
  {
   "cell_type": "markdown",
   "metadata": {},
   "source": [
    "#### 문자열 정렬하기(2)"
   ]
  },
  {
   "cell_type": "code",
   "execution_count": null,
   "metadata": {},
   "outputs": [],
   "source": [
    "def solution(my_string):\n",
    "    return ''.join(sorted(my_string.lower()))"
   ]
  },
  {
   "cell_type": "markdown",
   "metadata": {},
   "source": [
    "### Day19"
   ]
  },
  {
   "cell_type": "markdown",
   "metadata": {},
   "source": [
    "#### 7의 개수"
   ]
  },
  {
   "cell_type": "code",
   "execution_count": null,
   "metadata": {},
   "outputs": [],
   "source": [
    "def solution(array):\n",
    "    result = 0\n",
    "    for i in array:\n",
    "        result += int(str(i).count('7'))\n",
    "    return result\n",
    "\n",
    "# 한줄 코드\n",
    "def solution(array):\n",
    "    return str(array).count('7')"
   ]
  },
  {
   "cell_type": "markdown",
   "metadata": {},
   "source": [
    "#### 잘라서 배열로 저장하기"
   ]
  },
  {
   "cell_type": "code",
   "execution_count": null,
   "metadata": {},
   "outputs": [],
   "source": [
    "import math\n",
    "def solution(my_str, n):\n",
    "    result = []\n",
    "    # 문자열 길이를 n으로 나눈 후 올림 한 값을 저장 \n",
    "    indx = math.ceil(len(my_str)/n)\n",
    "\n",
    "    # 문자열 자르기\n",
    "    for i in my_str:\n",
    "        # n의 값만 큼 문자열 자르기\n",
    "        result.append(my_str[:n])\n",
    "        # 자른 부분은 빈 문자열로 변경하기\n",
    "        my_str = my_str.replace(my_str[:n],'',1)\n",
    "    \n",
    "    # 그냥 result를 출력하면 빈 문자열로 변경한 것 또한 존재함. 따라서 위에서 구한 indx 인덱스 값까지만 출력\n",
    "    return result[:indx]"
   ]
  },
  {
   "cell_type": "code",
   "execution_count": null,
   "metadata": {},
   "outputs": [],
   "source": [
    "# 다른 사람 코드\n",
    "def solution(my_str, n):\n",
    "    # 슬라이싱은 값을 초과해도 에러 발생 안함\n",
    "    return [my_str[i: i + n] for i in range(0, len(my_str), n)]\n"
   ]
  },
  {
   "cell_type": "markdown",
   "metadata": {},
   "source": [
    "#### 중복된 숫자 개수"
   ]
  },
  {
   "cell_type": "code",
   "execution_count": null,
   "metadata": {},
   "outputs": [],
   "source": [
    "def solution(array, n):\n",
    "    return array.count(n)"
   ]
  },
  {
   "cell_type": "markdown",
   "metadata": {},
   "source": [
    "#### 머쓱이보다 키 큰 사람"
   ]
  },
  {
   "cell_type": "code",
   "execution_count": null,
   "metadata": {},
   "outputs": [],
   "source": [
    "def solution(array, height):\n",
    "    result = 0\n",
    "    for i in array:\n",
    "        if i > height:\n",
    "            result += 1\n",
    "    return result"
   ]
  },
  {
   "cell_type": "code",
   "execution_count": null,
   "metadata": {},
   "outputs": [],
   "source": [
    "# 다른 사람 코드\n",
    "# 한줄 코드로 변경하고 싶었는데 sum으로 감싸면 되는 거였음..\n",
    "def solution(array, height):\n",
    "    return sum(1 for a in array if a > height)\n"
   ]
  },
  {
   "cell_type": "markdown",
   "metadata": {},
   "source": [
    "### Day20"
   ]
  },
  {
   "cell_type": "markdown",
   "metadata": {},
   "source": [
    "#### 직사각형 넓이 구하기"
   ]
  },
  {
   "cell_type": "markdown",
   "metadata": {},
   "source": [
    "#### 캐릭터의 좌표"
   ]
  },
  {
   "cell_type": "markdown",
   "metadata": {},
   "source": [
    "#### 최댓값 만들기(2)"
   ]
  },
  {
   "cell_type": "markdown",
   "metadata": {},
   "source": [
    "#### 다항식 더하기"
   ]
  },
  {
   "cell_type": "markdown",
   "metadata": {},
   "source": [
    "### Day21"
   ]
  },
  {
   "cell_type": "markdown",
   "metadata": {},
   "source": [
    "#### 숨어있는 숫자의 덧셈(2)"
   ]
  },
  {
   "cell_type": "markdown",
   "metadata": {},
   "source": [
    "#### 안전지대"
   ]
  },
  {
   "cell_type": "markdown",
   "metadata": {},
   "source": [
    "#### 삼각형의 완성조건(2)"
   ]
  },
  {
   "cell_type": "markdown",
   "metadata": {},
   "source": [
    "#### 외계어 사전"
   ]
  },
  {
   "cell_type": "markdown",
   "metadata": {},
   "source": [
    "### Day22"
   ]
  },
  {
   "cell_type": "markdown",
   "metadata": {},
   "source": [
    "#### 저주의 숫자 3"
   ]
  },
  {
   "cell_type": "markdown",
   "metadata": {},
   "source": [
    "#### 평행"
   ]
  },
  {
   "cell_type": "markdown",
   "metadata": {},
   "source": [
    "#### 겹치는 선분의 길이"
   ]
  },
  {
   "cell_type": "markdown",
   "metadata": {},
   "source": [
    "#### 유한소수 판별하기"
   ]
  },
  {
   "cell_type": "markdown",
   "metadata": {},
   "source": [
    "### 코딩테스트 기초"
   ]
  },
  {
   "cell_type": "markdown",
   "metadata": {},
   "source": [
    "### Day11"
   ]
  },
  {
   "cell_type": "markdown",
   "metadata": {},
   "source": [
    "#### 문자수 세기"
   ]
  },
  {
   "cell_type": "code",
   "execution_count": null,
   "metadata": {},
   "outputs": [],
   "source": [
    "# 알파벳 만들어주는 모듈\n",
    "from string import ascii_lowercase, ascii_uppercase\n",
    "\n",
    "def solution(my_string):\n",
    "    # 대문자, 소문자 저장하기\n",
    "    alphabet_list = list(ascii_uppercase) + list(ascii_lowercase)\n",
    "    # 영어 갯수만큼 0 만들기\n",
    "    result = [0]*len(alphabet_list)\n",
    "    \n",
    "    # 반복을 통해서 해당 문자열 찾기\n",
    "    for ind, val in  enumerate(alphabet_list):\n",
    "        # 만약 my_string에 문자열 값이 있으면\n",
    "        if val in my_string:\n",
    "            # result에 해당 문자열이 들어있는 갯수만큼 값 추가\n",
    "            result[ind] += my_string.count(val)\n",
    "        \n",
    "    return result"
   ]
  },
  {
   "cell_type": "code",
   "execution_count": null,
   "metadata": {},
   "outputs": [],
   "source": [
    "# 다른사람 코드\n",
    "# 조금 더 간결한 코드\n",
    "def solution(my_string):\n",
    "    answer=[0]*52\n",
    "    for x in my_string:\n",
    "        if x.isupper():\n",
    "            answer[ord(x)-65]+=1\n",
    "        else:\n",
    "            answer[ord(x)-71]+=1\n",
    "    return answer"
   ]
  },
  {
   "cell_type": "markdown",
   "metadata": {},
   "source": [
    "#### 배열 만들기"
   ]
  },
  {
   "cell_type": "code",
   "execution_count": null,
   "metadata": {},
   "outputs": [],
   "source": [
    "def solution(n, k):\n",
    "    result = []\n",
    "    \n",
    "    for i in range(1,n+1):\n",
    "        if i % k == 0:\n",
    "            result.append(i)\n",
    "            \n",
    "    return result"
   ]
  },
  {
   "cell_type": "code",
   "execution_count": null,
   "metadata": {},
   "outputs": [],
   "source": [
    "# range를 잘 활용하자 (다른사람 코드)\n",
    "def solution(n, k):\n",
    "    return [i for i in range(k,n+1,k)]"
   ]
  },
  {
   "cell_type": "markdown",
   "metadata": {},
   "source": [
    "#### 글자 지우기"
   ]
  },
  {
   "cell_type": "code",
   "execution_count": null,
   "metadata": {},
   "outputs": [],
   "source": [
    "def solution(my_string, indices):\n",
    "    ms_list = list(my_string)\n",
    "    for i in indices:\n",
    "        ms_list[i] = ''\n",
    "    \n",
    "    return ''.join(ms_list)\n"
   ]
  },
  {
   "cell_type": "markdown",
   "metadata": {},
   "source": [
    "#### 카운트 다운"
   ]
  },
  {
   "cell_type": "code",
   "execution_count": null,
   "metadata": {},
   "outputs": [],
   "source": [
    "def solution(start, end):\n",
    "    return [i for i in range(start,end-1,-1)]"
   ]
  },
  {
   "cell_type": "markdown",
   "metadata": {},
   "source": [
    "#### 가까운 1 찾기"
   ]
  },
  {
   "cell_type": "code",
   "execution_count": null,
   "metadata": {},
   "outputs": [],
   "source": [
    "def solution(arr, idx):\n",
    "    for i in range(idx,len(arr)):\n",
    "        if arr[i] == 1:\n",
    "            return i\n",
    "    return -1"
   ]
  },
  {
   "cell_type": "markdown",
   "metadata": {},
   "source": [
    "### Day12"
   ]
  },
  {
   "cell_type": "markdown",
   "metadata": {},
   "source": [
    "#### 리스트 자르기"
   ]
  },
  {
   "cell_type": "code",
   "execution_count": null,
   "metadata": {},
   "outputs": [],
   "source": [
    "def solution(n, slicer, num_list):\n",
    "    if n == 1:\n",
    "        return num_list[:slicer[1]+1]\n",
    "    elif n == 2:\n",
    "        return num_list[slicer[0]:]\n",
    "    elif n == 3:\n",
    "        return num_list[slicer[0]:slicer[1]+1]\n",
    "    else:\n",
    "        return num_list[slicer[0]:slicer[1]+1:slicer[2]]\n",
    "    "
   ]
  },
  {
   "cell_type": "code",
   "execution_count": null,
   "metadata": {},
   "outputs": [],
   "source": [
    "# 다른 사람 코드 \n",
    "# 초 간결, 4가지 슬라이싱을 모두 구해놓고 이 중에 하나를 선택하게 되는...\n",
    "def solution(n, slicer, num_list):\n",
    "    a, b, c = slicer\n",
    "    return [num_list[:b + 1], num_list[a:], num_list[a:b + 1], num_list[a:b + 1:c]][n - 1]"
   ]
  },
  {
   "cell_type": "markdown",
   "metadata": {},
   "source": [
    "#### 첫번째로 나오는 음수"
   ]
  },
  {
   "cell_type": "code",
   "execution_count": null,
   "metadata": {},
   "outputs": [],
   "source": [
    "def solution(num):\n",
    "    for i in range(len(num)):\n",
    "        if num[i] < 0:\n",
    "            return i\n",
    "    return -1"
   ]
  },
  {
   "cell_type": "markdown",
   "metadata": {},
   "source": [
    "#### 배열만들기3"
   ]
  },
  {
   "cell_type": "code",
   "execution_count": null,
   "metadata": {},
   "outputs": [],
   "source": [
    "def solution(arr, intervals):\n",
    "    result = []\n",
    "    for a,b in intervals:\n",
    "        result += arr[a:b+1]\n",
    "    return result"
   ]
  },
  {
   "cell_type": "markdown",
   "metadata": {},
   "source": [
    "#### 2의 영역"
   ]
  },
  {
   "cell_type": "code",
   "execution_count": null,
   "metadata": {},
   "outputs": [],
   "source": [
    "def solution(arr):\n",
    "    two = []\n",
    "    \n",
    "    # 2가 들어있는 인덱스 값 찾아서 저장하기\n",
    "    for i in range(len(arr)):\n",
    "        if arr[i] == 2:\n",
    "            two.append(i)\n",
    "            \n",
    "    # 2의 갯수에 따라 다르게 출력하기\n",
    "    if len(two) == 0:\n",
    "        return [-1]\n",
    "    elif len(two) == 1:\n",
    "        return [arr[two[0]]]\n",
    "    else:\n",
    "        return arr[two[0]:two[-1]+1]"
   ]
  },
  {
   "cell_type": "markdown",
   "metadata": {},
   "source": [
    "index(value) : value의 값이 언제 처음 등장했는지 알려준다. (즉, 가장 처음 등장하는 value 값의 위치를 알려줌) "
   ]
  },
  {
   "cell_type": "code",
   "execution_count": null,
   "metadata": {},
   "outputs": [],
   "source": [
    "# 다른 사람 코드\n",
    "def solution(arr):\n",
    "    if 2 not in arr:\n",
    "        return [-1]\n",
    "    # 처음 2가 등장하는 인덱스부터 ~ 마지막 2(::-1)가 등장하는 인덱스의 위치까지 출력\n",
    "    return arr[arr.index(2) : len(arr) - arr[::-1].index(2)]"
   ]
  },
  {
   "cell_type": "markdown",
   "metadata": {},
   "source": [
    "#### 배열 조각하기"
   ]
  },
  {
   "cell_type": "code",
   "execution_count": null,
   "metadata": {},
   "outputs": [],
   "source": [
    "def solution(arr, query):\n",
    "    for i in range(len(query)):\n",
    "        if i % 2 == 0:\n",
    "            arr = arr[:query[i]+1]\n",
    "        else:\n",
    "            arr = arr[query[i]:]\n",
    "            \n",
    "    return arr"
   ]
  },
  {
   "cell_type": "markdown",
   "metadata": {},
   "source": [
    "### Day13"
   ]
  },
  {
   "cell_type": "markdown",
   "metadata": {},
   "source": [
    "#### n번째 원소부터"
   ]
  },
  {
   "cell_type": "code",
   "execution_count": null,
   "metadata": {},
   "outputs": [],
   "source": [
    "def solution(num_list, n):\n",
    "    return num_list[n-1:]"
   ]
  },
  {
   "cell_type": "markdown",
   "metadata": {},
   "source": [
    "#### 순서 바꾸기"
   ]
  },
  {
   "cell_type": "code",
   "execution_count": null,
   "metadata": {},
   "outputs": [],
   "source": [
    "def solution(num_list, n):\n",
    "    return num_list[n:] + num_list[:n]"
   ]
  },
  {
   "cell_type": "markdown",
   "metadata": {},
   "source": [
    "#### 왼쪽 오른쪽"
   ]
  },
  {
   "cell_type": "code",
   "execution_count": null,
   "metadata": {},
   "outputs": [],
   "source": [
    "def solution(str_list):\n",
    "    for i in str_list:\n",
    "        if i == 'l':\n",
    "            return str_list[:str_list.index('l')]\n",
    "        elif i == 'r':\n",
    "            return str_list[str_list.index('r')+1:]\n",
    "    return []"
   ]
  },
  {
   "cell_type": "markdown",
   "metadata": {},
   "source": [
    "#### n번째 원소까지"
   ]
  },
  {
   "cell_type": "code",
   "execution_count": null,
   "metadata": {},
   "outputs": [],
   "source": [
    "def solution(num_list, n):\n",
    "    return num_list[:n]"
   ]
  },
  {
   "cell_type": "markdown",
   "metadata": {},
   "source": [
    "#### n개 간격의 원소들"
   ]
  },
  {
   "cell_type": "code",
   "execution_count": null,
   "metadata": {},
   "outputs": [],
   "source": [
    "def solution(num_list, n):\n",
    "    return num_list[::n]"
   ]
  },
  {
   "cell_type": "markdown",
   "metadata": {},
   "source": [
    "### Day14"
   ]
  },
  {
   "cell_type": "markdown",
   "metadata": {},
   "source": [
    "#### 홀수 vs 짝수"
   ]
  },
  {
   "cell_type": "code",
   "execution_count": null,
   "metadata": {},
   "outputs": [],
   "source": [
    "def solution(num_list):\n",
    "    odd = 0\n",
    "    even = 0\n",
    "    for i in range(len(num_list)):\n",
    "        if (i+1) % 2 == 0:\n",
    "            even += num_list[i]\n",
    "        else:\n",
    "            odd += num_list[i]\n",
    "    \n",
    "    return even if even > odd else odd"
   ]
  },
  {
   "cell_type": "code",
   "execution_count": null,
   "metadata": {},
   "outputs": [],
   "source": [
    "# 다른 사람 코드 / 초 간단 한줄 코드\n",
    "def solution(num_list):\n",
    "    return max(sum(num_list[::2]), sum(num_list[1::2]))"
   ]
  },
  {
   "cell_type": "markdown",
   "metadata": {},
   "source": [
    "#### 5명씩"
   ]
  },
  {
   "cell_type": "code",
   "execution_count": null,
   "metadata": {},
   "outputs": [],
   "source": [
    "def solution(names):\n",
    "    return names[::5]"
   ]
  },
  {
   "cell_type": "markdown",
   "metadata": {},
   "source": [
    "#### 할 일 목록"
   ]
  },
  {
   "cell_type": "code",
   "execution_count": null,
   "metadata": {},
   "outputs": [],
   "source": [
    "def solution(todo_list, finished):\n",
    "    result = []\n",
    "    for i in range(len(finished)):\n",
    "        if not finished[i]:\n",
    "            result.append(todo_list[i])\n",
    "    return result"
   ]
  },
  {
   "cell_type": "code",
   "execution_count": null,
   "metadata": {},
   "outputs": [],
   "source": [
    "# 다른 사람 코드 / 한줄\n",
    "def solution(todo_list, finished):\n",
    "    return [work for idx, work in enumerate(todo_list) if not finished[idx]]"
   ]
  },
  {
   "cell_type": "markdown",
   "metadata": {},
   "source": [
    "#### n보다 커질 때까지 더하기"
   ]
  },
  {
   "cell_type": "code",
   "execution_count": null,
   "metadata": {},
   "outputs": [],
   "source": [
    "def solution(numbers, n):\n",
    "    result = 0\n",
    "    for i in numbers:\n",
    "        result += i\n",
    "        if result > n:\n",
    "            return result"
   ]
  },
  {
   "cell_type": "markdown",
   "metadata": {},
   "source": [
    "#### 수열과 구간 쿼리 1"
   ]
  },
  {
   "cell_type": "code",
   "execution_count": null,
   "metadata": {},
   "outputs": [],
   "source": [
    "def solution(arr, queries):\n",
    "    for s,e in queries:\n",
    "        for i in range(len(arr)):\n",
    "            if i >= s and i <= e:\n",
    "                arr[i] += 1\n",
    "    return arr"
   ]
  },
  {
   "cell_type": "code",
   "execution_count": null,
   "metadata": {},
   "outputs": [],
   "source": [
    "# 다른 사람 코드 / 조금 더 간결하고 깔끔하게\n",
    "def solution(arr, queries):\n",
    "    for l,r in queries:\n",
    "        for i in range(l,r+1): arr[i]+=1\n",
    "    return arr"
   ]
  },
  {
   "cell_type": "markdown",
   "metadata": {},
   "source": [
    "### Day 15"
   ]
  },
  {
   "cell_type": "markdown",
   "metadata": {},
   "source": [
    "#### 조건에 맞게 수열 변환하기 3"
   ]
  },
  {
   "cell_type": "code",
   "execution_count": null,
   "metadata": {},
   "outputs": [],
   "source": [
    "def solution(arr, k):\n",
    "    for i in range(len(arr)):\n",
    "        if k % 2 == 0:\n",
    "            arr[i] += k\n",
    "        else:\n",
    "            arr[i] *= k\n",
    "    return arr"
   ]
  },
  {
   "cell_type": "markdown",
   "metadata": {},
   "source": [
    "#### 조건에 맞게 수열 변환하기 1"
   ]
  },
  {
   "cell_type": "code",
   "execution_count": null,
   "metadata": {},
   "outputs": [],
   "source": [
    "def solution(arr):\n",
    "    return [i//2 if (i >= 50 and i % 2 == 0) else i*2 if (i < 50 and i%2 != 0) else i for i in arr]"
   ]
  },
  {
   "cell_type": "markdown",
   "metadata": {},
   "source": [
    "#### 1로 만들기"
   ]
  },
  {
   "cell_type": "markdown",
   "metadata": {},
   "source": [
    "#### 길이에 따른 연산"
   ]
  },
  {
   "cell_type": "markdown",
   "metadata": {},
   "source": [
    "#### 원하는 문자열 찾기"
   ]
  },
  {
   "cell_type": "markdown",
   "metadata": {},
   "source": [
    "### Day16"
   ]
  },
  {
   "cell_type": "markdown",
   "metadata": {},
   "source": [
    "#### 대문자로 바꾸기"
   ]
  },
  {
   "cell_type": "markdown",
   "metadata": {},
   "source": [
    "#### 소문자로 바꾸기"
   ]
  },
  {
   "cell_type": "markdown",
   "metadata": {},
   "source": [
    "#### 배열에서 문자열 대소문자"
   ]
  },
  {
   "cell_type": "markdown",
   "metadata": {},
   "source": [
    "#### A 강조하기"
   ]
  },
  {
   "cell_type": "markdown",
   "metadata": {},
   "source": [
    "#### 특정한 문자를 대문자로 바꾸기"
   ]
  },
  {
   "cell_type": "markdown",
   "metadata": {},
   "source": [
    "### Lv.1"
   ]
  }
 ],
 "metadata": {
  "kernelspec": {
   "display_name": "Python 3",
   "language": "python",
   "name": "python3"
  },
  "language_info": {
   "name": "python",
   "version": "3.11.4"
  },
  "orig_nbformat": 4
 },
 "nbformat": 4,
 "nbformat_minor": 2
}
