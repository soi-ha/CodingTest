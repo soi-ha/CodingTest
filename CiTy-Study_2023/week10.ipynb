{
 "cells": [
  {
   "cell_type": "markdown",
   "metadata": {},
   "source": [
    "### 프로그래머스 - 코딩테스트 문제 풀이"
   ]
  },
  {
   "cell_type": "markdown",
   "metadata": {},
   "source": [
    "### 스택/큐\n",
    "\n",
    "#### 스택\n",
    "스택은 가장 마지막에 저장된 데이터가 가장 먼저 삭제되는 후입선출(LIFO, Last In First Out) 구조이다.  \n",
    "스택은 한쪽 방향에서만 데이터의 삽입과 삭제가 가능하다.  \n",
    "삽입과 삭제에는 O(1), 탐색에는 O(n)의 시간복잡도  \n",
    "- top(peek): 가장 최근에 저장된 데이터이자 먼저 삭제 될 데이터입니다. 그림상에서 요소 4가 해당  \n",
    "- push: 데이터를 삽입하는것을 말하며 삽입 된 데이터는 삭제시 가장 먼저 삭제 될 데이터  \n",
    "- pop: 데이터를 삭제할 때 사용하며 가장 최근에 저장된 데이터가 삭제    \n",
    "- empty : 스택이 비어있는지의 여부를 반환하는 연산  \n",
    "\n",
    "#### 큐 (선형 큐)\n",
    "큐는 한 쪽에서는 데이터 삽입, 다른 한 쪽에서는 데이터의 삭제만 가능한 선입선출(FIFO, First In First Out) 구조이다.  \n",
    "삽입과 삭제에는 O(1), 탐색에는 O(n)의 시간복잡도  \n",
    "- push : 큐에 값을 넣는 연산  \n",
    "- pop : 큐에서 자료를 빼는 연산  \n",
    "- front : 큐의 가장 앞에 있는 자료를 반환하는 연산  \n",
    "- back : 큐의 가장 뒤에 있는 자료를 반환하는 연산  \n",
    "- empty : 큐가 비어있는지의 여부를 반환하는 연산  \n",
    "파이썬의 append, pop 연산으로 리스트를 통해 구현할 수 있다.  \n",
    "\n",
    "큐의 포인터  \n",
    "- head : 큐의 첫 번째 원소를 가리키는 포인터  \n",
    "- rear : 큐의 마지막 원소를 가리키는 포인터  \n",
    "\n",
    "큐에 삽입, 삭제하기  \n",
    "- push : rear 위치에 자료를 추가하고 rear를 1 증가시킴  \n",
    "- pop : head 위치의 자료를 제거하고 head를 1 증가시킴  \n",
    "\n",
    "enqueue : 데이터를 삽입하는 과정을 의미함  \n",
    "dequeue : 데이터를 꺼내는 과정을 의미함  \n",
    "peek : front에 있는 값을 꺼내지 않고 어떤 값인 지만 return함  \n",
    "👉 스택에서와 마찬가지로, 배열과 연결 리스트를 이용해 구현할 수 있다.  \n",
    "\n",
    "#### 큐 (우선순위 큐)\n",
    "값과 우선순위, 총 2개의 데이터를 가지고 있다.  \n",
    "따라서 선형큐와는 달리 우선순위가 높은 요소일수록 먼저 삭제되는 특징을 가지고 있으며 우선순위가 같은 데이터일 경우 삽입순서를 따른다.  \n",
    "삽입 및 삭제 시 우선순위에 따라 요소들을 정렬 해야하기 때문에 주로 힙(Heap)이라는 자료구조로 구현된다.  \n",
    "실생활에서 병원의 응급실에서는 응급 환자가 우선 순위가 높으므로 먼저 진료를 받고 일반 환자는 순서가 뒤로 밀리는것과 같은 맥락이다.  \n",
    "우선순위 큐는 어떻게 구현하느냐에 따라 시간복잡도가 달라지지만 힙을 기준으로 한다면 삽입과 삭제에는 O(logn), 우선순위가 가장 높은 요소를 탐색할 때는 O(1)만큼의 시간복잡도를 가진다.\n",
    "\n",
    "##### 참고자료  \n",
    "[스택(Stack)과 큐](https://velog.io/@sisofiy626/%EC%9E%90%EB%A3%8C%EA%B5%AC%EC%A1%B0-2.-%EC%8A%A4%ED%83%9DStack%EA%B3%BC-%ED%81%90Queue-%EB%8D%B1Deque)  \n",
    "[파이썬으로 스택과 큐](https://sunho-doing.tistory.com/entry/%EC%9E%90%EB%A3%8C%EA%B5%AC%EC%A1%B0-%EC%8A%A4%ED%83%9DStack%EA%B3%BC-%ED%81%90Queue-%ED%8C%8C%EC%9D%B4%EC%8D%AC%EC%9C%BC%EB%A1%9C-%EA%B5%AC%ED%98%84%ED%95%98%EA%B8%B0)"
   ]
  },
  {
   "cell_type": "markdown",
   "metadata": {},
   "source": [
    "#### 같은 숫자는 싫어"
   ]
  },
  {
   "cell_type": "code",
   "execution_count": null,
   "metadata": {},
   "outputs": [],
   "source": [
    "def solution(arr):\n",
    "    answer = []\n",
    "    for i in range(len(arr)-1):\n",
    "        if arr[i] != arr[i+1]:\n",
    "            answer.append(arr[i])\n",
    "    answer.append(arr.pop())\n",
    "    \n",
    "    return answer"
   ]
  },
  {
   "cell_type": "markdown",
   "metadata": {},
   "source": [
    "#### 기능개발"
   ]
  },
  {
   "cell_type": "code",
   "execution_count": null,
   "metadata": {},
   "outputs": [],
   "source": [
    "from collections import deque\n",
    "import math\n",
    "def solution(progresses, speeds):\n",
    "    result = []\n",
    "    queue = deque()\n",
    "    for i in range(len(speeds)):\n",
    "        queue.append(math.ceil((100-progresses[i]) / speeds[i]))\n",
    "        \n",
    "    pop = queue.popleft()\n",
    "    cnt = 1\n",
    "    while queue:\n",
    "        if pop < queue[0]:\n",
    "            pop = queue.popleft()\n",
    "            result.append(cnt)\n",
    "            cnt = 1\n",
    "        else:\n",
    "            queue.popleft()\n",
    "            cnt += 1\n",
    "    \n",
    "    result.append(cnt)\n",
    "    \n",
    "    return result"
   ]
  },
  {
   "cell_type": "markdown",
   "metadata": {},
   "source": [
    "#### 올바른 괄호"
   ]
  },
  {
   "cell_type": "code",
   "execution_count": null,
   "metadata": {},
   "outputs": [],
   "source": [
    "from collections import deque\n",
    "def solution(s):\n",
    "    que = deque(s)\n",
    "    cntr = 0 #'('\n",
    "    cntl = 0 #')'\n",
    "    while que: \n",
    "        pop = que.popleft()\n",
    "        if cntl > cntr:\n",
    "            return False \n",
    "        if pop == '(':\n",
    "            cntr += 1\n",
    "        if pop == ')':\n",
    "            cntl += 1   \n",
    "    if cntr != cntl:\n",
    "        return False\n",
    "    return True"
   ]
  },
  {
   "cell_type": "markdown",
   "metadata": {},
   "source": [
    "#### 프로세스"
   ]
  },
  {
   "cell_type": "markdown",
   "metadata": {},
   "source": [
    "#### 다리를 지나는 트럭"
   ]
  },
  {
   "cell_type": "markdown",
   "metadata": {},
   "source": [
    "#### 주식 가격"
   ]
  }
 ],
 "metadata": {
  "kernelspec": {
   "display_name": "Python 3",
   "language": "python",
   "name": "python3"
  },
  "language_info": {
   "name": "python",
   "version": "3.11.4"
  },
  "orig_nbformat": 4
 },
 "nbformat": 4,
 "nbformat_minor": 2
}
