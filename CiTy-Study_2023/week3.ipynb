{
 "cells": [
  {
   "cell_type": "markdown",
   "metadata": {},
   "source": [
    "## 프로그래머스 - 코딩테스트 입문\n",
    "\n",
    "#### 분수의 덧셈"
   ]
  },
  {
   "cell_type": "code",
   "execution_count": null,
   "metadata": {},
   "outputs": [],
   "source": [
    "def solution(numer1, denom1, numer2, denom2):\n",
    "    # 분모 통일하기\n",
    "    if denom1 == denom2:\n",
    "        answer = [numer1 + numer2, denom1]\n",
    "    else:\n",
    "        denom = denom1 * denom2\n",
    "        numer1 *= denom2\n",
    "        numer2 *= denom1\n",
    "        answer = [numer1 + numer2, denom]\n",
    "    \n",
    "    # 기약분수 만들기\n",
    "    for i in range(2, answer[0] + 1):\n",
    "        while answer[0] % i == 0 and answer[1] % i == 0:\n",
    "            answer = [answer[0] // i, answer[1] // i]\n",
    "            \n",
    "    return answer"
   ]
  },
  {
   "cell_type": "markdown",
   "metadata": {},
   "source": [
    "#### 최빈값 구하기"
   ]
  },
  {
   "cell_type": "code",
   "execution_count": null,
   "metadata": {},
   "outputs": [],
   "source": [
    "from collections import Counter\n",
    "\n",
    "def solution(array):\n",
    "    counter = Counter(array).most_common()\n",
    "    \n",
    "    if len(counter) == 1:\n",
    "        return counter[0][0]\n",
    "    \n",
    "    for i in range(1,len(counter)):\n",
    "        if counter[0][1] == counter[i][1]:\n",
    "            return -1\n",
    "        else:\n",
    "            return counter[0][0]"
   ]
  },
  {
   "cell_type": "markdown",
   "metadata": {},
   "source": [
    "#### 배열 뒤집기"
   ]
  },
  {
   "cell_type": "code",
   "execution_count": null,
   "metadata": {},
   "outputs": [],
   "source": [
    "def solution(num_list):\n",
    "    return list(reversed(num_list))"
   ]
  },
  {
   "cell_type": "markdown",
   "metadata": {},
   "source": [
    "#### 문자열 뒤집기"
   ]
  },
  {
   "cell_type": "code",
   "execution_count": null,
   "metadata": {},
   "outputs": [],
   "source": [
    "def solution(my_string):\n",
    "    return my_string[::-1]"
   ]
  },
  {
   "cell_type": "markdown",
   "metadata": {},
   "source": [
    "#### 부족한 금액 계산하기\n",
    "\n",
    "    \n",
    "  # '등차수열의 합'으로 풀면 더 간단하게 작성이 가능하다.\n",
    "  # count * (2*price + (count-1)price) // 2"
   ]
  },
  {
   "cell_type": "code",
   "execution_count": null,
   "metadata": {},
   "outputs": [],
   "source": [
    "def solution(price, money, count):\n",
    "    payment = 0\n",
    "    for i in range(1, count+1):\n",
    "        payment += price * i\n",
    "    if money - payment < 0:\n",
    "        return payment - money\n",
    "    else:\n",
    "        return 0\n",
    "    "
   ]
  }
 ],
 "metadata": {
  "kernelspec": {
   "display_name": "Python 3",
   "language": "python",
   "name": "python3"
  },
  "language_info": {
   "name": "python",
   "version": "3.11.4"
  },
  "orig_nbformat": 4
 },
 "nbformat": 4,
 "nbformat_minor": 2
}
