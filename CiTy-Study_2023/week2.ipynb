{
 "cells": [
  {
   "cell_type": "markdown",
   "metadata": {},
   "source": [
    "# Week2\n",
    "---\n",
    "## 12장, 그래프"
   ]
  },
  {
   "cell_type": "markdown",
   "metadata": {},
   "source": [
    "### 32. 섬의 개수\n",
    "1을 육지로, 0을 물로 가정한 2D 그리드 맵이 주어졌을때, 섬의 개수를 계산하라.  \n",
    "(연결되어 있는 1의 덩어리 개수를 구하라.)\n",
    "\n",
    "#### test code  \n",
    "- 11110  \n",
    "  11010  \n",
    "  11000  \n",
    "  00000  \n",
    "  => 1\n",
    "- 11000  \n",
    "  11000  \n",
    "  00100  \n",
    "  00011  \n",
    "  => 3"
   ]
  },
  {
   "cell_type": "code",
   "execution_count": 2,
   "metadata": {},
   "outputs": [],
   "source": [
    "from typing import List\n",
    "\n",
    "def numIslands(self, grid: List[List[str]]) -> int:\n",
    "  def dfs(i,j):\n",
    "    # 더이상 땅이 아닌 경우 => 종료\n",
    "    if i < 0 or i >= len(grid) or \\\n",
    "      j < 0 or j >= len(grid[0]) or \\\n",
    "      grid[i][j] != '1':\n",
    "        return\n",
    "\n",
    "    grid[i][j] = 0\n",
    "\n",
    "    # 동서남북 탐색\n",
    "    dfs(i + 1, j)\n",
    "    dfs(i - 1, j)\n",
    "    dfs(i, j + 1)\n",
    "    dfs(i, j - 1)\n",
    "\n",
    "  count = 0\n",
    "  for i in range(len(grid)):\n",
    "    for j in range(len(grid[0])):\n",
    "      if grid[i][j] == '1':\n",
    "        dfs(i, j)\n",
    "        # 모든 육지 탐색 후 카운트 1 증가\n",
    "        count += 1\n",
    "  return count"
   ]
  },
  {
   "cell_type": "code",
   "execution_count": null,
   "metadata": {},
   "outputs": [],
   "source": []
  }
 ],
 "metadata": {
  "kernelspec": {
   "display_name": "Python 3",
   "language": "python",
   "name": "python3"
  },
  "language_info": {
   "codemirror_mode": {
    "name": "ipython",
    "version": 3
   },
   "file_extension": ".py",
   "mimetype": "text/x-python",
   "name": "python",
   "nbconvert_exporter": "python",
   "pygments_lexer": "ipython3",
   "version": "3.11.4"
  },
  "orig_nbformat": 4
 },
 "nbformat": 4,
 "nbformat_minor": 2
}
