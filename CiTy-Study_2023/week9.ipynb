{
 "cells": [
  {
   "cell_type": "markdown",
   "metadata": {},
   "source": [
    "### 프로그래머스 - 코딩테스트 문제 풀이\n",
    "\n",
    "### 코딩테스트 기초"
   ]
  },
  {
   "cell_type": "markdown",
   "metadata": {},
   "source": [
    "### N개의 최소공배수"
   ]
  },
  {
   "cell_type": "code",
   "execution_count": null,
   "metadata": {},
   "outputs": [],
   "source": [
    "# 최소공배수 구하기 = 두 값을 곱한 것에서 최대공약수 빼주기\n",
    "import math\n",
    "def solution(arr):\n",
    "    result = 1\n",
    "    for i in arr:\n",
    "        result = result * i // math.gcd(result, i)\n",
    "    return result"
   ]
  },
  {
   "cell_type": "markdown",
   "metadata": {},
   "source": [
    "### 괄호 회전하기"
   ]
  },
  {
   "cell_type": "code",
   "execution_count": null,
   "metadata": {},
   "outputs": [],
   "source": [
    "def solution(s):\n",
    "    result = 0\n",
    "    for i in range(len(s)):\n",
    "        new_s = s[i:]+ s[:i]\n",
    "        while True:\n",
    "            s_len = len(new_s)\n",
    "            new_s = new_s.replace('()','')\n",
    "            new_s = new_s.replace('{}','')\n",
    "            new_s = new_s.replace('[]','')\n",
    "            if len(new_s) == 0:\n",
    "                result += 1\n",
    "                break\n",
    "            elif s_len == len(new_s):\n",
    "                break\n",
    "    return result"
   ]
  },
  {
   "cell_type": "markdown",
   "metadata": {},
   "source": [
    "### 멀리 뛰기"
   ]
  },
  {
   "cell_type": "code",
   "execution_count": null,
   "metadata": {},
   "outputs": [],
   "source": [
    "# if n == 1 or 2: reutrn n 할때는 계속 런타임에러 떴는데, 해당 코드로 하니까 안 뜨고 통과됨\n",
    "def solution(n):\n",
    "    if n < 3:\n",
    "        return n\n",
    "    dp = [0] * (n+1)\n",
    "    dp[1] = 1\n",
    "    dp[2] = 2\n",
    "    for i in range(3,n+1):\n",
    "        dp[i] = dp[i-1] + dp[i-2]\n",
    "    return dp[n] % 1234567"
   ]
  },
  {
   "cell_type": "code",
   "execution_count": null,
   "metadata": {},
   "outputs": [],
   "source": [
    "# 테케 1 자꾸 런타임 에러 발생\n",
    "def solution(n):\n",
    "    dp = [0] * (n+1)\n",
    "    dp[1] = 1\n",
    "    dp[2] = 2\n",
    "    for i in range(3,n+1):\n",
    "        dp[i] = dp[i-1] + dp[i-2]\n",
    "    if n == 1:\n",
    "        return 1 % 1234567\n",
    "    return dp[n] % 123456"
   ]
  },
  {
   "cell_type": "code",
   "execution_count": null,
   "metadata": {},
   "outputs": [],
   "source": [
    "# 조합으로 풀어보려고 했는데 안되겠음...\n",
    "from itertools import combinations\n",
    "def solution(n):\n",
    "    # 방법의 수\n",
    "    result = 0\n",
    "    li = [1 for i in range(n)] + [2 for i in range(n)]\n",
    "    \n",
    "    for i in range(n//2,n+1):\n",
    "        print(set(list(combinations(li, i))))"
   ]
  },
  {
   "cell_type": "markdown",
   "metadata": {},
   "source": [
    "### H-index"
   ]
  },
  {
   "cell_type": "code",
   "execution_count": null,
   "metadata": {},
   "outputs": [],
   "source": [
    "# elif 문은 테케9 미통과 때문에 작성됨.\n",
    "# 반례 [4,4,4] => 3 \n",
    "def solution(citations):\n",
    "    citations.sort()\n",
    "    for i in range(1,len(citations)+1):\n",
    "        if citations[-i] < i:\n",
    "            return i-1\n",
    "        elif i == len(citations):\n",
    "            return len(citations)"
   ]
  },
  {
   "cell_type": "code",
   "execution_count": null,
   "metadata": {},
   "outputs": [],
   "source": [
    "# 다른 사람 풀이\n",
    "def solution(citations):\n",
    "    citations = sorted(citations)\n",
    "    l = len(citations)\n",
    "    for i in range(l):\n",
    "        if citations[i] >= l-i:\n",
    "            return l-i\n",
    "    return 0"
   ]
  },
  {
   "cell_type": "code",
   "execution_count": null,
   "metadata": {},
   "outputs": [],
   "source": [
    "# 이전에 작성했던 코드\n",
    "def solution(citations):\n",
    "    citations.sort()\n",
    "    for idx, citation in enumerate(citations):\n",
    "        if citation >= len(citations) - idx:\n",
    "            return len(citations) - idx\n",
    "    return 0"
   ]
  },
  {
   "cell_type": "markdown",
   "metadata": {},
   "source": [
    "### 모음사전"
   ]
  },
  {
   "cell_type": "markdown",
   "metadata": {},
   "source": [
    "### 땅따먹기"
   ]
  },
  {
   "cell_type": "markdown",
   "metadata": {},
   "source": [
    "### 뒤에 있는 큰 수 찾기"
   ]
  }
 ],
 "metadata": {
  "kernelspec": {
   "display_name": "Python 3",
   "language": "python",
   "name": "python3"
  },
  "language_info": {
   "name": "python",
   "version": "3.11.4"
  },
  "orig_nbformat": 4
 },
 "nbformat": 4,
 "nbformat_minor": 2
}
