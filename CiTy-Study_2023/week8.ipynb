{
 "cells": [
  {
   "cell_type": "markdown",
   "metadata": {},
   "source": [
    "### 프로그래머스 - 코딩테스트 문제 풀이\n",
    "\n",
    "### 코딩테스트 기초"
   ]
  },
  {
   "cell_type": "markdown",
   "metadata": {},
   "source": [
    "### Day23"
   ]
  },
  {
   "cell_type": "markdown",
   "metadata": {},
   "source": [
    "#### 부분 문자열"
   ]
  },
  {
   "cell_type": "code",
   "execution_count": null,
   "metadata": {},
   "outputs": [],
   "source": [
    "def solution(str1, str2):\n",
    "    return 1 if str1 in str2 else 0"
   ]
  },
  {
   "cell_type": "markdown",
   "metadata": {},
   "source": [
    "#### 꼬리 문자열"
   ]
  },
  {
   "cell_type": "code",
   "execution_count": null,
   "metadata": {},
   "outputs": [],
   "source": [
    "def solution(str_list, ex):\n",
    "    answer = ''\n",
    "    for i in str_list:\n",
    "        if ex not in i:\n",
    "            answer += i\n",
    "    return answer"
   ]
  },
  {
   "cell_type": "markdown",
   "metadata": {},
   "source": [
    "#### 정수 찾기"
   ]
  },
  {
   "cell_type": "code",
   "execution_count": null,
   "metadata": {},
   "outputs": [],
   "source": [
    "def solution(num_list, n):\n",
    "    return 1 if num_list.count(n) > 0 else 0"
   ]
  },
  {
   "cell_type": "markdown",
   "metadata": {},
   "source": [
    "#### 주사위 게임1"
   ]
  },
  {
   "cell_type": "code",
   "execution_count": null,
   "metadata": {},
   "outputs": [],
   "source": [
    "def solution(a, b):\n",
    "    if a % 2 != 0 and b % 2 != 0:\n",
    "        return a**2 + b**2\n",
    "    elif a % 2 != 0 or b % 2 != 0:\n",
    "        return 2*(a+b)\n",
    "    else:\n",
    "        return abs(a-b)"
   ]
  },
  {
   "cell_type": "markdown",
   "metadata": {},
   "source": [
    "#### 날짜 비교하기"
   ]
  },
  {
   "cell_type": "code",
   "execution_count": null,
   "metadata": {},
   "outputs": [],
   "source": [
    "def solution(date1, date2):\n",
    "    for i in range(len(date1)):\n",
    "        if date1[i] < date2[i]:\n",
    "            return 1\n",
    "        elif date1[i] > date2[i]:\n",
    "            return 0\n",
    "    return 0"
   ]
  },
  {
   "cell_type": "code",
   "execution_count": null,
   "metadata": {},
   "outputs": [],
   "source": [
    "# 다른 사람 코드\n",
    "def solution(date1, date2):\n",
    "    return int(date1 < date2)"
   ]
  },
  {
   "cell_type": "markdown",
   "metadata": {},
   "source": [
    "### Day24"
   ]
  },
  {
   "cell_type": "markdown",
   "metadata": {},
   "source": [
    "#### 커피 심부름"
   ]
  },
  {
   "cell_type": "code",
   "execution_count": null,
   "metadata": {},
   "outputs": [],
   "source": [
    "def solution(order):\n",
    "    result = 0\n",
    "    for i in order:\n",
    "        if \"cafelatte\" in i:\n",
    "            result += 5000\n",
    "        else:\n",
    "            result += 4500\n",
    "    return result"
   ]
  },
  {
   "cell_type": "markdown",
   "metadata": {},
   "source": [
    "#### 그림 확대"
   ]
  },
  {
   "cell_type": "code",
   "execution_count": null,
   "metadata": {},
   "outputs": [],
   "source": [
    "def solution(picture, k):\n",
    "    answer = []\n",
    "    for i in picture:\n",
    "        item = ''\n",
    "        for dot in i:\n",
    "            item += dot*k\n",
    "        for re in range(k):\n",
    "            answer.append(item)\n",
    "    return answer"
   ]
  },
  {
   "cell_type": "markdown",
   "metadata": {},
   "source": [
    "#### 조건에 맞게 수열 변환하기3"
   ]
  },
  {
   "cell_type": "code",
   "execution_count": null,
   "metadata": {},
   "outputs": [],
   "source": [
    "def solution(arr, k):\n",
    "    for i in range(len(arr)):\n",
    "        if k % 2 == 0:\n",
    "            arr[i] += k\n",
    "        else:\n",
    "            arr[i] *= k\n",
    "    return arr"
   ]
  },
  {
   "cell_type": "markdown",
   "metadata": {},
   "source": [
    "#### l로 만들기"
   ]
  },
  {
   "cell_type": "code",
   "execution_count": null,
   "metadata": {},
   "outputs": [],
   "source": [
    "def solution(myString):\n",
    "    for i in myString:\n",
    "        if ord(i) < ord(\"l\"):\n",
    "            myString = myString.replace(i,\"l\")\n",
    "    return myString"
   ]
  },
  {
   "cell_type": "markdown",
   "metadata": {},
   "source": [
    "#### 특별한 이차원 배열"
   ]
  },
  {
   "cell_type": "code",
   "execution_count": null,
   "metadata": {},
   "outputs": [],
   "source": [
    "def solution(n):\n",
    "    return [[1 if i == j else 0 for j in range(n)] for i in range(n)]"
   ]
  },
  {
   "cell_type": "markdown",
   "metadata": {},
   "source": [
    "### Day25"
   ]
  },
  {
   "cell_type": "markdown",
   "metadata": {},
   "source": [
    "#### 정수를 나선형으로 배치하기"
   ]
  },
  {
   "cell_type": "markdown",
   "metadata": {},
   "source": [
    "#### 특별한 이차원 배열2"
   ]
  },
  {
   "cell_type": "code",
   "execution_count": null,
   "metadata": {},
   "outputs": [],
   "source": [
    "def solution(arr):\n",
    "    for i in range(len(arr)):\n",
    "        for j in range(len(arr)):\n",
    "            if arr[i][j] != arr[j][i]:\n",
    "                return 0\n",
    "    return 1"
   ]
  },
  {
   "cell_type": "code",
   "execution_count": null,
   "metadata": {},
   "outputs": [],
   "source": [
    "# 다른 사람 코드\n",
    "def solution(arr):\n",
    "    return int(arr == list(map(list, zip(*arr))))"
   ]
  },
  {
   "cell_type": "markdown",
   "metadata": {},
   "source": [
    "#### 정사각형으로 만들기"
   ]
  },
  {
   "cell_type": "code",
   "execution_count": null,
   "metadata": {},
   "outputs": [],
   "source": [
    "def solution(arr):\n",
    "    row = len(arr)\n",
    "    col = len(arr[0])\n",
    "    print(row,col)\n",
    "    if row > col:\n",
    "        for i in range(row):\n",
    "            for k in range(row-col):\n",
    "                arr[i].append(0)\n",
    "    elif row < col:\n",
    "        for i in range(col-row):\n",
    "            arr.append([0]*col)\n",
    "    return arr"
   ]
  },
  {
   "cell_type": "markdown",
   "metadata": {},
   "source": [
    "#### 이차원 배열 대각선 순회하기"
   ]
  },
  {
   "cell_type": "code",
   "execution_count": null,
   "metadata": {},
   "outputs": [],
   "source": [
    "def solution(board, k):\n",
    "    result = 0\n",
    "    for i in range(len(board)):\n",
    "        for j in range(len(board[0])):\n",
    "            if i + j <= k:\n",
    "                result += board[i][j]\n",
    "    return result"
   ]
  },
  {
   "cell_type": "markdown",
   "metadata": {},
   "source": [
    "### 코딩테스트 - Level"
   ]
  },
  {
   "cell_type": "markdown",
   "metadata": {},
   "source": [
    "#### 성격 유형 검사하기"
   ]
  },
  {
   "cell_type": "markdown",
   "metadata": {},
   "source": [
    "#### 신규 아이디 추천"
   ]
  },
  {
   "cell_type": "markdown",
   "metadata": {},
   "source": [
    "#### 카펫"
   ]
  },
  {
   "cell_type": "code",
   "execution_count": null,
   "metadata": {},
   "outputs": [],
   "source": [
    "def solution(brown, yellow):\n",
    "    ca = brown + yellow \n",
    "    ca_x = []\n",
    "    for i in range(1,ca+1):\n",
    "        # 약수 찾기로 문제 풀이\n",
    "        if ca % i == 0:\n",
    "            if (i-2)*(ca//i -2) == yellow:\n",
    "                return [ca//i,i]"
   ]
  },
  {
   "cell_type": "markdown",
   "metadata": {},
   "source": [
    "#### 구명보트"
   ]
  },
  {
   "cell_type": "code",
   "execution_count": null,
   "metadata": {},
   "outputs": [],
   "source": [
    "# 채점 결과\n",
    "# 정확성: 14.8\n",
    "# 효율성: 7.4\n",
    "# 합계: 22.2 / 100.0\n",
    "def solution(people, limit):\n",
    "    people.sort()\n",
    "    result = 0\n",
    "    s = limit\n",
    "    for i in people[::-1]:\n",
    "        if s - i == 0:\n",
    "            s = limit\n",
    "            result += 1\n",
    "        elif s - i < 40:\n",
    "            result += 1\n",
    "        elif s - i > 40:\n",
    "            s = s-i\n",
    "    if s != limit: result+=1\n",
    "    return result \n",
    "            "
   ]
  },
  {
   "cell_type": "code",
   "execution_count": null,
   "metadata": {},
   "outputs": [],
   "source": [
    "# 다른 사람 풀이\n",
    "def solution(people, limit):\n",
    "    answer = 0\n",
    "    people.sort()\n",
    "    a = 0\n",
    "    b = len(people) - 1\n",
    "    while a < b :\n",
    "        if people[b] + people[a] <= limit :\n",
    "            a += 1\n",
    "            answer += 1\n",
    "        b -= 1\n",
    "    return len(people) - a\n",
    "            "
   ]
  },
  {
   "cell_type": "markdown",
   "metadata": {},
   "source": [
    "#### 귤 고르기"
   ]
  },
  {
   "cell_type": "code",
   "execution_count": null,
   "metadata": {},
   "outputs": [],
   "source": [
    "# 모두 통과!!!\n",
    "def solution(k, tangerine):\n",
    "    size = [0 for i in range(max(set(tangerine)))]\n",
    "\n",
    "    for i in tangerine:\n",
    "        size[i-1] += 1\n",
    "    \n",
    "    result = 0\n",
    "    for i in sorted(size)[::-1]:\n",
    "        k -= i\n",
    "        result += 1\n",
    "        if k <= 0:\n",
    "            return result"
   ]
  },
  {
   "cell_type": "code",
   "execution_count": null,
   "metadata": {},
   "outputs": [],
   "source": [
    "# 속도는 빠른데 런타임 에러 발생\n",
    "def solution(k, tangerine):\n",
    "    size = [0 for i in set(tangerine)]\n",
    "\n",
    "    for i in tangerine:\n",
    "        size[i-1] += 1\n",
    "    \n",
    "    result = 0\n",
    "    for i in sorted(size)[::-1]:\n",
    "        k -= i\n",
    "        result += 1\n",
    "        if k <= 0:\n",
    "            return result"
   ]
  },
  {
   "cell_type": "code",
   "execution_count": null,
   "metadata": {},
   "outputs": [],
   "source": [
    "# 시간 초과 발생\n",
    "def solution(k, tangerine):\n",
    "    size = []\n",
    "\n",
    "    for i in set(tangerine):\n",
    "        size.append(tangerine.count(i))\n",
    "    \n",
    "    result = 0\n",
    "    for i in sorted(size)[::-1]:\n",
    "        k -= i\n",
    "        result += 1\n",
    "        if k <= 0:\n",
    "            return result"
   ]
  }
 ],
 "metadata": {
  "kernelspec": {
   "display_name": "Python 3",
   "language": "python",
   "name": "python3"
  },
  "language_info": {
   "name": "python",
   "version": "3.11.4"
  },
  "orig_nbformat": 4
 },
 "nbformat": 4,
 "nbformat_minor": 2
}
