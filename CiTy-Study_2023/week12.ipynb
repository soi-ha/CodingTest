{
 "cells": [
  {
   "cell_type": "markdown",
   "metadata": {},
   "source": [
    "### 프로그래머스 - 코딩테스트 문제 풀이\n",
    "\n",
    "### 완전탐색"
   ]
  },
  {
   "cell_type": "markdown",
   "metadata": {},
   "source": [
    "#### 최소직사각형"
   ]
  },
  {
   "cell_type": "code",
   "execution_count": null,
   "metadata": {},
   "outputs": [],
   "source": [
    "def solution(sizes):\n",
    "    w = 0\n",
    "    h = 0\n",
    "    for i in range(len(sizes)):\n",
    "        if sizes[i][0] < sizes[i][1]:\n",
    "            sizes[i][0], sizes[i][1] = sizes[i][1], sizes[i][0]\n",
    "        if sizes[i][0] > w:\n",
    "            w = sizes[i][0]\n",
    "        if sizes[i][1] > h:\n",
    "            h = sizes[i][1]\n",
    "    return w * h"
   ]
  },
  {
   "cell_type": "code",
   "execution_count": null,
   "metadata": {},
   "outputs": [],
   "source": [
    "# 초간단 다른 사람 한 줄 풀이\n",
    "def solution(sizes):\n",
    "    return max(max(x) for x in sizes) * max(min(x) for x in sizes)"
   ]
  }
 ],
 "metadata": {
  "kernelspec": {
   "display_name": "Python 3",
   "language": "python",
   "name": "python3"
  },
  "language_info": {
   "name": "python",
   "version": "3.11.4"
  },
  "orig_nbformat": 4
 },
 "nbformat": 4,
 "nbformat_minor": 2
}
