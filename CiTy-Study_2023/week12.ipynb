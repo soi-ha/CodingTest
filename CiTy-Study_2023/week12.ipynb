{
 "cells": [
  {
   "cell_type": "markdown",
   "metadata": {},
   "source": [
    "### 프로그래머스 - 코딩테스트 문제 풀이\n",
    "\n",
    "### 완전탐색"
   ]
  },
  {
   "cell_type": "markdown",
   "metadata": {},
   "source": [
    "#### 최소직사각형"
   ]
  },
  {
   "cell_type": "code",
   "execution_count": null,
   "metadata": {},
   "outputs": [],
   "source": [
    "def solution(sizes):\n",
    "    w = 0\n",
    "    h = 0\n",
    "    for i in range(len(sizes)):\n",
    "        if sizes[i][0] < sizes[i][1]:\n",
    "            sizes[i][0], sizes[i][1] = sizes[i][1], sizes[i][0]\n",
    "        if sizes[i][0] > w:\n",
    "            w = sizes[i][0]\n",
    "        if sizes[i][1] > h:\n",
    "            h = sizes[i][1]\n",
    "    return w * h"
   ]
  },
  {
   "cell_type": "code",
   "execution_count": null,
   "metadata": {},
   "outputs": [],
   "source": [
    "# 초간단 다른 사람 한 줄 풀이\n",
    "def solution(sizes):\n",
    "    return max(max(x) for x in sizes) * max(min(x) for x in sizes)"
   ]
  },
  {
   "cell_type": "markdown",
   "metadata": {},
   "source": [
    "#### 모의고사"
   ]
  },
  {
   "cell_type": "code",
   "execution_count": null,
   "metadata": {},
   "outputs": [],
   "source": [
    "def solution(answers):\n",
    "    a = [1,2,3,4,5]\n",
    "    b = [2, 1, 2, 3, 2, 4, 2, 5]\n",
    "    c = [3, 3, 1, 1, 2, 2, 4, 4, 5, 5]\n",
    "    scores = [0,0,0]\n",
    "    \n",
    "    for i in range(len(answers)):\n",
    "        if answers[i] == a[((i+1)%len(a))-1]:\n",
    "            scores[0] += 1\n",
    "        if answers[i] == b[((i+1)%len(b))-1]:\n",
    "            scores[1] += 1\n",
    "        if answers[i] == c[((i+1)%len(c))-1]:\n",
    "            scores[2] += 1\n",
    "            \n",
    "    result = []\n",
    "    for k in range(len(scores)):\n",
    "        if scores[k] == max(scores):\n",
    "            result.append(k+1)\n",
    "    return result\n"
   ]
  },
  {
   "cell_type": "markdown",
   "metadata": {},
   "source": [
    "#### 피로도"
   ]
  },
  {
   "cell_type": "code",
   "execution_count": null,
   "metadata": {},
   "outputs": [],
   "source": [
    "# 9, 13, 15 실패\n",
    "def solution(k, dungeons):\n",
    "    new = []\n",
    "    result = 0\n",
    "    for i in range(len(dungeons)):\n",
    "        new.append([dungeons[i][0]-dungeons[i][1],i])\n",
    "    \n",
    "    sort_dun = []\n",
    "    for i in sorted(new)[::-1]:\n",
    "        sort_dun.append(dungeons[i[1]])\n",
    "    \n",
    "    for i in sort_dun:\n",
    "        if i[0] <= k:\n",
    "            k -= i[1]\n",
    "            result += 1\n",
    "    return result"
   ]
  },
  {
   "cell_type": "code",
   "execution_count": null,
   "metadata": {},
   "outputs": [],
   "source": [
    "# 순열을 이용하여 풀이\n",
    "from itertools import permutations\n",
    "\n",
    "def solution(k, dungeons):\n",
    "    all_per = []\n",
    "\n",
    "    for i in permutations(dungeons, len(dungeons)):\n",
    "        all_per.append(i)\n",
    "        \n",
    "    \n",
    "    result = []\n",
    "    \n",
    "    for i in range(len(all_per)):\n",
    "        cnt = 0\n",
    "        cp_k = k\n",
    "        for j in all_per[i]:\n",
    "            if cp_k >= j[0]:\n",
    "                cp_k -= j[1]\n",
    "                cnt += 1\n",
    "            else:\n",
    "                break\n",
    "        result.append(cnt)\n",
    "    \n",
    "    return max(result)"
   ]
  }
 ],
 "metadata": {
  "kernelspec": {
   "display_name": "Python 3",
   "language": "python",
   "name": "python3"
  },
  "language_info": {
   "name": "python",
   "version": "3.11.4"
  },
  "orig_nbformat": 4
 },
 "nbformat": 4,
 "nbformat_minor": 2
}
