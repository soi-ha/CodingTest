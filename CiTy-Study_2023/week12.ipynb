{
 "cells": [
  {
   "cell_type": "markdown",
   "metadata": {},
   "source": [
    "### 프로그래머스 - 코딩테스트 문제 풀이"
   ]
  },
  {
   "cell_type": "markdown",
   "metadata": {},
   "source": [
    "#### K번째 수"
   ]
  },
  {
   "cell_type": "code",
   "execution_count": null,
   "metadata": {},
   "outputs": [],
   "source": [
    "def solution(array, commands):\n",
    "    answer = []\n",
    "    for i in commands:\n",
    "        k = array[i[0]-1:i[1]]\n",
    "        answer.append(sorted(k)[i[2]-1])\n",
    "    return answer"
   ]
  },
  {
   "cell_type": "markdown",
   "metadata": {},
   "source": [
    "#### 최소직사각형"
   ]
  },
  {
   "cell_type": "code",
   "execution_count": null,
   "metadata": {},
   "outputs": [],
   "source": [
    "def solution(sizes):\n",
    "    w = 0\n",
    "    h = 0\n",
    "    for i in range(len(sizes)):\n",
    "        if sizes[i][0] < sizes[i][1]:\n",
    "            sizes[i][0], sizes[i][1] = sizes[i][1], sizes[i][0]\n",
    "        if sizes[i][0] > w:\n",
    "            w = sizes[i][0]\n",
    "        if sizes[i][1] > h:\n",
    "            h = sizes[i][1]\n",
    "    return w * h"
   ]
  },
  {
   "cell_type": "code",
   "execution_count": null,
   "metadata": {},
   "outputs": [],
   "source": [
    "# 초간단 다른 사람 한 줄 풀이\n",
    "def solution(sizes):\n",
    "    return max(max(x) for x in sizes) * max(min(x) for x in sizes)"
   ]
  },
  {
   "cell_type": "markdown",
   "metadata": {},
   "source": [
    "#### 모의고사"
   ]
  },
  {
   "cell_type": "code",
   "execution_count": null,
   "metadata": {},
   "outputs": [],
   "source": [
    "def solution(answers):\n",
    "    a = [1,2,3,4,5]\n",
    "    b = [2, 1, 2, 3, 2, 4, 2, 5]\n",
    "    c = [3, 3, 1, 1, 2, 2, 4, 4, 5, 5]\n",
    "    scores = [0,0,0]\n",
    "    \n",
    "    for i in range(len(answers)):\n",
    "        if answers[i] == a[((i+1)%len(a))-1]:\n",
    "            scores[0] += 1\n",
    "        if answers[i] == b[((i+1)%len(b))-1]:\n",
    "            scores[1] += 1\n",
    "        if answers[i] == c[((i+1)%len(c))-1]:\n",
    "            scores[2] += 1\n",
    "            \n",
    "    result = []\n",
    "    for k in range(len(scores)):\n",
    "        if scores[k] == max(scores):\n",
    "            result.append(k+1)\n",
    "    return result\n"
   ]
  },
  {
   "cell_type": "markdown",
   "metadata": {},
   "source": [
    "#### 피로도"
   ]
  },
  {
   "cell_type": "code",
   "execution_count": null,
   "metadata": {},
   "outputs": [],
   "source": [
    "# 9, 13, 15 실패\n",
    "def solution(k, dungeons):\n",
    "    new = []\n",
    "    result = 0\n",
    "    for i in range(len(dungeons)):\n",
    "        new.append([dungeons[i][0]-dungeons[i][1],i])\n",
    "    \n",
    "    sort_dun = []\n",
    "    for i in sorted(new)[::-1]:\n",
    "        sort_dun.append(dungeons[i[1]])\n",
    "    \n",
    "    for i in sort_dun:\n",
    "        if i[0] <= k:\n",
    "            k -= i[1]\n",
    "            result += 1\n",
    "    return result"
   ]
  },
  {
   "cell_type": "code",
   "execution_count": null,
   "metadata": {},
   "outputs": [],
   "source": [
    "# 순열을 이용하여 풀이\n",
    "from itertools import permutations\n",
    "\n",
    "def solution(k, dungeons):\n",
    "    all_per = []\n",
    "\n",
    "    for i in permutations(dungeons, len(dungeons)):\n",
    "        all_per.append(i)\n",
    "        \n",
    "    \n",
    "    result = []\n",
    "    \n",
    "    for i in range(len(all_per)):\n",
    "        cnt = 0\n",
    "        cp_k = k\n",
    "        for j in all_per[i]:\n",
    "            if cp_k >= j[0]:\n",
    "                cp_k -= j[1]\n",
    "                cnt += 1\n",
    "            else:\n",
    "                break\n",
    "        result.append(cnt)\n",
    "    \n",
    "    return max(result)"
   ]
  },
  {
   "cell_type": "markdown",
   "metadata": {},
   "source": [
    "#### 전력망을 둘로 나누기"
   ]
  },
  {
   "cell_type": "code",
   "execution_count": null,
   "metadata": {},
   "outputs": [],
   "source": [
    "# 다른분 풀이 코드\n",
    "from collections import deque\n",
    "\n",
    "def bfs(graph, start, visited):\n",
    "    # 큐(Queue) 구현을 위해 deque 라이브러리 사용\n",
    "    queue = deque([start])\n",
    "    # 현재 노드를 방문 처리\n",
    "    visited[start] = True\n",
    "    cnt = 0\n",
    "    # 큐가 빌 때까지 반복\n",
    "    while queue:\n",
    "        # 큐에서 하나의 원소를 뽑아 출력\n",
    "        v = queue.popleft()\n",
    "        #print(v, end=' ')\n",
    "        cnt += 1\n",
    "        # 해당 원소와 연결된, 아직 방문하지 않은 원소들을 큐에 삽입\n",
    "        for i in graph[v]:\n",
    "            if not visited[i]:\n",
    "                queue.append(i)\n",
    "                visited[i] = True\n",
    "    return cnt\n",
    "\n",
    "\n",
    "def solution(n, wires):\n",
    "    answer = n - 2 #  두 전력망이 갖게 되는 송전탑의 개수 차이의 절댓값 중 최댓값 (만약 n이 9일때 최대 절댓값은 두 전력망이 1과 8일때 즉 7이된다.)\n",
    "    for i in range(len(wires)):\n",
    "        tmps = wires.copy()\n",
    "        graph = [[] for i in range(n+1)]\n",
    "        visited = [False] * (n+1)\n",
    "        tmps.pop(i) # i번째 전선 제거\n",
    "        for wire in tmps:\n",
    "            x, y = wire\n",
    "            graph[x].append(y)\n",
    "            graph[y].append(x)\n",
    "        for idx,g in enumerate(graph):\n",
    "            if g != []: # n개의 송전탑 중 다른 송전탑과 연결된 송전탑을 시작점으로 지정\n",
    "                start = idx\n",
    "                break\n",
    "        cnts = bfs(graph, start, visited) # bfs를 이용하여 시작점에서 다른 송전탑 탐색함. 이때 탐색 가능한 송전탑 개수를 cnts에 담음(이는 즉 연결된 송전탑의 개수임)\n",
    "        other_cnts = n - cnts # 전력망을 둘로 나눌 때 첫번째 전력망 개수는 cnts이므로 나머지 전력망 개수는 n - cnts로 구한다.\n",
    "        if abs(cnts - other_cnts) < answer:\n",
    "            answer = abs(cnts - other_cnts)\n",
    "    return answer"
   ]
  },
  {
   "cell_type": "markdown",
   "metadata": {},
   "source": [
    "#### 게임 맵 최단거리"
   ]
  },
  {
   "cell_type": "code",
   "execution_count": null,
   "metadata": {},
   "outputs": [],
   "source": [
    "# 다른 분 코드\n",
    "from collections import deque\n",
    "def solution(maps):\n",
    "    answer = 0\n",
    "\n",
    "    # 상하좌우\n",
    "    dx = [-1, 1, 0, 0]\n",
    "    dy = [0, 0, -1, 1]\n",
    "\n",
    "    def bfs(x, y):\n",
    "        queue = deque()\n",
    "        queue.append((x, y))\n",
    "\n",
    "        # queue가 빌 때까지 반복\n",
    "        while queue:\n",
    "            x, y = queue.popleft()\n",
    "\n",
    "            # 상하좌우 칸 확인하기\n",
    "            for i in range(4):\n",
    "                nx = x + dx[i]\n",
    "                ny = y + dy[i]\n",
    "\n",
    "                # 맵을 벗어나면 무시하기\n",
    "                if nx < 0 or nx >= len(maps) or ny < 0 or ny >= len(maps[0]): continue\n",
    "\n",
    "                # 벽이면 무시하기\n",
    "                if maps[nx][ny] == 0:  continue\n",
    "\n",
    "                # 처음 지나가는 길이면 거리계산하고 다시 상하좌우 확인하기\n",
    "                if maps[nx][ny] == 1:\n",
    "                    maps[nx][ny] = maps[x][y] + 1\n",
    "                    queue.append((nx, ny))    # 재귀\n",
    "\n",
    "        # 상대 팀 진영(제일 오른쪽 아래 칸)까지의 거리 반환\n",
    "        return maps[len(maps)-1][len(maps[0])-1]\n",
    "\n",
    "    answer = bfs(0, 0)\n",
    "    return -1 if answer == 1 else answer    # 상대 팀 진영에 도착할 수 없을 때 -1"
   ]
  },
  {
   "cell_type": "markdown",
   "metadata": {},
   "source": [
    "#### 네트워크"
   ]
  },
  {
   "cell_type": "code",
   "execution_count": null,
   "metadata": {},
   "outputs": [],
   "source": [
    "# 다른 분 풀이\n",
    "def solution(n, computers):\n",
    "    visited=[0]*n # 방문 표시 리스트\n",
    "    answer=0 # 연결 성분 개수 초기화\n",
    "    def dfs(pc): # dfs로 연결된 부분 쭉 탐색\n",
    "        visited[pc]=1 # 방문 표시\n",
    "        for idx,c in enumerate(computers[pc]): # 해당 컴퓨터에 연결된 컴퓨터 반복\n",
    "            if c and visited[idx]==0:\n",
    "                dfs(idx)\n",
    "                \n",
    "    for pc in range(n):      # n개의 컴퓨터에 대해 \n",
    "        if visited[pc] == 0: # 방문 안했으면 \n",
    "            dfs(pc)          # dfs 진행\n",
    "            answer+=1        # dfs 1번 진행할때마다 +=1\n",
    "    return answer"
   ]
  }
 ],
 "metadata": {
  "kernelspec": {
   "display_name": "Python 3",
   "language": "python",
   "name": "python3"
  },
  "language_info": {
   "name": "python",
   "version": "3.11.4"
  },
  "orig_nbformat": 4
 },
 "nbformat": 4,
 "nbformat_minor": 2
}
