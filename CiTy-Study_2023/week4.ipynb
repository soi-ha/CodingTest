{
 "cells": [
  {
   "cell_type": "markdown",
   "metadata": {},
   "source": [
    "### 프로그래머스 - 코딩테스트 입문 & 기초\n",
    "\n",
    "#### 외계행성의 나이"
   ]
  },
  {
   "cell_type": "code",
   "execution_count": null,
   "metadata": {},
   "outputs": [],
   "source": [
    "def solution(age):\n",
    "  return \"\".join(chr(int(i) + 97) for i in str(age))"
   ]
  },
  {
   "cell_type": "markdown",
   "metadata": {},
   "source": [
    "#### 특정문자 제거하기"
   ]
  },
  {
   "cell_type": "code",
   "execution_count": null,
   "metadata": {},
   "outputs": [],
   "source": [
    "def solution(my_string, letter):\n",
    "    answer = ''\n",
    "    for i in my_string:\n",
    "        if i != letter:\n",
    "            answer += i\n",
    "    return answer"
   ]
  },
  {
   "cell_type": "markdown",
   "metadata": {},
   "source": [
    "#### 각도기"
   ]
  },
  {
   "cell_type": "code",
   "execution_count": null,
   "metadata": {},
   "outputs": [],
   "source": [
    "def solution(angle):\n",
    "    if angle == 180:\n",
    "        return 4\n",
    "    elif angle > 90:\n",
    "        return 3\n",
    "    elif angle == 90:\n",
    "        return 2\n",
    "    else:\n",
    "        return 1\n",
    "    "
   ]
  },
  {
   "cell_type": "markdown",
   "metadata": {},
   "source": [
    "#### 양꼬치"
   ]
  },
  {
   "cell_type": "code",
   "execution_count": null,
   "metadata": {},
   "outputs": [],
   "source": [
    "def solution(n, k):\n",
    "    k -= n // 10\n",
    "    return (n * 12000) + (k * 2000)"
   ]
  },
  {
   "cell_type": "markdown",
   "metadata": {},
   "source": [
    "#### 짝수의 합"
   ]
  },
  {
   "cell_type": "code",
   "execution_count": null,
   "metadata": {},
   "outputs": [],
   "source": [
    "def solution(n):\n",
    "    answer = 0\n",
    "    for i in range(2,n+1,2):\n",
    "        answer += i\n",
    "    return answer"
   ]
  },
  {
   "cell_type": "markdown",
   "metadata": {},
   "source": [
    "#### 배열 자르기"
   ]
  },
  {
   "cell_type": "code",
   "execution_count": null,
   "metadata": {},
   "outputs": [],
   "source": [
    "def solution(numbers, num1, num2):\n",
    "    return numbers[num1:num2+1]"
   ]
  },
  {
   "cell_type": "markdown",
   "metadata": {},
   "source": [
    "#### a와b 출력하기"
   ]
  },
  {
   "cell_type": "code",
   "execution_count": null,
   "metadata": {},
   "outputs": [],
   "source": [
    "a, b = map(int, input().strip().split(' '))\n",
    "print(f'a = {a}\\nb = {b}')"
   ]
  },
  {
   "cell_type": "markdown",
   "metadata": {},
   "source": [
    "#### 대소문자 바꿔서 출력하기\n",
    "\n",
    "swapcase() : 대문자는 소문자로, 소문자는 대문자로 변환해주는 함수  \n",
    "해당 함수를 사용하면 한 줄로 코딩 가능...\n",
    "```python\n",
    "print(input().swapcase())\n",
    "```"
   ]
  },
  {
   "cell_type": "code",
   "execution_count": null,
   "metadata": {},
   "outputs": [],
   "source": [
    "str = input()\n",
    "result = ''\n",
    "\n",
    "for i in str:\n",
    "    if i.isupper():\n",
    "        result += i.lower()\n",
    "    else:\n",
    "        result += i.upper()\n",
    "\n",
    "print(result)"
   ]
  },
  {
   "cell_type": "markdown",
   "metadata": {},
   "source": [
    "#### 특수문자 출력하기\n",
    "\n",
    "특수문자를 출력하고 싶다면 사용했던 따옴표와 동일한 특수문자 앞에 \\(역슬래쉬) 사용 및 \\(역슬래쉬)는 출력하려면 \\(역슬래쉬)를 한번 더 붙여주기  \n",
    "이 방법 말고, 문자열 앞에 r을 붙여주고 따옴표는 홀따옴표를 사용(쌍따옴표 사용X)  \n",
    "```python\n",
    "print(r'!@#$%^&*(\\'\"<>?:;')\n",
    "```"
   ]
  },
  {
   "cell_type": "code",
   "execution_count": null,
   "metadata": {},
   "outputs": [],
   "source": [
    "print(\"!@#$%^&*(\\\\'\\\"<>?:;\")"
   ]
  },
  {
   "cell_type": "markdown",
   "metadata": {},
   "source": [
    "#### 진료 순서 정하기"
   ]
  },
  {
   "cell_type": "code",
   "execution_count": 5,
   "metadata": {},
   "outputs": [
    {
     "name": "stdout",
     "output_type": "stream",
     "text": [
      "[1, 1, 1]\n",
      "0\n",
      "0\n",
      "2\n"
     ]
    },
    {
     "data": {
      "text/plain": [
       "[3, 1, 2]"
      ]
     },
     "execution_count": 5,
     "metadata": {},
     "output_type": "execute_result"
    }
   ],
   "source": [
    "def solution(emergency):\n",
    "    result = [1]*len(emergency)\n",
    "    for i in range(len(emergency)):\n",
    "        for j in emergency:\n",
    "            if emergency[i] < j :\n",
    "                result[i] += 1\n",
    "            else:\n",
    "                continue\n",
    "    return result\n",
    "\n",
    "solution([3, 76, 24])"
   ]
  },
  {
   "cell_type": "markdown",
   "metadata": {},
   "source": [
    "#### 순서쌍의 종류"
   ]
  },
  {
   "cell_type": "code",
   "execution_count": null,
   "metadata": {},
   "outputs": [],
   "source": [
    "def solution(n):\n",
    "    result = 0\n",
    "    for i in range(1,n+1):\n",
    "        if n % i == 0:\n",
    "            result += 1\n",
    "    return result"
   ]
  },
  {
   "cell_type": "markdown",
   "metadata": {},
   "source": [
    "#### 개미군단"
   ]
  },
  {
   "cell_type": "code",
   "execution_count": null,
   "metadata": {},
   "outputs": [],
   "source": [
    "def solution(hp):\n",
    "    return (hp // 5) + ((hp % 5) // 3) + ((hp % 5) % 3)\n"
   ]
  },
  {
   "cell_type": "markdown",
   "metadata": {},
   "source": [
    "#### 모스부호\n",
    "\n",
    "join을 사용해서 문자를 바로 붙여도 괜찮을 듯"
   ]
  },
  {
   "cell_type": "code",
   "execution_count": null,
   "metadata": {},
   "outputs": [],
   "source": [
    "def solution(letter):\n",
    "    morse = { \n",
    "    '.-':'a','-...':'b','-.-.':'c','-..':'d','.':'e','..-.':'f',\n",
    "    '--.':'g','....':'h','..':'i','.---':'j','-.-':'k','.-..':'l',\n",
    "    '--':'m','-.':'n','---':'o','.--.':'p','--.-':'q','.-.':'r',\n",
    "    '...':'s','-':'t','..-':'u','...-':'v','.--':'w','-..-':'x',\n",
    "    '-.--':'y','--..':'z'\n",
    "    }\n",
    "    result = ''\n",
    "    for i in letter.split():\n",
    "        result += morse[i]\n",
    "    return result"
   ]
  },
  {
   "cell_type": "markdown",
   "metadata": {},
   "source": [
    "#### 가위바위보\n",
    "\n",
    "변환 값들을 딕셔너리로 저장하거나 replace를 통해서 변환하는 것도 좋은 듯"
   ]
  },
  {
   "cell_type": "code",
   "execution_count": null,
   "metadata": {},
   "outputs": [],
   "source": [
    "def solution(rsp):\n",
    "    answer = ''\n",
    "    for i in rsp:\n",
    "        if i == '2':\n",
    "            answer += '0'\n",
    "        elif i == '0':\n",
    "            answer += '5'\n",
    "        else:\n",
    "            answer += '2'\n",
    "    return answer"
   ]
  },
  {
   "cell_type": "markdown",
   "metadata": {},
   "source": [
    "#### 구슬을 나누는 경우의 수\n",
    "\n",
    "for문 대신에 factorial 함수를 사용하자. (있다는 걸 이제 알았다...)  \n",
    "\n",
    "```python\n",
    "import math\n",
    "def solution(balls, share):\n",
    "    return math.factorial(balls)/(math.factorial(balls-share)*math.factorial(share))\n",
    "```\n",
    "\n",
    "조합 함수를 사용하면 매우 쉽다..  \n",
    "\n",
    "```pyhton\n",
    "import math\n",
    "def solution(balls, share):\n",
    "    return math.comb(balls, share)\n",
    "```"
   ]
  },
  {
   "cell_type": "code",
   "execution_count": null,
   "metadata": {},
   "outputs": [],
   "source": [
    "def solution(balls, share):\n",
    "    a = 1\n",
    "    b = 1\n",
    "    c =1\n",
    "    for i in range(1, balls+1):\n",
    "        a *= i\n",
    "    for i in range(1, balls-share + 1):\n",
    "        b *= i\n",
    "    for i in range(1, share + 1):\n",
    "        c *= i\n",
    "    return a / (b * c )"
   ]
  },
  {
   "cell_type": "markdown",
   "metadata": {},
   "source": [
    "#### 문자열 돌리기\n",
    "\n",
    "내가 하고 싶었던 코드  \n",
    "```python\n",
    "print('\\n'.join(input()))\n",
    "```"
   ]
  },
  {
   "cell_type": "code",
   "execution_count": null,
   "metadata": {},
   "outputs": [],
   "source": [
    "str = input()\n",
    "[print(i) for i in str]"
   ]
  },
  {
   "cell_type": "markdown",
   "metadata": {},
   "source": [
    "#### 문자열 겹쳐쓰기\n",
    "\n",
    "replace 함수를 사용해서 통과하고 싶은데 테스트케이스6에서 막힘..."
   ]
  },
  {
   "cell_type": "code",
   "execution_count": 16,
   "metadata": {},
   "outputs": [
    {
     "data": {
      "text/plain": [
       "'bbbbbb'"
      ]
     },
     "execution_count": 16,
     "metadata": {},
     "output_type": "execute_result"
    }
   ],
   "source": [
    "def solution(my_string, overwrite_string, s):\n",
    "    return my_string.replace(my_string[s:s+len(overwrite_string)],overwrite_string)\n",
    "\n",
    "solution( \"aaaaaa\", \"bbb\", 3)"
   ]
  },
  {
   "cell_type": "code",
   "execution_count": null,
   "metadata": {},
   "outputs": [],
   "source": [
    "def solution(my_string, overwrite_string, s):\n",
    "    return my_string[:s] + overwrite_string + my_string[s+len(overwrite_string)::]"
   ]
  },
  {
   "cell_type": "markdown",
   "metadata": {},
   "source": [
    "#### 더 크게 합치기\n",
    "\n",
    "```python\n",
    "int(max(f\"{a}{b}\", f\"{b}{a}\"))\n",
    "```"
   ]
  },
  {
   "cell_type": "code",
   "execution_count": null,
   "metadata": {},
   "outputs": [],
   "source": [
    "def solution(a, b):\n",
    "    if int(str(a) + str(b)) > int(str(b) + str(a)):\n",
    "        return int(str(a) + str(b))\n",
    "    else:\n",
    "        return int(str(b) + str(a))"
   ]
  },
  {
   "cell_type": "markdown",
   "metadata": {},
   "source": [
    "#### 조건 문자열\n",
    "\n",
    "ineq와 eq를 문자열 그대로 사용하고 싶었다.  \n",
    "eval(): 문자열로 된 표현식을 실행한다. "
   ]
  },
  {
   "cell_type": "code",
   "execution_count": null,
   "metadata": {},
   "outputs": [],
   "source": [
    "def solution(ineq, eq, n, m):\n",
    "    if eq == '!':\n",
    "        eq = ''\n",
    "    return 1 if eval(str(n) + ineq+eq + str(m)) else 0"
   ]
  },
  {
   "cell_type": "markdown",
   "metadata": {},
   "source": [
    "#### flag에 따라 다른 값 반환하기\n",
    "\n",
    "```python\n",
    "a + b if flag else a - b\n",
    "```\n",
    "flag 값이 원래 boolean 값이기 때문에.. 그냥 사용하면 되는거였다."
   ]
  },
  {
   "cell_type": "code",
   "execution_count": null,
   "metadata": {},
   "outputs": [],
   "source": [
    "def solution(a, b, flag):\n",
    "    return a + b if flag == bool('true') else a - b"
   ]
  },
  {
   "cell_type": "markdown",
   "metadata": {},
   "source": [
    "#### 코드 처리하기\n",
    "\n",
    "이거 코드 이해 안됨...\n",
    "```python \n",
    "def solution(code):\n",
    "    return \"\".join(code.split(\"1\"))[::2] or \"EMPTY\"\n",
    "```"
   ]
  },
  {
   "cell_type": "code",
   "execution_count": null,
   "metadata": {},
   "outputs": [],
   "source": [
    "def solution(code):\n",
    "    mode = 0\n",
    "    ret = ''\n",
    "    for i in range(len(code)):\n",
    "        if mode == 0:\n",
    "            if (code[i] != '1') & (i % 2 == 0):\n",
    "                ret += code[i]\n",
    "            elif code[i] == '1':\n",
    "                mode = 1\n",
    "        else:\n",
    "            if (code[i] != '1') & (i % 2 != 0):\n",
    "                ret += code[i]\n",
    "            elif code[i] == '1':\n",
    "                mode = 0\n",
    "    return ret if ret != '' else 'EMPTY'\n",
    "                "
   ]
  },
  {
   "cell_type": "markdown",
   "metadata": {},
   "source": [
    "#### 주사위게임2\n",
    "\n",
    "set으로 동일값 추출하여 문제 풀기\n",
    "```python\n",
    "def solution(a, b, c):\n",
    "    check=len(set([a,b,c]))\n",
    "    if check==1:\n",
    "        return 3*a*3*(a**2)*3*(a**3)\n",
    "    elif check==2:\n",
    "        return (a+b+c)*(a**2+b**2+c**2)\n",
    "    else:\n",
    "        return (a+b+c)\n",
    "```"
   ]
  },
  {
   "cell_type": "code",
   "execution_count": null,
   "metadata": {},
   "outputs": [],
   "source": [
    "def solution(a, b, c):\n",
    "    if (a != b) & (a != c) & (b != c):\n",
    "        return a + b + c\n",
    "    elif a == b == c:\n",
    "        return (a+b+c) * (a**2 + b**2 + c**2) * (a**3 + b**3 + c**3)\n",
    "    elif (a != (b == c)) | ((a == b) != c) | ((a == c) != b):\n",
    "        return (a+b+c) * (a**2 + b**2 + c**2)"
   ]
  }
 ],
 "metadata": {
  "kernelspec": {
   "display_name": "Python 3",
   "language": "python",
   "name": "python3"
  },
  "language_info": {
   "codemirror_mode": {
    "name": "ipython",
    "version": 3
   },
   "file_extension": ".py",
   "mimetype": "text/x-python",
   "name": "python",
   "nbconvert_exporter": "python",
   "pygments_lexer": "ipython3",
   "version": "3.11.4"
  },
  "orig_nbformat": 4
 },
 "nbformat": 4,
 "nbformat_minor": 2
}
