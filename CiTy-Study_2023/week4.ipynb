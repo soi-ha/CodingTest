{
 "cells": [
  {
   "cell_type": "markdown",
   "metadata": {},
   "source": [
    "### 프로그래머스 - 코딩테스트 입문 & 기초\n",
    "\n",
    "#### 외계행성의 나이"
   ]
  },
  {
   "cell_type": "code",
   "execution_count": null,
   "metadata": {},
   "outputs": [],
   "source": [
    "def solution(age):\n",
    "  return \"\".join(chr(int(i) + 97) for i in str(age))"
   ]
  },
  {
   "cell_type": "markdown",
   "metadata": {},
   "source": [
    "#### 특정문자 제거하기"
   ]
  },
  {
   "cell_type": "code",
   "execution_count": null,
   "metadata": {},
   "outputs": [],
   "source": [
    "def solution(my_string, letter):\n",
    "    answer = ''\n",
    "    for i in my_string:\n",
    "        if i != letter:\n",
    "            answer += i\n",
    "    return answer"
   ]
  },
  {
   "cell_type": "markdown",
   "metadata": {},
   "source": [
    "#### 각도기"
   ]
  },
  {
   "cell_type": "code",
   "execution_count": null,
   "metadata": {},
   "outputs": [],
   "source": [
    "def solution(angle):\n",
    "    if angle == 180:\n",
    "        return 4\n",
    "    elif angle > 90:\n",
    "        return 3\n",
    "    elif angle == 90:\n",
    "        return 2\n",
    "    else:\n",
    "        return 1\n",
    "    "
   ]
  },
  {
   "cell_type": "markdown",
   "metadata": {},
   "source": [
    "#### 양꼬치"
   ]
  },
  {
   "cell_type": "code",
   "execution_count": null,
   "metadata": {},
   "outputs": [],
   "source": [
    "def solution(n, k):\n",
    "    k -= n // 10\n",
    "    return (n * 12000) + (k * 2000)"
   ]
  },
  {
   "cell_type": "markdown",
   "metadata": {},
   "source": [
    "#### 짝수의 합"
   ]
  },
  {
   "cell_type": "code",
   "execution_count": null,
   "metadata": {},
   "outputs": [],
   "source": [
    "def solution(n):\n",
    "    answer = 0\n",
    "    for i in range(2,n+1,2):\n",
    "        answer += i\n",
    "    return answer"
   ]
  },
  {
   "cell_type": "markdown",
   "metadata": {},
   "source": [
    "#### 배열 자르기"
   ]
  },
  {
   "cell_type": "code",
   "execution_count": null,
   "metadata": {},
   "outputs": [],
   "source": [
    "def solution(numbers, num1, num2):\n",
    "    return numbers[num1:num2+1]"
   ]
  },
  {
   "cell_type": "markdown",
   "metadata": {},
   "source": [
    "#### a와b 출력하기"
   ]
  },
  {
   "cell_type": "code",
   "execution_count": null,
   "metadata": {},
   "outputs": [],
   "source": [
    "a, b = map(int, input().strip().split(' '))\n",
    "print(f'a = {a}\\nb = {b}')"
   ]
  },
  {
   "cell_type": "markdown",
   "metadata": {},
   "source": [
    "#### 대소문자 바꿔서 출력하기\n",
    "\n",
    "swapcase() : 대문자는 소문자로, 소문자는 대문자로 변환해주는 함수  \n",
    "해당 함수를 사용하면 한 줄로 코딩 가능...\n",
    "```python\n",
    "print(input().swapcase())\n",
    "```"
   ]
  },
  {
   "cell_type": "code",
   "execution_count": null,
   "metadata": {},
   "outputs": [],
   "source": [
    "str = input()\n",
    "result = ''\n",
    "\n",
    "for i in str:\n",
    "    if i.isupper():\n",
    "        result += i.lower()\n",
    "    else:\n",
    "        result += i.upper()\n",
    "\n",
    "print(result)"
   ]
  },
  {
   "cell_type": "markdown",
   "metadata": {},
   "source": [
    "#### 특수문자 출력하기\n",
    "\n",
    "특수문자를 출력하고 싶다면 사용했던 따옴표와 동일한 특수문자 앞에 \\(역슬래쉬) 사용 및 \\(역슬래쉬)는 출력하려면 \\(역슬래쉬)를 한번 더 붙여주기  \n",
    "이 방법 말고, 문자열 앞에 r을 붙여주고 따옴표는 홀따옴표를 사용(쌍따옴표 사용X)  \n",
    "```python\n",
    "print(r'!@#$%^&*(\\'\"<>?:;')\n",
    "```"
   ]
  },
  {
   "cell_type": "code",
   "execution_count": null,
   "metadata": {},
   "outputs": [],
   "source": [
    "print(\"!@#$%^&*(\\\\'\\\"<>?:;\")"
   ]
  },
  {
   "cell_type": "markdown",
   "metadata": {},
   "source": [
    "#### 진료 순서 정하기"
   ]
  },
  {
   "cell_type": "code",
   "execution_count": 5,
   "metadata": {},
   "outputs": [
    {
     "name": "stdout",
     "output_type": "stream",
     "text": [
      "[1, 1, 1]\n",
      "0\n",
      "0\n",
      "2\n"
     ]
    },
    {
     "data": {
      "text/plain": [
       "[3, 1, 2]"
      ]
     },
     "execution_count": 5,
     "metadata": {},
     "output_type": "execute_result"
    }
   ],
   "source": [
    "def solution(emergency):\n",
    "    result = [1]*len(emergency)\n",
    "    for i in range(len(emergency)):\n",
    "        for j in emergency:\n",
    "            if emergency[i] < j :\n",
    "                result[i] += 1\n",
    "            else:\n",
    "                continue\n",
    "    return result\n",
    "\n",
    "solution([3, 76, 24])"
   ]
  },
  {
   "cell_type": "markdown",
   "metadata": {},
   "source": [
    "#### 순서쌍의 종류"
   ]
  },
  {
   "cell_type": "code",
   "execution_count": null,
   "metadata": {},
   "outputs": [],
   "source": [
    "def solution(n):\n",
    "    result = 0\n",
    "    for i in range(1,n+1):\n",
    "        if n % i == 0:\n",
    "            result += 1\n",
    "    return result"
   ]
  },
  {
   "cell_type": "markdown",
   "metadata": {},
   "source": [
    "#### 개미군단"
   ]
  },
  {
   "cell_type": "code",
   "execution_count": null,
   "metadata": {},
   "outputs": [],
   "source": [
    "def solution(hp):\n",
    "    return (hp // 5) + ((hp % 5) // 3) + ((hp % 5) % 3)\n"
   ]
  },
  {
   "cell_type": "markdown",
   "metadata": {},
   "source": [
    "#### 모스부호\n",
    "\n",
    "join을 사용해서 문자를 바로 붙여도 괜찮을 듯"
   ]
  },
  {
   "cell_type": "code",
   "execution_count": null,
   "metadata": {},
   "outputs": [],
   "source": [
    "def solution(letter):\n",
    "    morse = { \n",
    "    '.-':'a','-...':'b','-.-.':'c','-..':'d','.':'e','..-.':'f',\n",
    "    '--.':'g','....':'h','..':'i','.---':'j','-.-':'k','.-..':'l',\n",
    "    '--':'m','-.':'n','---':'o','.--.':'p','--.-':'q','.-.':'r',\n",
    "    '...':'s','-':'t','..-':'u','...-':'v','.--':'w','-..-':'x',\n",
    "    '-.--':'y','--..':'z'\n",
    "    }\n",
    "    result = ''\n",
    "    for i in letter.split():\n",
    "        result += morse[i]\n",
    "    return result"
   ]
  },
  {
   "cell_type": "markdown",
   "metadata": {},
   "source": [
    "#### 가위바위보\n",
    "\n",
    "변환 값들을 딕셔너리로 저장하거나 replace를 통해서 변환하는 것도 좋은 듯"
   ]
  },
  {
   "cell_type": "code",
   "execution_count": null,
   "metadata": {},
   "outputs": [],
   "source": [
    "def solution(rsp):\n",
    "    answer = ''\n",
    "    for i in rsp:\n",
    "        if i == '2':\n",
    "            answer += '0'\n",
    "        elif i == '0':\n",
    "            answer += '5'\n",
    "        else:\n",
    "            answer += '2'\n",
    "    return answer"
   ]
  },
  {
   "cell_type": "markdown",
   "metadata": {},
   "source": [
    "#### 구슬을 나누는 경우의 수\n",
    "\n",
    "for문 대신에 factorial 함수를 사용하자. (있다는 걸 이제 알았다...)  \n",
    "\n",
    "```python\n",
    "import math\n",
    "def solution(balls, share):\n",
    "    return math.factorial(balls)/(math.factorial(balls-share)*math.factorial(share))\n",
    "```\n",
    "\n",
    "조합 함수를 사용하면 매우 쉽다..  \n",
    "\n",
    "```pyhton\n",
    "import math\n",
    "def solution(balls, share):\n",
    "    return math.comb(balls, share)\n",
    "```"
   ]
  },
  {
   "cell_type": "code",
   "execution_count": null,
   "metadata": {},
   "outputs": [],
   "source": [
    "def solution(balls, share):\n",
    "    a = 1\n",
    "    b = 1\n",
    "    c =1\n",
    "    for i in range(1, balls+1):\n",
    "        a *= i\n",
    "    for i in range(1, balls-share + 1):\n",
    "        b *= i\n",
    "    for i in range(1, share + 1):\n",
    "        c *= i\n",
    "    return a / (b * c )"
   ]
  },
  {
   "cell_type": "markdown",
   "metadata": {},
   "source": [
    "#### 문자열 돌리기\n",
    "\n",
    "내가 하고 싶었던 코드  \n",
    "```python\n",
    "print('\\n'.join(input()))\n",
    "```"
   ]
  },
  {
   "cell_type": "code",
   "execution_count": null,
   "metadata": {},
   "outputs": [],
   "source": [
    "str = input()\n",
    "[print(i) for i in str]"
   ]
  },
  {
   "cell_type": "markdown",
   "metadata": {},
   "source": [
    "#### 문자열 겹쳐쓰기\n",
    "\n",
    "replace 함수를 사용해서 통과하고 싶은데 테스트케이스6에서 막힘..."
   ]
  },
  {
   "cell_type": "code",
   "execution_count": 16,
   "metadata": {},
   "outputs": [
    {
     "data": {
      "text/plain": [
       "'bbbbbb'"
      ]
     },
     "execution_count": 16,
     "metadata": {},
     "output_type": "execute_result"
    }
   ],
   "source": [
    "def solution(my_string, overwrite_string, s):\n",
    "    return my_string.replace(my_string[s:s+len(overwrite_string)],overwrite_string)\n",
    "\n",
    "solution( \"aaaaaa\", \"bbb\", 3)"
   ]
  },
  {
   "cell_type": "code",
   "execution_count": null,
   "metadata": {},
   "outputs": [],
   "source": [
    "def solution(my_string, overwrite_string, s):\n",
    "    return my_string[:s] + overwrite_string + my_string[s+len(overwrite_string)::]"
   ]
  },
  {
   "cell_type": "markdown",
   "metadata": {},
   "source": [
    "#### 더 크게 합치기\n",
    "\n",
    "```python\n",
    "int(max(f\"{a}{b}\", f\"{b}{a}\"))\n",
    "```"
   ]
  },
  {
   "cell_type": "code",
   "execution_count": null,
   "metadata": {},
   "outputs": [],
   "source": [
    "def solution(a, b):\n",
    "    if int(str(a) + str(b)) > int(str(b) + str(a)):\n",
    "        return int(str(a) + str(b))\n",
    "    else:\n",
    "        return int(str(b) + str(a))"
   ]
  },
  {
   "cell_type": "markdown",
   "metadata": {},
   "source": [
    "#### 조건 문자열\n",
    "\n",
    "ineq와 eq를 문자열 그대로 사용하고 싶었다.  \n",
    "eval(): 문자열로 된 표현식을 실행한다. "
   ]
  },
  {
   "cell_type": "code",
   "execution_count": null,
   "metadata": {},
   "outputs": [],
   "source": [
    "def solution(ineq, eq, n, m):\n",
    "    if eq == '!':\n",
    "        eq = ''\n",
    "    return 1 if eval(str(n) + ineq+eq + str(m)) else 0"
   ]
  },
  {
   "cell_type": "markdown",
   "metadata": {},
   "source": [
    "#### flag에 따라 다른 값 반환하기\n",
    "\n",
    "```python\n",
    "a + b if flag else a - b\n",
    "```\n",
    "flag 값이 원래 boolean 값이기 때문에.. 그냥 사용하면 되는거였다."
   ]
  },
  {
   "cell_type": "code",
   "execution_count": null,
   "metadata": {},
   "outputs": [],
   "source": [
    "def solution(a, b, flag):\n",
    "    return a + b if flag == bool('true') else a - b"
   ]
  },
  {
   "cell_type": "markdown",
   "metadata": {},
   "source": [
    "#### 코드 처리하기\n",
    "\n",
    "이거 코드 이해 안됨...\n",
    "```python \n",
    "def solution(code):\n",
    "    return \"\".join(code.split(\"1\"))[::2] or \"EMPTY\"\n",
    "```"
   ]
  },
  {
   "cell_type": "code",
   "execution_count": null,
   "metadata": {},
   "outputs": [],
   "source": [
    "def solution(code):\n",
    "    mode = 0\n",
    "    ret = ''\n",
    "    for i in range(len(code)):\n",
    "        if mode == 0:\n",
    "            if (code[i] != '1') & (i % 2 == 0):\n",
    "                ret += code[i]\n",
    "            elif code[i] == '1':\n",
    "                mode = 1\n",
    "        else:\n",
    "            if (code[i] != '1') & (i % 2 != 0):\n",
    "                ret += code[i]\n",
    "            elif code[i] == '1':\n",
    "                mode = 0\n",
    "    return ret if ret != '' else 'EMPTY'\n",
    "                "
   ]
  },
  {
   "cell_type": "markdown",
   "metadata": {},
   "source": [
    "#### 주사위게임2\n",
    "\n",
    "set으로 동일값 추출하여 문제 풀기\n",
    "```python\n",
    "def solution(a, b, c):\n",
    "    check=len(set([a,b,c]))\n",
    "    if check==1:\n",
    "        return 3*a*3*(a**2)*3*(a**3)\n",
    "    elif check==2:\n",
    "        return (a+b+c)*(a**2+b**2+c**2)\n",
    "    else:\n",
    "        return (a+b+c)\n",
    "```"
   ]
  },
  {
   "cell_type": "code",
   "execution_count": null,
   "metadata": {},
   "outputs": [],
   "source": [
    "def solution(a, b, c):\n",
    "    if (a != b) & (a != c) & (b != c):\n",
    "        return a + b + c\n",
    "    elif a == b == c:\n",
    "        return (a+b+c) * (a**2 + b**2 + c**2) * (a**3 + b**3 + c**3)\n",
    "    elif (a != (b == c)) | ((a == b) != c) | ((a == c) != b):\n",
    "        return (a+b+c) * (a**2 + b**2 + c**2)"
   ]
  },
  {
   "cell_type": "markdown",
   "metadata": {},
   "source": [
    "#### 2차원으로 만들기\n",
    "\n",
    "이중리스트를 선언할 때 '*' 로 선언을 하게 되면 '얕은 복사'가 된다.  \n",
    "0번째 리스트의 0번째 인덱스(arr[0][0])의 값을 0에서 1로 변경하게 되면, 뒤의 복사된 다른 배열들의 0번째 값도 같이 변경된다.  \n",
    "[[0,0],[0,0]] => [[1,0],[1,0]]  \n",
    "따라서 해당 방법은 지양하는 것이 좋다.  \n",
    "\n",
    "간결화 코드\n",
    "```python\n",
    "def list_chunk(lst, n):\n",
    "  return [lst[i:i+n] for i in range(0, len(lst), n)]\n",
    "```"
   ]
  },
  {
   "cell_type": "code",
   "execution_count": 37,
   "metadata": {},
   "outputs": [
    {
     "data": {
      "text/plain": [
       "[[1, 2], [3, 4], [5, 6], [7, 8]]"
      ]
     },
     "execution_count": 37,
     "metadata": {},
     "output_type": "execute_result"
    }
   ],
   "source": [
    "def solution(num_list, n):\n",
    "    result = [[] for j in range(len(num_list) // n)] \n",
    "    for i in range(len(num_list)):\n",
    "        result[i // n].append(num_list[i])\n",
    "        \n",
    "    return result\n",
    "\n",
    "solution([1,2,3,4,5,6,7,8],2)\n"
   ]
  },
  {
   "cell_type": "markdown",
   "metadata": {},
   "source": [
    "#### 공던지기"
   ]
  },
  {
   "cell_type": "code",
   "execution_count": null,
   "metadata": {},
   "outputs": [],
   "source": [
    "def solution(numbers, k):\n",
    "    return numbers[2*(k-1) % len(numbers)]"
   ]
  },
  {
   "cell_type": "markdown",
   "metadata": {},
   "source": [
    "#### 배열 회전시키기\n",
    "\n",
    "간단하게 한줄로\n",
    "```python\n",
    "def solution(numbers, direction):\n",
    "    return [numbers[-1]] + numbers[:-1] if direction == 'right' else numbers[1:] + [numbers[0]]\n",
    "```"
   ]
  },
  {
   "cell_type": "code",
   "execution_count": null,
   "metadata": {},
   "outputs": [],
   "source": [
    "def solution(numbers, direction):\n",
    "    if direction == 'right':\n",
    "        result = numbers[0:len(numbers)-1]\n",
    "        result.insert(0,numbers[len(numbers)-1])\n",
    "    else:\n",
    "        result = numbers[1:len(numbers)]\n",
    "        result.append(numbers[0])\n",
    "    return result"
   ]
  },
  {
   "cell_type": "code",
   "execution_count": null,
   "metadata": {},
   "outputs": [],
   "source": [
    "# 위의 코드를 조금 더 간결하게\n",
    "# numbers[0]을 그냥 +로 붙이는건 불가능, int + list 이기 때문에, 따라서 int값을 list로 감싸기\n",
    "def solution(numbers, direction):\n",
    "    if direction == 'right':\n",
    "        result = [numbers[len(numbers)-1]] + numbers[0:len(numbers)-1]\n",
    "    else:\n",
    "        result = numbers[1:len(numbers)] + [numbers[0]]\n",
    "    return result"
   ]
  },
  {
   "cell_type": "markdown",
   "metadata": {},
   "source": [
    "#### 합성수 찾기"
   ]
  },
  {
   "cell_type": "code",
   "execution_count": null,
   "metadata": {},
   "outputs": [],
   "source": [
    "def solution(n):\n",
    "    result = 0\n",
    "    # 1,2,3은 약수의 개수가 3 이상이 나올 수 없으므로 4부터 찾기 시작\n",
    "    for i in range(4,n+1):\n",
    "        # 약수는 1을 무조건 포함하므로 0이 아닌 1부터 시작\n",
    "        divisor = 1\n",
    "        # 약수 구하기, 1은 무조건 포함하기에 2부터 찾기 시작\n",
    "        for j in range(2,i+1):\n",
    "            # 나머지가 0이라면 약수\n",
    "            if i % j == 0:\n",
    "                divisor += 1\n",
    "            # 약수의 개수가 3이라면 문제상 이 이상은 더 볼 필요가 없으므로 result에 값을 추가하고 반복문 빠져나옴\n",
    "            if divisor == 3:\n",
    "                result += 1\n",
    "                break\n",
    "    return result"
   ]
  },
  {
   "cell_type": "markdown",
   "metadata": {},
   "source": [
    "#### 최댓값 만들기\n",
    "\n",
    "정렬을 사용하면 더 쉽다..\n",
    "\n",
    "```python\n",
    "def solution(numbers):\n",
    "    numbers.sort()\n",
    "    return numbers[-2] * numbers[-1]\n",
    "\n",
    "```"
   ]
  },
  {
   "cell_type": "code",
   "execution_count": null,
   "metadata": {},
   "outputs": [],
   "source": [
    "def solution(numbers):\n",
    "    a = max(numbers)\n",
    "    numbers.remove(a)\n",
    "    return a * max(numbers)"
   ]
  },
  {
   "cell_type": "markdown",
   "metadata": {},
   "source": [
    "#### 팩토리얼"
   ]
  },
  {
   "cell_type": "code",
   "execution_count": null,
   "metadata": {},
   "outputs": [],
   "source": [
    "import math\n",
    "\n",
    "def solution(n):\n",
    "    i = 1\n",
    "    result = []\n",
    "\n",
    "    while True:\n",
    "        # i 팩토리얼의 값이 n보다 작거나 같으면 result에 i 추가\n",
    "        if math.factorial(i) <= n:\n",
    "            result.append(i)\n",
    "        else:\n",
    "            # 팩토리얼 값이 n보다 크면 반복문 종료\n",
    "            break\n",
    "        # i 값 증가시키기\n",
    "        i += 1\n",
    "            \n",
    "    return max(result)"
   ]
  },
  {
   "cell_type": "markdown",
   "metadata": {},
   "source": [
    "#### 마지막 두 원소"
   ]
  },
  {
   "cell_type": "code",
   "execution_count": null,
   "metadata": {},
   "outputs": [],
   "source": [
    "def solution(num_list):\n",
    "    if num_list[-1] > num_list[-2]:\n",
    "        num_list.append(num_list[-1] - num_list[-2])\n",
    "    else:\n",
    "        num_list.append(num_list[-1] * 2)\n",
    "    return num_list"
   ]
  },
  {
   "cell_type": "markdown",
   "metadata": {},
   "source": [
    "#### 수 조작하기\n",
    "\n",
    "딕셔너리를 사용하면 더 간결하고 좋을 듯\n",
    "```python \n",
    "def solution(n, control):\n",
    "    answer = n\n",
    "    c = { 'w':1, 's':-1, 'd':10, 'a':-10}\n",
    "    for i in control:\n",
    "        answer += c[i]\n",
    "    return answer\n",
    "```"
   ]
  },
  {
   "cell_type": "code",
   "execution_count": null,
   "metadata": {},
   "outputs": [],
   "source": [
    "def solution(n, control):\n",
    "    for i in control:\n",
    "        if i == 'w':\n",
    "            n += 1\n",
    "        elif i == 's':\n",
    "            n -= 1\n",
    "        elif i == 'd':\n",
    "            n += 10\n",
    "        else:\n",
    "            n -= 10\n",
    "    return n"
   ]
  },
  {
   "cell_type": "markdown",
   "metadata": {},
   "source": [
    "#### 수 조작하기2"
   ]
  },
  {
   "cell_type": "code",
   "execution_count": null,
   "metadata": {},
   "outputs": [],
   "source": [
    "def solution(numLog):\n",
    "    result = ''\n",
    "    dic = { 1:'w', -1:'s', 10:'d', -10:'a'}\n",
    "    for i in range(1, len(numLog)):\n",
    "      result += dic[numLog[i] - numLog[i-1]]\n",
    "    return result\n",
    "        "
   ]
  },
  {
   "cell_type": "markdown",
   "metadata": {},
   "source": [
    "#### 수열과 구간쿼리3"
   ]
  },
  {
   "cell_type": "code",
   "execution_count": null,
   "metadata": {},
   "outputs": [],
   "source": [
    "def solution(arr, queries):\n",
    "    for i in queries:\n",
    "        a = arr[i[0]]\n",
    "        arr[i[0]] = arr[i[1]]\n",
    "        arr[i[1]] = a\n",
    "    return arr"
   ]
  },
  {
   "cell_type": "code",
   "execution_count": null,
   "metadata": {},
   "outputs": [],
   "source": [
    "\n",
    "# 더 간단하게 풀이 (다른 사람 코드 참고)\n",
    "def solution(arr, queries):\n",
    "    for a,b in queries:\n",
    "        arr[a],arr[b]=arr[b],arr[a]\n",
    "    return arr"
   ]
  },
  {
   "cell_type": "markdown",
   "metadata": {},
   "source": [
    "#### 수열과 구간쿼리2"
   ]
  },
  {
   "cell_type": "code",
   "execution_count": null,
   "metadata": {},
   "outputs": [],
   "source": [
    "def solution(arr, queries):\n",
    "    result = []\n",
    "    for s,e,k in queries:\n",
    "        newArr = arr[s:e+1]\n",
    "        for i in sorted(newArr):\n",
    "            if k < i:\n",
    "                result.append(i)\n",
    "                break\n",
    "            if i == max(sorted(newArr)):\n",
    "                result.append(-1)\n",
    "    return result"
   ]
  },
  {
   "cell_type": "markdown",
   "metadata": {},
   "source": [
    "### Lev1\n",
    "#### 행렬의 덧셈"
   ]
  },
  {
   "cell_type": "code",
   "execution_count": null,
   "metadata": {},
   "outputs": [],
   "source": [
    "def solution(arr1, arr2):\n",
    "    answer = []\n",
    "    for i in range(len(arr1)):\n",
    "        answer.append([])\n",
    "        for j in range(len(arr1[i])):\n",
    "            answer[i].append(arr1[i][j] + arr2[i][j])\n",
    "    return answer"
   ]
  },
  {
   "cell_type": "markdown",
   "metadata": {},
   "source": [
    "#### 직사각형 별찍기"
   ]
  },
  {
   "cell_type": "code",
   "execution_count": null,
   "metadata": {},
   "outputs": [],
   "source": [
    "a, b = map(int, input().strip().split(' '))\n",
    "star = '*'*a+'\\n'\n",
    "print(star*b)"
   ]
  },
  {
   "cell_type": "markdown",
   "metadata": {},
   "source": [
    "#### 최대공약수와 최소공배수"
   ]
  },
  {
   "cell_type": "code",
   "execution_count": 39,
   "metadata": {},
   "outputs": [
    {
     "data": {
      "text/plain": [
       "[3, 12]"
      ]
     },
     "execution_count": 39,
     "metadata": {},
     "output_type": "execute_result"
    }
   ],
   "source": [
    "# 프로그래머스의 python 버전은 3.8.5 / lcm 업데이트는 3.9.0이라 해당 코드는 프로그래머스에서 작동하지 않음\n",
    "import math\n",
    "def solution(n, m):\n",
    "    return [math.gcd(n,m), math.lcm(n,m)]\n",
    "\n",
    "solution(3,12)"
   ]
  },
  {
   "cell_type": "markdown",
   "metadata": {},
   "source": [
    "#### 최대공약수와 최소공배수"
   ]
  },
  {
   "cell_type": "code",
   "execution_count": null,
   "metadata": {},
   "outputs": [],
   "source": [
    "def solution(n, m):\n",
    "    result = []\n",
    "    \n",
    "    # 최대공약수\n",
    "    def gcd(a):\n",
    "        gcd_list = []\n",
    "        for i in range(1,a+1):\n",
    "            if a % i == 0:\n",
    "                gcd_list.append(i)\n",
    "        return gcd_list\n",
    "    \n",
    "    # 공통 최대공약수 찾기\n",
    "    temp = []\n",
    "    for i in reversed(gcd(n)):\n",
    "        for j in reversed(gcd(m)):\n",
    "            if i == j:\n",
    "                temp.append(i)\n",
    "                break\n",
    "    result.append(temp[0])\n",
    "    \n",
    "    # 최소공배수\n",
    "    result.append(n*m / temp[0])\n",
    "    \n",
    "    return result"
   ]
  },
  {
   "cell_type": "markdown",
   "metadata": {},
   "source": [
    "#### 3진법 뒤집기"
   ]
  },
  {
   "cell_type": "code",
   "execution_count": null,
   "metadata": {},
   "outputs": [],
   "source": [
    "def solution(n):\n",
    "    # 앞뒤 반전 3진법 저장하기\n",
    "    arr = ''\n",
    "    while True:\n",
    "        if n // 3 == 0:\n",
    "            arr += str(n % 3)\n",
    "            break\n",
    "        arr += str(n % 3)\n",
    "        n = n // 3\n",
    "            \n",
    "    # 10진법으로 표현\n",
    "    result = 0\n",
    "    for i in range(1,len(arr)+1):\n",
    "        result += int(arr[-i]) * (3 ** (i-1))\n",
    "        \n",
    "    return result"
   ]
  },
  {
   "cell_type": "code",
   "execution_count": null,
   "metadata": {},
   "outputs": [],
   "source": [
    "\n",
    "# 참고할 다른 사람 코드 \n",
    "# int(tmp,3)이 tmp 문자열을 3진수로 만들어준다.\n",
    "def solution(n):\n",
    "    tmp = ''\n",
    "    while n:\n",
    "        tmp += str(n % 3)\n",
    "        n = n // 3\n",
    "\n",
    "    answer = int(tmp, 3)\n",
    "    return answer"
   ]
  },
  {
   "cell_type": "markdown",
   "metadata": {},
   "source": [
    "#### 같은 숫자는 싫어\n",
    "\n",
    "pop(): 맨 마지막 요소를 리턴하고 삭제"
   ]
  },
  {
   "cell_type": "code",
   "execution_count": null,
   "metadata": {},
   "outputs": [],
   "source": [
    "def solution(arr):\n",
    "    answer = []\n",
    "    for i in range(len(arr)-1):\n",
    "        if arr[i] != arr[i+1]:\n",
    "            answer.append(arr[i])\n",
    "    answer.append(arr.pop())\n",
    "    \n",
    "    return answer"
   ]
  },
  {
   "cell_type": "code",
   "execution_count": null,
   "metadata": {},
   "outputs": [],
   "source": [
    "# 처음에 풀고 싶었던 코드 방식 (해당 코드는 다른 사람 풀이)\n",
    "def no_continuous(s):\n",
    "    a = []\n",
    "    for i in s:\n",
    "        if a[-1:] == [i]: continue\n",
    "        a.append(i)\n",
    "    return a"
   ]
  },
  {
   "cell_type": "markdown",
   "metadata": {},
   "source": [
    "### 입문 Day12\n",
    "#### 문자열 정렬하기(1)"
   ]
  },
  {
   "cell_type": "code",
   "execution_count": 43,
   "metadata": {},
   "outputs": [
    {
     "name": "stdout",
     "output_type": "stream",
     "text": [
      "[3, 3, 3]\n"
     ]
    }
   ],
   "source": [
    "def solution(my_string):\n",
    "    result = []\n",
    "    for i in my_string:\n",
    "        if 48 <= ord(i) and ord(i) <= 57:\n",
    "            result.append(int(i))\n",
    "    return sorted(result)"
   ]
  },
  {
   "cell_type": "markdown",
   "metadata": {},
   "source": [
    "#### 숨어있는 숫자의 덧셈(1)\n",
    "\n",
    "str.isdigit()  \n",
    "문자열이 '숫자'로만 이루어져있는지 확인하는 함수  \n",
    "문자가 '단 하나'라도 있다면 False를 반환하고, 모든 문자가 '숫자'로만 이루어져있으면 True를 반환\n",
    "\n",
    "사용법  \n",
    "1, str.isdigit(\"판단하고자 하는 문자열\")  \n",
    "2, \"판단하고자 하는 문자열\".isdigit()"
   ]
  },
  {
   "cell_type": "code",
   "execution_count": null,
   "metadata": {},
   "outputs": [],
   "source": [
    "def solution(my_string):\n",
    "    result = 0\n",
    "    for i in my_string:\n",
    "        if 48 <= ord(i) and ord(i) <= 57:\n",
    "            result += int(i)\n",
    "    return result"
   ]
  },
  {
   "cell_type": "code",
   "execution_count": null,
   "metadata": {},
   "outputs": [],
   "source": [
    "\n",
    "# 다른 사람 풀이\n",
    "def solution(my_string):\n",
    "    return sum(int(i) for i in my_string if i.isdigit())"
   ]
  }
 ],
 "metadata": {
  "kernelspec": {
   "display_name": "Python 3",
   "language": "python",
   "name": "python3"
  },
  "language_info": {
   "codemirror_mode": {
    "name": "ipython",
    "version": 3
   },
   "file_extension": ".py",
   "mimetype": "text/x-python",
   "name": "python",
   "nbconvert_exporter": "python",
   "pygments_lexer": "ipython3",
   "version": "3.11.4"
  },
  "orig_nbformat": 4
 },
 "nbformat": 4,
 "nbformat_minor": 2
}
